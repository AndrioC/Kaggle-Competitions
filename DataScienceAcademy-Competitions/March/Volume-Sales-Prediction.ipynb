{
 "cells": [
  {
   "cell_type": "markdown",
   "metadata": {},
   "source": [
    "# 3rd place - Data Science Academy Competition in Machine Learning - Month: March/2019\n",
    "\n",
    "\n",
    "\n",
    "### Created by: Andrio Corrêa\n",
    "\n",
    "### Contact-me: andrio.rodrigo.silva@hotmail.com"
   ]
  },
  {
   "cell_type": "code",
   "execution_count": 1,
   "metadata": {},
   "outputs": [],
   "source": [
    "#Importing important modules\n",
    "import pandas as pd\n",
    "import numpy as np\n",
    "import matplotlib.pyplot as plt\n",
    "import seaborn as sns\n",
    "import random\n",
    "from sklearn.preprocessing import LabelEncoder\n",
    "%matplotlib inline"
   ]
  },
  {
   "cell_type": "code",
   "execution_count": 2,
   "metadata": {},
   "outputs": [
    {
     "name": "stderr",
     "output_type": "stream",
     "text": [
      "/home/andrio/anaconda3/lib/python3.6/site-packages/IPython/core/interactiveshell.py:2785: DtypeWarning: Columns (7) have mixed types. Specify dtype option on import or set low_memory=False.\n",
      "  interactivity=interactivity, compiler=compiler, result=result)\n"
     ]
    }
   ],
   "source": [
    "#Loading data\n",
    "stores = pd.read_csv(\"datasets/lojas.csv\")\n",
    "df_a = pd.read_csv(\"datasets/dataset_treino_1.csv\")\n",
    "df_b = pd.read_csv(\"datasets/dataset_treino_2.csv\")\n",
    "stores_train_data = pd.concat([df_a, df_b])\n",
    "stores_test_data = pd.read_csv(\"datasets/dataset_teste.csv\")\n",
    "stores_y_train_data = stores_train_data['Sales']"
   ]
  },
  {
   "cell_type": "markdown",
   "metadata": {},
   "source": [
    "# Knowing Dataset Attributes"
   ]
  },
  {
   "cell_type": "markdown",
   "metadata": {},
   "source": [
    "- __ID__ - an ID representing a tuple (Store, Date) within the dataset\n",
    "- __Store__ - a unique ID for each store\n",
    "- __Sales__ - the sales volume of a given day (this is what you are predicting)\n",
    "- __Customers__ - the number of customers on a given day\n",
    "- __Open__ - an indicator for whether the store was open: 0 = closed, 1 = open\n",
    "- __StateHoliday__ - indicates a state holiday. Normally, all stores, with few exceptions, are closed on state holidays. Please note that all schools are closed on holidays and weekends. a = public holiday, b = easter holiday, c = christmas, 0 = none\n",
    "- __SchoolHoliday__ - indicates whether (Store, Date) was affected by the closure of public schools\n",
    "- __StoreType__ - differentiates between 4 different store models: a, b, c, d\n",
    "- __Assortment__ - describes a level: a = basic, b = extra, c = extended\n",
    "- __CompetitionDistance__ - distance in meters to nearest store closest competitor\n",
    "- __CompetitionOpenSince[Month/Year]__ - indicates the approximate year and month of the time the closest competitor was opened\n",
    "- __Promo__ - indicates whether a store is running a promotion on that day\n",
    "- __Promo2__ - continuous and consecutive promotion for some stores: 0 = store is not participating, 1 = store is participating\n",
    "- __Promo2Since[Year/Week]__ - describes the calendar year and week in which the store started participating in Promo2\n",
    "- __PromoInterval__ - describes the consecutive intervals that Promo2 starts, indicating the months in which the promotion is started again. For example. \"Feb, May, Aug, Nov\" means that each round starts in February, May, August, November of any year for that store."
   ]
  },
  {
   "cell_type": "markdown",
   "metadata": {},
   "source": [
    "# Introduction"
   ]
  },
  {
   "cell_type": "markdown",
   "metadata": {},
   "source": [
    "Solar is a network of drug stores that operates with more than 3,000 establishments in 7 countries. Currently, managers at each Solar Drug Store have the task of forecasting their daily sales up to six weeks in advance.\n",
    "\n",
    "In-store sales are influenced by a number of factors, including promotions, competitors, school and state holidays, seasonality, and location. With thousands of managers predicting sales based on their unique circumstances, the accuracy of the results can be quite varied."
   ]
  },
  {
   "cell_type": "markdown",
   "metadata": {},
   "source": [
    "### Aim"
   ]
  },
  {
   "cell_type": "markdown",
   "metadata": {},
   "source": [
    "It will first be necessary to clean the dataset data, this includes removing columns with multiple null data or even rows, replacing this data may also be another solution.\n",
    "\n",
    "The main objective of this challenge is to be able to select the best attributes that can serve as the basis for achieving a prediction related to the daily sales volume. The manager knows the sales volume of a day with up to 6 weeks in advance."
   ]
  },
  {
   "cell_type": "markdown",
   "metadata": {},
   "source": [
    "# Exploratory Data Analysis"
   ]
  },
  {
   "cell_type": "code",
   "execution_count": 3,
   "metadata": {},
   "outputs": [
    {
     "data": {
      "text/html": [
       "<div>\n",
       "<style scoped>\n",
       "    .dataframe tbody tr th:only-of-type {\n",
       "        vertical-align: middle;\n",
       "    }\n",
       "\n",
       "    .dataframe tbody tr th {\n",
       "        vertical-align: top;\n",
       "    }\n",
       "\n",
       "    .dataframe thead th {\n",
       "        text-align: right;\n",
       "    }\n",
       "</style>\n",
       "<table border=\"1\" class=\"dataframe\">\n",
       "  <thead>\n",
       "    <tr style=\"text-align: right;\">\n",
       "      <th></th>\n",
       "      <th>Store</th>\n",
       "      <th>StoreType</th>\n",
       "      <th>Assortment</th>\n",
       "      <th>CompetitionDistance</th>\n",
       "      <th>CompetitionOpenSinceMonth</th>\n",
       "      <th>CompetitionOpenSinceYear</th>\n",
       "      <th>Promo2</th>\n",
       "      <th>Promo2SinceWeek</th>\n",
       "      <th>Promo2SinceYear</th>\n",
       "      <th>PromoInterval</th>\n",
       "    </tr>\n",
       "  </thead>\n",
       "  <tbody>\n",
       "    <tr>\n",
       "      <th>0</th>\n",
       "      <td>1</td>\n",
       "      <td>c</td>\n",
       "      <td>a</td>\n",
       "      <td>1270.0</td>\n",
       "      <td>9.0</td>\n",
       "      <td>2008.0</td>\n",
       "      <td>0</td>\n",
       "      <td>NaN</td>\n",
       "      <td>NaN</td>\n",
       "      <td>NaN</td>\n",
       "    </tr>\n",
       "    <tr>\n",
       "      <th>1</th>\n",
       "      <td>2</td>\n",
       "      <td>a</td>\n",
       "      <td>a</td>\n",
       "      <td>570.0</td>\n",
       "      <td>11.0</td>\n",
       "      <td>2007.0</td>\n",
       "      <td>1</td>\n",
       "      <td>13.0</td>\n",
       "      <td>2010.0</td>\n",
       "      <td>Jan,Apr,Jul,Oct</td>\n",
       "    </tr>\n",
       "    <tr>\n",
       "      <th>2</th>\n",
       "      <td>3</td>\n",
       "      <td>a</td>\n",
       "      <td>a</td>\n",
       "      <td>14130.0</td>\n",
       "      <td>12.0</td>\n",
       "      <td>2006.0</td>\n",
       "      <td>1</td>\n",
       "      <td>14.0</td>\n",
       "      <td>2011.0</td>\n",
       "      <td>Jan,Apr,Jul,Oct</td>\n",
       "    </tr>\n",
       "    <tr>\n",
       "      <th>3</th>\n",
       "      <td>4</td>\n",
       "      <td>c</td>\n",
       "      <td>c</td>\n",
       "      <td>620.0</td>\n",
       "      <td>9.0</td>\n",
       "      <td>2009.0</td>\n",
       "      <td>0</td>\n",
       "      <td>NaN</td>\n",
       "      <td>NaN</td>\n",
       "      <td>NaN</td>\n",
       "    </tr>\n",
       "    <tr>\n",
       "      <th>4</th>\n",
       "      <td>5</td>\n",
       "      <td>a</td>\n",
       "      <td>a</td>\n",
       "      <td>29910.0</td>\n",
       "      <td>4.0</td>\n",
       "      <td>2015.0</td>\n",
       "      <td>0</td>\n",
       "      <td>NaN</td>\n",
       "      <td>NaN</td>\n",
       "      <td>NaN</td>\n",
       "    </tr>\n",
       "    <tr>\n",
       "      <th>5</th>\n",
       "      <td>6</td>\n",
       "      <td>a</td>\n",
       "      <td>a</td>\n",
       "      <td>310.0</td>\n",
       "      <td>12.0</td>\n",
       "      <td>2013.0</td>\n",
       "      <td>0</td>\n",
       "      <td>NaN</td>\n",
       "      <td>NaN</td>\n",
       "      <td>NaN</td>\n",
       "    </tr>\n",
       "    <tr>\n",
       "      <th>6</th>\n",
       "      <td>7</td>\n",
       "      <td>a</td>\n",
       "      <td>c</td>\n",
       "      <td>24000.0</td>\n",
       "      <td>4.0</td>\n",
       "      <td>2013.0</td>\n",
       "      <td>0</td>\n",
       "      <td>NaN</td>\n",
       "      <td>NaN</td>\n",
       "      <td>NaN</td>\n",
       "    </tr>\n",
       "    <tr>\n",
       "      <th>7</th>\n",
       "      <td>8</td>\n",
       "      <td>a</td>\n",
       "      <td>a</td>\n",
       "      <td>7520.0</td>\n",
       "      <td>10.0</td>\n",
       "      <td>2014.0</td>\n",
       "      <td>0</td>\n",
       "      <td>NaN</td>\n",
       "      <td>NaN</td>\n",
       "      <td>NaN</td>\n",
       "    </tr>\n",
       "    <tr>\n",
       "      <th>8</th>\n",
       "      <td>9</td>\n",
       "      <td>a</td>\n",
       "      <td>c</td>\n",
       "      <td>2030.0</td>\n",
       "      <td>8.0</td>\n",
       "      <td>2000.0</td>\n",
       "      <td>0</td>\n",
       "      <td>NaN</td>\n",
       "      <td>NaN</td>\n",
       "      <td>NaN</td>\n",
       "    </tr>\n",
       "    <tr>\n",
       "      <th>9</th>\n",
       "      <td>10</td>\n",
       "      <td>a</td>\n",
       "      <td>a</td>\n",
       "      <td>3160.0</td>\n",
       "      <td>9.0</td>\n",
       "      <td>2009.0</td>\n",
       "      <td>0</td>\n",
       "      <td>NaN</td>\n",
       "      <td>NaN</td>\n",
       "      <td>NaN</td>\n",
       "    </tr>\n",
       "  </tbody>\n",
       "</table>\n",
       "</div>"
      ],
      "text/plain": [
       "   Store StoreType Assortment  CompetitionDistance  CompetitionOpenSinceMonth  \\\n",
       "0      1         c          a               1270.0                        9.0   \n",
       "1      2         a          a                570.0                       11.0   \n",
       "2      3         a          a              14130.0                       12.0   \n",
       "3      4         c          c                620.0                        9.0   \n",
       "4      5         a          a              29910.0                        4.0   \n",
       "5      6         a          a                310.0                       12.0   \n",
       "6      7         a          c              24000.0                        4.0   \n",
       "7      8         a          a               7520.0                       10.0   \n",
       "8      9         a          c               2030.0                        8.0   \n",
       "9     10         a          a               3160.0                        9.0   \n",
       "\n",
       "   CompetitionOpenSinceYear  Promo2  Promo2SinceWeek  Promo2SinceYear  \\\n",
       "0                    2008.0       0              NaN              NaN   \n",
       "1                    2007.0       1             13.0           2010.0   \n",
       "2                    2006.0       1             14.0           2011.0   \n",
       "3                    2009.0       0              NaN              NaN   \n",
       "4                    2015.0       0              NaN              NaN   \n",
       "5                    2013.0       0              NaN              NaN   \n",
       "6                    2013.0       0              NaN              NaN   \n",
       "7                    2014.0       0              NaN              NaN   \n",
       "8                    2000.0       0              NaN              NaN   \n",
       "9                    2009.0       0              NaN              NaN   \n",
       "\n",
       "     PromoInterval  \n",
       "0              NaN  \n",
       "1  Jan,Apr,Jul,Oct  \n",
       "2  Jan,Apr,Jul,Oct  \n",
       "3              NaN  \n",
       "4              NaN  \n",
       "5              NaN  \n",
       "6              NaN  \n",
       "7              NaN  \n",
       "8              NaN  \n",
       "9              NaN  "
      ]
     },
     "execution_count": 3,
     "metadata": {},
     "output_type": "execute_result"
    }
   ],
   "source": [
    "#Stores data\n",
    "stores[:10]"
   ]
  },
  {
   "cell_type": "code",
   "execution_count": 4,
   "metadata": {},
   "outputs": [
    {
     "data": {
      "text/html": [
       "<div>\n",
       "<style scoped>\n",
       "    .dataframe tbody tr th:only-of-type {\n",
       "        vertical-align: middle;\n",
       "    }\n",
       "\n",
       "    .dataframe tbody tr th {\n",
       "        vertical-align: top;\n",
       "    }\n",
       "\n",
       "    .dataframe thead th {\n",
       "        text-align: right;\n",
       "    }\n",
       "</style>\n",
       "<table border=\"1\" class=\"dataframe\">\n",
       "  <thead>\n",
       "    <tr style=\"text-align: right;\">\n",
       "      <th></th>\n",
       "      <th>Store</th>\n",
       "      <th>DayOfWeek</th>\n",
       "      <th>Date</th>\n",
       "      <th>Sales</th>\n",
       "      <th>Customers</th>\n",
       "      <th>Open</th>\n",
       "      <th>Promo</th>\n",
       "      <th>StateHoliday</th>\n",
       "      <th>SchoolHoliday</th>\n",
       "    </tr>\n",
       "  </thead>\n",
       "  <tbody>\n",
       "    <tr>\n",
       "      <th>0</th>\n",
       "      <td>1</td>\n",
       "      <td>5</td>\n",
       "      <td>2015-07-31</td>\n",
       "      <td>5263</td>\n",
       "      <td>555</td>\n",
       "      <td>1</td>\n",
       "      <td>1</td>\n",
       "      <td>0</td>\n",
       "      <td>1</td>\n",
       "    </tr>\n",
       "    <tr>\n",
       "      <th>1</th>\n",
       "      <td>2</td>\n",
       "      <td>5</td>\n",
       "      <td>2015-07-31</td>\n",
       "      <td>6064</td>\n",
       "      <td>625</td>\n",
       "      <td>1</td>\n",
       "      <td>1</td>\n",
       "      <td>0</td>\n",
       "      <td>1</td>\n",
       "    </tr>\n",
       "    <tr>\n",
       "      <th>2</th>\n",
       "      <td>3</td>\n",
       "      <td>5</td>\n",
       "      <td>2015-07-31</td>\n",
       "      <td>8314</td>\n",
       "      <td>821</td>\n",
       "      <td>1</td>\n",
       "      <td>1</td>\n",
       "      <td>0</td>\n",
       "      <td>1</td>\n",
       "    </tr>\n",
       "    <tr>\n",
       "      <th>3</th>\n",
       "      <td>4</td>\n",
       "      <td>5</td>\n",
       "      <td>2015-07-31</td>\n",
       "      <td>13995</td>\n",
       "      <td>1498</td>\n",
       "      <td>1</td>\n",
       "      <td>1</td>\n",
       "      <td>0</td>\n",
       "      <td>1</td>\n",
       "    </tr>\n",
       "    <tr>\n",
       "      <th>4</th>\n",
       "      <td>5</td>\n",
       "      <td>5</td>\n",
       "      <td>2015-07-31</td>\n",
       "      <td>4822</td>\n",
       "      <td>559</td>\n",
       "      <td>1</td>\n",
       "      <td>1</td>\n",
       "      <td>0</td>\n",
       "      <td>1</td>\n",
       "    </tr>\n",
       "    <tr>\n",
       "      <th>5</th>\n",
       "      <td>6</td>\n",
       "      <td>5</td>\n",
       "      <td>2015-07-31</td>\n",
       "      <td>5651</td>\n",
       "      <td>589</td>\n",
       "      <td>1</td>\n",
       "      <td>1</td>\n",
       "      <td>0</td>\n",
       "      <td>1</td>\n",
       "    </tr>\n",
       "    <tr>\n",
       "      <th>6</th>\n",
       "      <td>7</td>\n",
       "      <td>5</td>\n",
       "      <td>2015-07-31</td>\n",
       "      <td>15344</td>\n",
       "      <td>1414</td>\n",
       "      <td>1</td>\n",
       "      <td>1</td>\n",
       "      <td>0</td>\n",
       "      <td>1</td>\n",
       "    </tr>\n",
       "    <tr>\n",
       "      <th>7</th>\n",
       "      <td>8</td>\n",
       "      <td>5</td>\n",
       "      <td>2015-07-31</td>\n",
       "      <td>8492</td>\n",
       "      <td>833</td>\n",
       "      <td>1</td>\n",
       "      <td>1</td>\n",
       "      <td>0</td>\n",
       "      <td>1</td>\n",
       "    </tr>\n",
       "    <tr>\n",
       "      <th>8</th>\n",
       "      <td>9</td>\n",
       "      <td>5</td>\n",
       "      <td>2015-07-31</td>\n",
       "      <td>8565</td>\n",
       "      <td>687</td>\n",
       "      <td>1</td>\n",
       "      <td>1</td>\n",
       "      <td>0</td>\n",
       "      <td>1</td>\n",
       "    </tr>\n",
       "    <tr>\n",
       "      <th>9</th>\n",
       "      <td>10</td>\n",
       "      <td>5</td>\n",
       "      <td>2015-07-31</td>\n",
       "      <td>7185</td>\n",
       "      <td>681</td>\n",
       "      <td>1</td>\n",
       "      <td>1</td>\n",
       "      <td>0</td>\n",
       "      <td>1</td>\n",
       "    </tr>\n",
       "  </tbody>\n",
       "</table>\n",
       "</div>"
      ],
      "text/plain": [
       "   Store  DayOfWeek        Date  Sales  Customers  Open  Promo StateHoliday  \\\n",
       "0      1          5  2015-07-31   5263        555     1      1            0   \n",
       "1      2          5  2015-07-31   6064        625     1      1            0   \n",
       "2      3          5  2015-07-31   8314        821     1      1            0   \n",
       "3      4          5  2015-07-31  13995       1498     1      1            0   \n",
       "4      5          5  2015-07-31   4822        559     1      1            0   \n",
       "5      6          5  2015-07-31   5651        589     1      1            0   \n",
       "6      7          5  2015-07-31  15344       1414     1      1            0   \n",
       "7      8          5  2015-07-31   8492        833     1      1            0   \n",
       "8      9          5  2015-07-31   8565        687     1      1            0   \n",
       "9     10          5  2015-07-31   7185        681     1      1            0   \n",
       "\n",
       "  SchoolHoliday  \n",
       "0             1  \n",
       "1             1  \n",
       "2             1  \n",
       "3             1  \n",
       "4             1  \n",
       "5             1  \n",
       "6             1  \n",
       "7             1  \n",
       "8             1  \n",
       "9             1  "
      ]
     },
     "execution_count": 4,
     "metadata": {},
     "output_type": "execute_result"
    }
   ],
   "source": [
    "#Data from Stores Train\n",
    "stores_train_data[:10]"
   ]
  },
  {
   "cell_type": "code",
   "execution_count": 5,
   "metadata": {},
   "outputs": [
    {
     "data": {
      "text/plain": [
       "0     5263\n",
       "1     6064\n",
       "2     8314\n",
       "3    13995\n",
       "4     4822\n",
       "5     5651\n",
       "6    15344\n",
       "7     8492\n",
       "8     8565\n",
       "9     7185\n",
       "Name: Sales, dtype: int64"
      ]
     },
     "execution_count": 5,
     "metadata": {},
     "output_type": "execute_result"
    }
   ],
   "source": [
    "#Data from Target\n",
    "stores_y_train_data[:10]"
   ]
  },
  {
   "cell_type": "code",
   "execution_count": 6,
   "metadata": {},
   "outputs": [
    {
     "name": "stdout",
     "output_type": "stream",
     "text": [
      "1017209\n"
     ]
    }
   ],
   "source": [
    "#Quantity of rows\n",
    "qtd_rows = len(stores_train_data)\n",
    "print(qtd_rows)"
   ]
  },
  {
   "cell_type": "code",
   "execution_count": 7,
   "metadata": {
    "scrolled": true
   },
   "outputs": [
    {
     "name": "stdout",
     "output_type": "stream",
     "text": [
      "0\n",
      "50\n",
      "100\n",
      "150\n",
      "200\n",
      "250\n",
      "300\n",
      "350\n",
      "400\n",
      "450\n",
      "500\n",
      "550\n",
      "600\n",
      "650\n",
      "700\n",
      "750\n",
      "800\n",
      "850\n",
      "900\n",
      "950\n",
      "1000\n",
      "1050\n",
      "1100\n",
      "Complete!\n"
     ]
    }
   ],
   "source": [
    "#In the description of the problem it is described that sales are influenced by promotions\n",
    "#competitors, school and state holidays, seasonality and locality, this way\n",
    "#we can then assign new attributes of the store data set\n",
    "#these new attributes have been added through the ID parameter, each store has a unique ID.\n",
    "for x in range(0,len(stores)):\n",
    "    stores_train_data.loc[stores_train_data['Store'] == x+1, 'StoreType'] = stores.iloc[x,1]   \n",
    "    stores_train_data.loc[stores_train_data['Store'] == x+1, 'Assortment'] = stores.iloc[x,2]   \n",
    "    stores_train_data.loc[stores_train_data['Store'] == x+1, 'CompetitionDistance'] = stores.iloc[x,3]   \n",
    "    stores_train_data.loc[stores_train_data['Store'] == x+1, 'CompetitionOpenSinceMonth'] = stores.iloc[x,4]   \n",
    "    stores_train_data.loc[stores_train_data['Store'] == x+1, 'CompetitionOpenSinceYear'] = stores.iloc[x,5]   \n",
    "    stores_train_data.loc[stores_train_data['Store'] == x+1, 'Promo2'] = stores.iloc[x,6]\n",
    "    if (x % 50 == 0):\n",
    "        print(x)\n",
    "print(\"Complete!\")"
   ]
  },
  {
   "cell_type": "code",
   "execution_count": 8,
   "metadata": {},
   "outputs": [
    {
     "name": "stdout",
     "output_type": "stream",
     "text": [
      "0\n",
      "50\n",
      "100\n",
      "150\n",
      "200\n",
      "250\n",
      "300\n",
      "350\n",
      "400\n",
      "450\n",
      "500\n",
      "550\n",
      "600\n",
      "650\n",
      "700\n",
      "750\n",
      "800\n",
      "850\n",
      "900\n",
      "950\n",
      "1000\n",
      "1050\n",
      "1100\n",
      "Complete!\n"
     ]
    }
   ],
   "source": [
    "#The same process done previously is done for the Test Store data set, since they must have the\n",
    "#same number of attributes\n",
    "for x in range(0,len(stores)):\n",
    "    stores_test_data.loc[stores_test_data['Store'] == x+1, 'StoreType'] = stores.iloc[x,1]   \n",
    "    stores_test_data.loc[stores_test_data['Store'] == x+1, 'Assortment'] = stores.iloc[x,2]   \n",
    "    stores_test_data.loc[stores_test_data['Store'] == x+1, 'CompetitionDistance'] = stores.iloc[x,3]   \n",
    "    stores_test_data.loc[stores_test_data['Store'] == x+1, 'CompetitionOpenSinceMonth'] = stores.iloc[x,4]   \n",
    "    stores_test_data.loc[stores_test_data['Store'] == x+1, 'CompetitionOpenSinceYear'] = stores.iloc[x,5]   \n",
    "    stores_test_data.loc[stores_test_data['Store'] == x+1, 'Promo2'] = stores.iloc[x,6]\n",
    "    if (x % 50 == 0):\n",
    "        print(x)\n",
    "print(\"Complete!\")"
   ]
  },
  {
   "cell_type": "code",
   "execution_count": 9,
   "metadata": {},
   "outputs": [
    {
     "data": {
      "text/html": [
       "<div>\n",
       "<style scoped>\n",
       "    .dataframe tbody tr th:only-of-type {\n",
       "        vertical-align: middle;\n",
       "    }\n",
       "\n",
       "    .dataframe tbody tr th {\n",
       "        vertical-align: top;\n",
       "    }\n",
       "\n",
       "    .dataframe thead th {\n",
       "        text-align: right;\n",
       "    }\n",
       "</style>\n",
       "<table border=\"1\" class=\"dataframe\">\n",
       "  <thead>\n",
       "    <tr style=\"text-align: right;\">\n",
       "      <th></th>\n",
       "      <th>Store</th>\n",
       "      <th>DayOfWeek</th>\n",
       "      <th>Date</th>\n",
       "      <th>Sales</th>\n",
       "      <th>Customers</th>\n",
       "      <th>Open</th>\n",
       "      <th>Promo</th>\n",
       "      <th>StateHoliday</th>\n",
       "      <th>SchoolHoliday</th>\n",
       "      <th>StoreType</th>\n",
       "      <th>Assortment</th>\n",
       "      <th>CompetitionDistance</th>\n",
       "      <th>CompetitionOpenSinceMonth</th>\n",
       "      <th>CompetitionOpenSinceYear</th>\n",
       "      <th>Promo2</th>\n",
       "    </tr>\n",
       "  </thead>\n",
       "  <tbody>\n",
       "    <tr>\n",
       "      <th>0</th>\n",
       "      <td>1</td>\n",
       "      <td>5</td>\n",
       "      <td>2015-07-31</td>\n",
       "      <td>5263</td>\n",
       "      <td>555</td>\n",
       "      <td>1</td>\n",
       "      <td>1</td>\n",
       "      <td>0</td>\n",
       "      <td>1</td>\n",
       "      <td>c</td>\n",
       "      <td>a</td>\n",
       "      <td>1270.0</td>\n",
       "      <td>9.0</td>\n",
       "      <td>2008.0</td>\n",
       "      <td>0.0</td>\n",
       "    </tr>\n",
       "    <tr>\n",
       "      <th>1</th>\n",
       "      <td>2</td>\n",
       "      <td>5</td>\n",
       "      <td>2015-07-31</td>\n",
       "      <td>6064</td>\n",
       "      <td>625</td>\n",
       "      <td>1</td>\n",
       "      <td>1</td>\n",
       "      <td>0</td>\n",
       "      <td>1</td>\n",
       "      <td>a</td>\n",
       "      <td>a</td>\n",
       "      <td>570.0</td>\n",
       "      <td>11.0</td>\n",
       "      <td>2007.0</td>\n",
       "      <td>1.0</td>\n",
       "    </tr>\n",
       "    <tr>\n",
       "      <th>2</th>\n",
       "      <td>3</td>\n",
       "      <td>5</td>\n",
       "      <td>2015-07-31</td>\n",
       "      <td>8314</td>\n",
       "      <td>821</td>\n",
       "      <td>1</td>\n",
       "      <td>1</td>\n",
       "      <td>0</td>\n",
       "      <td>1</td>\n",
       "      <td>a</td>\n",
       "      <td>a</td>\n",
       "      <td>14130.0</td>\n",
       "      <td>12.0</td>\n",
       "      <td>2006.0</td>\n",
       "      <td>1.0</td>\n",
       "    </tr>\n",
       "  </tbody>\n",
       "</table>\n",
       "</div>"
      ],
      "text/plain": [
       "   Store  DayOfWeek        Date  Sales  Customers  Open  Promo StateHoliday  \\\n",
       "0      1          5  2015-07-31   5263        555     1      1            0   \n",
       "1      2          5  2015-07-31   6064        625     1      1            0   \n",
       "2      3          5  2015-07-31   8314        821     1      1            0   \n",
       "\n",
       "  SchoolHoliday StoreType Assortment  CompetitionDistance  \\\n",
       "0             1         c          a               1270.0   \n",
       "1             1         a          a                570.0   \n",
       "2             1         a          a              14130.0   \n",
       "\n",
       "   CompetitionOpenSinceMonth  CompetitionOpenSinceYear  Promo2  \n",
       "0                        9.0                    2008.0     0.0  \n",
       "1                       11.0                    2007.0     1.0  \n",
       "2                       12.0                    2006.0     1.0  "
      ]
     },
     "execution_count": 9,
     "metadata": {},
     "output_type": "execute_result"
    }
   ],
   "source": [
    "#Checking out the new data set for Train Data\n",
    "stores_train_data[:3]"
   ]
  },
  {
   "cell_type": "code",
   "execution_count": 10,
   "metadata": {
    "scrolled": true
   },
   "outputs": [
    {
     "data": {
      "text/html": [
       "<div>\n",
       "<style scoped>\n",
       "    .dataframe tbody tr th:only-of-type {\n",
       "        vertical-align: middle;\n",
       "    }\n",
       "\n",
       "    .dataframe tbody tr th {\n",
       "        vertical-align: top;\n",
       "    }\n",
       "\n",
       "    .dataframe thead th {\n",
       "        text-align: right;\n",
       "    }\n",
       "</style>\n",
       "<table border=\"1\" class=\"dataframe\">\n",
       "  <thead>\n",
       "    <tr style=\"text-align: right;\">\n",
       "      <th></th>\n",
       "      <th>Id</th>\n",
       "      <th>Store</th>\n",
       "      <th>DayOfWeek</th>\n",
       "      <th>Date</th>\n",
       "      <th>Open</th>\n",
       "      <th>Promo</th>\n",
       "      <th>StateHoliday</th>\n",
       "      <th>SchoolHoliday</th>\n",
       "      <th>StoreType</th>\n",
       "      <th>Assortment</th>\n",
       "      <th>CompetitionDistance</th>\n",
       "      <th>CompetitionOpenSinceMonth</th>\n",
       "      <th>CompetitionOpenSinceYear</th>\n",
       "      <th>Promo2</th>\n",
       "    </tr>\n",
       "  </thead>\n",
       "  <tbody>\n",
       "    <tr>\n",
       "      <th>0</th>\n",
       "      <td>1</td>\n",
       "      <td>1</td>\n",
       "      <td>4</td>\n",
       "      <td>2015-09-17</td>\n",
       "      <td>1.0</td>\n",
       "      <td>1</td>\n",
       "      <td>0</td>\n",
       "      <td>0</td>\n",
       "      <td>c</td>\n",
       "      <td>a</td>\n",
       "      <td>1270.0</td>\n",
       "      <td>9.0</td>\n",
       "      <td>2008.0</td>\n",
       "      <td>0.0</td>\n",
       "    </tr>\n",
       "    <tr>\n",
       "      <th>1</th>\n",
       "      <td>2</td>\n",
       "      <td>3</td>\n",
       "      <td>4</td>\n",
       "      <td>2015-09-17</td>\n",
       "      <td>1.0</td>\n",
       "      <td>1</td>\n",
       "      <td>0</td>\n",
       "      <td>0</td>\n",
       "      <td>a</td>\n",
       "      <td>a</td>\n",
       "      <td>14130.0</td>\n",
       "      <td>12.0</td>\n",
       "      <td>2006.0</td>\n",
       "      <td>1.0</td>\n",
       "    </tr>\n",
       "    <tr>\n",
       "      <th>2</th>\n",
       "      <td>3</td>\n",
       "      <td>7</td>\n",
       "      <td>4</td>\n",
       "      <td>2015-09-17</td>\n",
       "      <td>1.0</td>\n",
       "      <td>1</td>\n",
       "      <td>0</td>\n",
       "      <td>0</td>\n",
       "      <td>a</td>\n",
       "      <td>c</td>\n",
       "      <td>24000.0</td>\n",
       "      <td>4.0</td>\n",
       "      <td>2013.0</td>\n",
       "      <td>0.0</td>\n",
       "    </tr>\n",
       "  </tbody>\n",
       "</table>\n",
       "</div>"
      ],
      "text/plain": [
       "   Id  Store  DayOfWeek        Date  Open  Promo StateHoliday  SchoolHoliday  \\\n",
       "0   1      1          4  2015-09-17   1.0      1            0              0   \n",
       "1   2      3          4  2015-09-17   1.0      1            0              0   \n",
       "2   3      7          4  2015-09-17   1.0      1            0              0   \n",
       "\n",
       "  StoreType Assortment  CompetitionDistance  CompetitionOpenSinceMonth  \\\n",
       "0         c          a               1270.0                        9.0   \n",
       "1         a          a              14130.0                       12.0   \n",
       "2         a          c              24000.0                        4.0   \n",
       "\n",
       "   CompetitionOpenSinceYear  Promo2  \n",
       "0                    2008.0     0.0  \n",
       "1                    2006.0     1.0  \n",
       "2                    2013.0     0.0  "
      ]
     },
     "execution_count": 10,
     "metadata": {},
     "output_type": "execute_result"
    }
   ],
   "source": [
    "#Checking out the new data set for Test Data\n",
    "stores_test_data[:3]"
   ]
  },
  {
   "cell_type": "markdown",
   "metadata": {},
   "source": [
    "### Checking out the data"
   ]
  },
  {
   "cell_type": "code",
   "execution_count": 11,
   "metadata": {},
   "outputs": [
    {
     "data": {
      "text/plain": [
       "Index(['Store', 'DayOfWeek', 'Date', 'Sales', 'Customers', 'Open', 'Promo',\n",
       "       'StateHoliday', 'SchoolHoliday', 'StoreType', 'Assortment',\n",
       "       'CompetitionDistance', 'CompetitionOpenSinceMonth',\n",
       "       'CompetitionOpenSinceYear', 'Promo2'],\n",
       "      dtype='object')"
      ]
     },
     "execution_count": 11,
     "metadata": {},
     "output_type": "execute_result"
    }
   ],
   "source": [
    "#Columns from Train Data\n",
    "stores_train_data.columns"
   ]
  },
  {
   "cell_type": "code",
   "execution_count": 12,
   "metadata": {},
   "outputs": [
    {
     "data": {
      "text/plain": [
       "Index(['Id', 'Store', 'DayOfWeek', 'Date', 'Open', 'Promo', 'StateHoliday',\n",
       "       'SchoolHoliday', 'StoreType', 'Assortment', 'CompetitionDistance',\n",
       "       'CompetitionOpenSinceMonth', 'CompetitionOpenSinceYear', 'Promo2'],\n",
       "      dtype='object')"
      ]
     },
     "execution_count": 12,
     "metadata": {},
     "output_type": "execute_result"
    }
   ],
   "source": [
    "#Columns from Test Data\n",
    "stores_test_data.columns"
   ]
  },
  {
   "cell_type": "code",
   "execution_count": 13,
   "metadata": {
    "scrolled": true
   },
   "outputs": [
    {
     "data": {
      "text/html": [
       "<div>\n",
       "<style scoped>\n",
       "    .dataframe tbody tr th:only-of-type {\n",
       "        vertical-align: middle;\n",
       "    }\n",
       "\n",
       "    .dataframe tbody tr th {\n",
       "        vertical-align: top;\n",
       "    }\n",
       "\n",
       "    .dataframe thead th {\n",
       "        text-align: right;\n",
       "    }\n",
       "</style>\n",
       "<table border=\"1\" class=\"dataframe\">\n",
       "  <thead>\n",
       "    <tr style=\"text-align: right;\">\n",
       "      <th></th>\n",
       "      <th>Store</th>\n",
       "      <th>DayOfWeek</th>\n",
       "      <th>Sales</th>\n",
       "      <th>Customers</th>\n",
       "      <th>Open</th>\n",
       "      <th>Promo</th>\n",
       "      <th>CompetitionDistance</th>\n",
       "      <th>CompetitionOpenSinceMonth</th>\n",
       "      <th>CompetitionOpenSinceYear</th>\n",
       "      <th>Promo2</th>\n",
       "    </tr>\n",
       "  </thead>\n",
       "  <tbody>\n",
       "    <tr>\n",
       "      <th>count</th>\n",
       "      <td>1.017209e+06</td>\n",
       "      <td>1.017209e+06</td>\n",
       "      <td>1.017209e+06</td>\n",
       "      <td>1.017209e+06</td>\n",
       "      <td>1.017209e+06</td>\n",
       "      <td>1.017209e+06</td>\n",
       "      <td>1.014567e+06</td>\n",
       "      <td>693861.000000</td>\n",
       "      <td>693861.000000</td>\n",
       "      <td>1.017209e+06</td>\n",
       "    </tr>\n",
       "    <tr>\n",
       "      <th>mean</th>\n",
       "      <td>5.584297e+02</td>\n",
       "      <td>3.998341e+00</td>\n",
       "      <td>5.773819e+03</td>\n",
       "      <td>6.331459e+02</td>\n",
       "      <td>8.301067e-01</td>\n",
       "      <td>3.815145e-01</td>\n",
       "      <td>5.430086e+03</td>\n",
       "      <td>7.222866</td>\n",
       "      <td>2008.690228</td>\n",
       "      <td>5.005638e-01</td>\n",
       "    </tr>\n",
       "    <tr>\n",
       "      <th>std</th>\n",
       "      <td>3.219087e+02</td>\n",
       "      <td>1.997391e+00</td>\n",
       "      <td>3.849926e+03</td>\n",
       "      <td>4.644117e+02</td>\n",
       "      <td>3.755392e-01</td>\n",
       "      <td>4.857586e-01</td>\n",
       "      <td>7.715324e+03</td>\n",
       "      <td>3.211832</td>\n",
       "      <td>5.992644</td>\n",
       "      <td>4.999999e-01</td>\n",
       "    </tr>\n",
       "    <tr>\n",
       "      <th>min</th>\n",
       "      <td>1.000000e+00</td>\n",
       "      <td>1.000000e+00</td>\n",
       "      <td>0.000000e+00</td>\n",
       "      <td>0.000000e+00</td>\n",
       "      <td>0.000000e+00</td>\n",
       "      <td>0.000000e+00</td>\n",
       "      <td>2.000000e+01</td>\n",
       "      <td>1.000000</td>\n",
       "      <td>1900.000000</td>\n",
       "      <td>0.000000e+00</td>\n",
       "    </tr>\n",
       "    <tr>\n",
       "      <th>25%</th>\n",
       "      <td>2.800000e+02</td>\n",
       "      <td>2.000000e+00</td>\n",
       "      <td>3.727000e+03</td>\n",
       "      <td>4.050000e+02</td>\n",
       "      <td>1.000000e+00</td>\n",
       "      <td>0.000000e+00</td>\n",
       "      <td>7.100000e+02</td>\n",
       "      <td>4.000000</td>\n",
       "      <td>2006.000000</td>\n",
       "      <td>0.000000e+00</td>\n",
       "    </tr>\n",
       "    <tr>\n",
       "      <th>50%</th>\n",
       "      <td>5.580000e+02</td>\n",
       "      <td>4.000000e+00</td>\n",
       "      <td>5.744000e+03</td>\n",
       "      <td>6.090000e+02</td>\n",
       "      <td>1.000000e+00</td>\n",
       "      <td>0.000000e+00</td>\n",
       "      <td>2.330000e+03</td>\n",
       "      <td>8.000000</td>\n",
       "      <td>2010.000000</td>\n",
       "      <td>1.000000e+00</td>\n",
       "    </tr>\n",
       "    <tr>\n",
       "      <th>75%</th>\n",
       "      <td>8.380000e+02</td>\n",
       "      <td>6.000000e+00</td>\n",
       "      <td>7.856000e+03</td>\n",
       "      <td>8.370000e+02</td>\n",
       "      <td>1.000000e+00</td>\n",
       "      <td>1.000000e+00</td>\n",
       "      <td>6.890000e+03</td>\n",
       "      <td>10.000000</td>\n",
       "      <td>2013.000000</td>\n",
       "      <td>1.000000e+00</td>\n",
       "    </tr>\n",
       "    <tr>\n",
       "      <th>max</th>\n",
       "      <td>1.115000e+03</td>\n",
       "      <td>7.000000e+00</td>\n",
       "      <td>4.155100e+04</td>\n",
       "      <td>7.388000e+03</td>\n",
       "      <td>1.000000e+00</td>\n",
       "      <td>1.000000e+00</td>\n",
       "      <td>7.586000e+04</td>\n",
       "      <td>12.000000</td>\n",
       "      <td>2015.000000</td>\n",
       "      <td>1.000000e+00</td>\n",
       "    </tr>\n",
       "  </tbody>\n",
       "</table>\n",
       "</div>"
      ],
      "text/plain": [
       "              Store     DayOfWeek         Sales     Customers          Open  \\\n",
       "count  1.017209e+06  1.017209e+06  1.017209e+06  1.017209e+06  1.017209e+06   \n",
       "mean   5.584297e+02  3.998341e+00  5.773819e+03  6.331459e+02  8.301067e-01   \n",
       "std    3.219087e+02  1.997391e+00  3.849926e+03  4.644117e+02  3.755392e-01   \n",
       "min    1.000000e+00  1.000000e+00  0.000000e+00  0.000000e+00  0.000000e+00   \n",
       "25%    2.800000e+02  2.000000e+00  3.727000e+03  4.050000e+02  1.000000e+00   \n",
       "50%    5.580000e+02  4.000000e+00  5.744000e+03  6.090000e+02  1.000000e+00   \n",
       "75%    8.380000e+02  6.000000e+00  7.856000e+03  8.370000e+02  1.000000e+00   \n",
       "max    1.115000e+03  7.000000e+00  4.155100e+04  7.388000e+03  1.000000e+00   \n",
       "\n",
       "              Promo  CompetitionDistance  CompetitionOpenSinceMonth  \\\n",
       "count  1.017209e+06         1.014567e+06              693861.000000   \n",
       "mean   3.815145e-01         5.430086e+03                   7.222866   \n",
       "std    4.857586e-01         7.715324e+03                   3.211832   \n",
       "min    0.000000e+00         2.000000e+01                   1.000000   \n",
       "25%    0.000000e+00         7.100000e+02                   4.000000   \n",
       "50%    0.000000e+00         2.330000e+03                   8.000000   \n",
       "75%    1.000000e+00         6.890000e+03                  10.000000   \n",
       "max    1.000000e+00         7.586000e+04                  12.000000   \n",
       "\n",
       "       CompetitionOpenSinceYear        Promo2  \n",
       "count             693861.000000  1.017209e+06  \n",
       "mean                2008.690228  5.005638e-01  \n",
       "std                    5.992644  4.999999e-01  \n",
       "min                 1900.000000  0.000000e+00  \n",
       "25%                 2006.000000  0.000000e+00  \n",
       "50%                 2010.000000  1.000000e+00  \n",
       "75%                 2013.000000  1.000000e+00  \n",
       "max                 2015.000000  1.000000e+00  "
      ]
     },
     "execution_count": 13,
     "metadata": {},
     "output_type": "execute_result"
    }
   ],
   "source": [
    "#Data description - Train Data\n",
    "stores_train_data.describe()"
   ]
  },
  {
   "cell_type": "markdown",
   "metadata": {},
   "source": [
    "We have 15 columns in the Train Data (Test has 14, does not have Customers), but only 10 have been parsed by the describe() function. Some columns are in 'character' format, this should be resolved by removing or converting these columns to numeric format.\n",
    "\n",
    "The columns __Date__, __StateHoliday__, __StoreType__, __Assortment__ were not analyzed. Below we will check which format of the value these columns store."
   ]
  },
  {
   "cell_type": "code",
   "execution_count": 14,
   "metadata": {},
   "outputs": [
    {
     "data": {
      "text/plain": [
       "1017209"
      ]
     },
     "execution_count": 14,
     "metadata": {},
     "output_type": "execute_result"
    }
   ],
   "source": [
    "#Number of rows from Train Data\n",
    "len(stores_train_data)"
   ]
  },
  {
   "cell_type": "markdown",
   "metadata": {},
   "source": [
    "The Train Data has 1.017.209 rows."
   ]
  },
  {
   "cell_type": "code",
   "execution_count": 15,
   "metadata": {
    "scrolled": true
   },
   "outputs": [
    {
     "data": {
      "text/plain": [
       "Store                             0\n",
       "DayOfWeek                         0\n",
       "Date                              0\n",
       "Sales                             0\n",
       "Customers                         0\n",
       "Open                              0\n",
       "Promo                             0\n",
       "StateHoliday                      0\n",
       "SchoolHoliday                     0\n",
       "StoreType                         0\n",
       "Assortment                        0\n",
       "CompetitionDistance            2642\n",
       "CompetitionOpenSinceMonth    323348\n",
       "CompetitionOpenSinceYear     323348\n",
       "Promo2                            0\n",
       "dtype: int64"
      ]
     },
     "execution_count": 15,
     "metadata": {},
     "output_type": "execute_result"
    }
   ],
   "source": [
    "#Checking the amount of missing values for each attribute (column) in the Train Data\n",
    "stores_train_data.isnull().sum()"
   ]
  },
  {
   "cell_type": "markdown",
   "metadata": {},
   "source": [
    "We have that __CompetitionDistance__, __CompetitionOpenSinceMonth__ e __CompetitionOpenSinceYear__ \n",
    "have some null values, this should be resolved since some Machine Learning algorithms do not tolerate null values.\n",
    "\n",
    "We will fill these null values by mode, some prefer the mean and others the median, but here I will choose mode. Mode is the value that most often appears in a set of data. __Important__, the mode that will be chosen is for each attribute and not the whole set."
   ]
  },
  {
   "cell_type": "code",
   "execution_count": 16,
   "metadata": {},
   "outputs": [],
   "source": [
    "#Replacing null values by mode\n",
    "stores_train_data['CompetitionDistance'].fillna(stores_train_data.CompetitionDistance.mode()[0], inplace=True)\n",
    "stores_train_data['CompetitionOpenSinceMonth'].fillna(stores_train_data.CompetitionOpenSinceMonth.mode()[0], inplace=True)\n",
    "stores_train_data['CompetitionOpenSinceYear'].fillna(stores_train_data.CompetitionOpenSinceYear.mode()[0], inplace=True)"
   ]
  },
  {
   "cell_type": "code",
   "execution_count": 17,
   "metadata": {},
   "outputs": [
    {
     "data": {
      "text/plain": [
       "Store                        0\n",
       "DayOfWeek                    0\n",
       "Date                         0\n",
       "Sales                        0\n",
       "Customers                    0\n",
       "Open                         0\n",
       "Promo                        0\n",
       "StateHoliday                 0\n",
       "SchoolHoliday                0\n",
       "StoreType                    0\n",
       "Assortment                   0\n",
       "CompetitionDistance          0\n",
       "CompetitionOpenSinceMonth    0\n",
       "CompetitionOpenSinceYear     0\n",
       "Promo2                       0\n",
       "dtype: int64"
      ]
     },
     "execution_count": 17,
     "metadata": {},
     "output_type": "execute_result"
    }
   ],
   "source": [
    "#Checking the amount of missing values for each attribute (column) in the Train Data - Again\n",
    "stores_train_data.isnull().sum()"
   ]
  },
  {
   "cell_type": "code",
   "execution_count": 18,
   "metadata": {},
   "outputs": [
    {
     "data": {
      "text/plain": [
       "Id                               0\n",
       "Store                            0\n",
       "DayOfWeek                        0\n",
       "Date                             0\n",
       "Open                            11\n",
       "Promo                            0\n",
       "StateHoliday                     0\n",
       "SchoolHoliday                    0\n",
       "StoreType                        0\n",
       "Assortment                       0\n",
       "CompetitionDistance             96\n",
       "CompetitionOpenSinceMonth    15216\n",
       "CompetitionOpenSinceYear     15216\n",
       "Promo2                           0\n",
       "dtype: int64"
      ]
     },
     "execution_count": 18,
     "metadata": {},
     "output_type": "execute_result"
    }
   ],
   "source": [
    "#Checking out the Test Data\n",
    "stores_test_data.isnull().sum()"
   ]
  },
  {
   "cell_type": "markdown",
   "metadata": {},
   "source": [
    "In the test data set we have 4 attributes with null values: __Open__, __CompetitionDistance__, __CompetitionOpenSinceMonth__ and __CompetitionOpenSinceYear__. Let's use the same method, replacing these values by mode."
   ]
  },
  {
   "cell_type": "code",
   "execution_count": 19,
   "metadata": {},
   "outputs": [],
   "source": [
    "#Replacing null values by mode in Test Data\n",
    "stores_test_data['Open'].fillna(stores_test_data.Open.mode()[0], inplace=True)\n",
    "stores_test_data['CompetitionDistance'].fillna(stores_test_data.CompetitionDistance.mode()[0], inplace=True)\n",
    "stores_test_data['CompetitionOpenSinceMonth'].fillna(stores_test_data.CompetitionOpenSinceMonth.mode()[0], inplace=True)\n",
    "stores_test_data['CompetitionOpenSinceYear'].fillna(stores_test_data.CompetitionOpenSinceYear.mode()[0], inplace=True)"
   ]
  },
  {
   "cell_type": "code",
   "execution_count": 20,
   "metadata": {
    "scrolled": true
   },
   "outputs": [
    {
     "data": {
      "text/plain": [
       "Id                           0\n",
       "Store                        0\n",
       "DayOfWeek                    0\n",
       "Date                         0\n",
       "Open                         0\n",
       "Promo                        0\n",
       "StateHoliday                 0\n",
       "SchoolHoliday                0\n",
       "StoreType                    0\n",
       "Assortment                   0\n",
       "CompetitionDistance          0\n",
       "CompetitionOpenSinceMonth    0\n",
       "CompetitionOpenSinceYear     0\n",
       "Promo2                       0\n",
       "dtype: int64"
      ]
     },
     "execution_count": 20,
     "metadata": {},
     "output_type": "execute_result"
    }
   ],
   "source": [
    "#Checking the amount of missing values for each attribute (column) in the Test Data\n",
    "stores_test_data.isnull().sum()"
   ]
  },
  {
   "cell_type": "markdown",
   "metadata": {},
   "source": [
    "We no longer have missing values."
   ]
  },
  {
   "cell_type": "code",
   "execution_count": 21,
   "metadata": {},
   "outputs": [
    {
     "data": {
      "text/plain": [
       "Store                          int64\n",
       "DayOfWeek                      int64\n",
       "Date                          object\n",
       "Sales                          int64\n",
       "Customers                      int64\n",
       "Open                           int64\n",
       "Promo                          int64\n",
       "StateHoliday                  object\n",
       "SchoolHoliday                 object\n",
       "StoreType                     object\n",
       "Assortment                    object\n",
       "CompetitionDistance          float64\n",
       "CompetitionOpenSinceMonth    float64\n",
       "CompetitionOpenSinceYear     float64\n",
       "Promo2                       float64\n",
       "dtype: object"
      ]
     },
     "execution_count": 21,
     "metadata": {},
     "output_type": "execute_result"
    }
   ],
   "source": [
    "#Checking out the types - Train Data\n",
    "stores_train_data.dtypes"
   ]
  },
  {
   "cell_type": "code",
   "execution_count": 22,
   "metadata": {},
   "outputs": [
    {
     "data": {
      "text/plain": [
       "Id                             int64\n",
       "Store                          int64\n",
       "DayOfWeek                      int64\n",
       "Date                          object\n",
       "Open                         float64\n",
       "Promo                          int64\n",
       "StateHoliday                  object\n",
       "SchoolHoliday                  int64\n",
       "StoreType                     object\n",
       "Assortment                    object\n",
       "CompetitionDistance          float64\n",
       "CompetitionOpenSinceMonth    float64\n",
       "CompetitionOpenSinceYear     float64\n",
       "Promo2                       float64\n",
       "dtype: object"
      ]
     },
     "execution_count": 22,
     "metadata": {},
     "output_type": "execute_result"
    }
   ],
   "source": [
    "#Checking out the types - Train Data\n",
    "stores_test_data.dtypes"
   ]
  },
  {
   "cell_type": "markdown",
   "metadata": {},
   "source": [
    "We need to convert the object type to numerical type. We going to this later."
   ]
  },
  {
   "cell_type": "markdown",
   "metadata": {},
   "source": [
    "### Handling the dates"
   ]
  },
  {
   "cell_type": "markdown",
   "metadata": {},
   "source": [
    "It can be seen in the dataset that we have dates, these dates can be divided into Year, Month and Day. They can represent values for our prediction considering that the volume of sales done at the beginning of the year is different for the volume made in the middle of the year and even than at the end of the year (Christmas, for example).\n",
    "\n",
    "These values represent something, let's separate them and keep them for our tests."
   ]
  },
  {
   "cell_type": "code",
   "execution_count": 23,
   "metadata": {},
   "outputs": [],
   "source": [
    "#Separating the Date column into three new columns (Year, Month, and Day)\n",
    "#Separating for Train Data\n",
    "stores_train_data[\"Year\"] = [x.split('-')[0] for x in stores_train_data.Date]\n",
    "stores_train_data[\"Year\"] = stores_train_data[\"Year\"].astype(float)\n",
    "\n",
    "stores_train_data[\"Month\"] = [x.split('-')[1] for x in stores_train_data.Date]\n",
    "stores_train_data[\"Month\"] = stores_train_data[\"Month\"].astype(float)\n",
    "\n",
    "stores_train_data[\"Day\"] = [x.split('-')[2] for x in stores_train_data.Date]\n",
    "stores_train_data[\"Day\"] = stores_train_data[\"Day\"].astype(float)\n",
    "\n",
    "\n",
    "#Separating for Test Data\n",
    "stores_test_data[\"Year\"] = [x.split('-')[0] for x in stores_test_data.Date]\n",
    "stores_test_data[\"Year\"] = stores_test_data[\"Year\"].astype(float)\n",
    "\n",
    "stores_test_data[\"Month\"] = [x.split('-')[1] for x in stores_test_data.Date]\n",
    "stores_test_data[\"Month\"] = stores_test_data[\"Month\"].astype(float)\n",
    "\n",
    "stores_test_data[\"Day\"] = [x.split('-')[2] for x in stores_test_data.Date]\n",
    "stores_test_data[\"Day\"] = stores_test_data[\"Day\"].astype(float)"
   ]
  },
  {
   "cell_type": "code",
   "execution_count": 24,
   "metadata": {},
   "outputs": [
    {
     "data": {
      "text/html": [
       "<div>\n",
       "<style scoped>\n",
       "    .dataframe tbody tr th:only-of-type {\n",
       "        vertical-align: middle;\n",
       "    }\n",
       "\n",
       "    .dataframe tbody tr th {\n",
       "        vertical-align: top;\n",
       "    }\n",
       "\n",
       "    .dataframe thead th {\n",
       "        text-align: right;\n",
       "    }\n",
       "</style>\n",
       "<table border=\"1\" class=\"dataframe\">\n",
       "  <thead>\n",
       "    <tr style=\"text-align: right;\">\n",
       "      <th></th>\n",
       "      <th>Store</th>\n",
       "      <th>DayOfWeek</th>\n",
       "      <th>Date</th>\n",
       "      <th>Sales</th>\n",
       "      <th>Customers</th>\n",
       "      <th>Open</th>\n",
       "      <th>Promo</th>\n",
       "      <th>StateHoliday</th>\n",
       "      <th>SchoolHoliday</th>\n",
       "      <th>StoreType</th>\n",
       "      <th>Assortment</th>\n",
       "      <th>CompetitionDistance</th>\n",
       "      <th>CompetitionOpenSinceMonth</th>\n",
       "      <th>CompetitionOpenSinceYear</th>\n",
       "      <th>Promo2</th>\n",
       "      <th>Year</th>\n",
       "      <th>Month</th>\n",
       "      <th>Day</th>\n",
       "    </tr>\n",
       "  </thead>\n",
       "  <tbody>\n",
       "    <tr>\n",
       "      <th>0</th>\n",
       "      <td>1</td>\n",
       "      <td>5</td>\n",
       "      <td>2015-07-31</td>\n",
       "      <td>5263</td>\n",
       "      <td>555</td>\n",
       "      <td>1</td>\n",
       "      <td>1</td>\n",
       "      <td>0</td>\n",
       "      <td>1</td>\n",
       "      <td>c</td>\n",
       "      <td>a</td>\n",
       "      <td>1270.0</td>\n",
       "      <td>9.0</td>\n",
       "      <td>2008.0</td>\n",
       "      <td>0.0</td>\n",
       "      <td>2015.0</td>\n",
       "      <td>7.0</td>\n",
       "      <td>31.0</td>\n",
       "    </tr>\n",
       "    <tr>\n",
       "      <th>1</th>\n",
       "      <td>2</td>\n",
       "      <td>5</td>\n",
       "      <td>2015-07-31</td>\n",
       "      <td>6064</td>\n",
       "      <td>625</td>\n",
       "      <td>1</td>\n",
       "      <td>1</td>\n",
       "      <td>0</td>\n",
       "      <td>1</td>\n",
       "      <td>a</td>\n",
       "      <td>a</td>\n",
       "      <td>570.0</td>\n",
       "      <td>11.0</td>\n",
       "      <td>2007.0</td>\n",
       "      <td>1.0</td>\n",
       "      <td>2015.0</td>\n",
       "      <td>7.0</td>\n",
       "      <td>31.0</td>\n",
       "    </tr>\n",
       "    <tr>\n",
       "      <th>2</th>\n",
       "      <td>3</td>\n",
       "      <td>5</td>\n",
       "      <td>2015-07-31</td>\n",
       "      <td>8314</td>\n",
       "      <td>821</td>\n",
       "      <td>1</td>\n",
       "      <td>1</td>\n",
       "      <td>0</td>\n",
       "      <td>1</td>\n",
       "      <td>a</td>\n",
       "      <td>a</td>\n",
       "      <td>14130.0</td>\n",
       "      <td>12.0</td>\n",
       "      <td>2006.0</td>\n",
       "      <td>1.0</td>\n",
       "      <td>2015.0</td>\n",
       "      <td>7.0</td>\n",
       "      <td>31.0</td>\n",
       "    </tr>\n",
       "  </tbody>\n",
       "</table>\n",
       "</div>"
      ],
      "text/plain": [
       "   Store  DayOfWeek        Date  Sales  Customers  Open  Promo StateHoliday  \\\n",
       "0      1          5  2015-07-31   5263        555     1      1            0   \n",
       "1      2          5  2015-07-31   6064        625     1      1            0   \n",
       "2      3          5  2015-07-31   8314        821     1      1            0   \n",
       "\n",
       "  SchoolHoliday StoreType Assortment  CompetitionDistance  \\\n",
       "0             1         c          a               1270.0   \n",
       "1             1         a          a                570.0   \n",
       "2             1         a          a              14130.0   \n",
       "\n",
       "   CompetitionOpenSinceMonth  CompetitionOpenSinceYear  Promo2    Year  Month  \\\n",
       "0                        9.0                    2008.0     0.0  2015.0    7.0   \n",
       "1                       11.0                    2007.0     1.0  2015.0    7.0   \n",
       "2                       12.0                    2006.0     1.0  2015.0    7.0   \n",
       "\n",
       "    Day  \n",
       "0  31.0  \n",
       "1  31.0  \n",
       "2  31.0  "
      ]
     },
     "execution_count": 24,
     "metadata": {},
     "output_type": "execute_result"
    }
   ],
   "source": [
    "#Checking out the first rows for Train Data\n",
    "stores_train_data[:3]"
   ]
  },
  {
   "cell_type": "code",
   "execution_count": 25,
   "metadata": {
    "scrolled": true
   },
   "outputs": [
    {
     "data": {
      "text/html": [
       "<div>\n",
       "<style scoped>\n",
       "    .dataframe tbody tr th:only-of-type {\n",
       "        vertical-align: middle;\n",
       "    }\n",
       "\n",
       "    .dataframe tbody tr th {\n",
       "        vertical-align: top;\n",
       "    }\n",
       "\n",
       "    .dataframe thead th {\n",
       "        text-align: right;\n",
       "    }\n",
       "</style>\n",
       "<table border=\"1\" class=\"dataframe\">\n",
       "  <thead>\n",
       "    <tr style=\"text-align: right;\">\n",
       "      <th></th>\n",
       "      <th>Id</th>\n",
       "      <th>Store</th>\n",
       "      <th>DayOfWeek</th>\n",
       "      <th>Date</th>\n",
       "      <th>Open</th>\n",
       "      <th>Promo</th>\n",
       "      <th>StateHoliday</th>\n",
       "      <th>SchoolHoliday</th>\n",
       "      <th>StoreType</th>\n",
       "      <th>Assortment</th>\n",
       "      <th>CompetitionDistance</th>\n",
       "      <th>CompetitionOpenSinceMonth</th>\n",
       "      <th>CompetitionOpenSinceYear</th>\n",
       "      <th>Promo2</th>\n",
       "      <th>Year</th>\n",
       "      <th>Month</th>\n",
       "      <th>Day</th>\n",
       "    </tr>\n",
       "  </thead>\n",
       "  <tbody>\n",
       "    <tr>\n",
       "      <th>0</th>\n",
       "      <td>1</td>\n",
       "      <td>1</td>\n",
       "      <td>4</td>\n",
       "      <td>2015-09-17</td>\n",
       "      <td>1.0</td>\n",
       "      <td>1</td>\n",
       "      <td>0</td>\n",
       "      <td>0</td>\n",
       "      <td>c</td>\n",
       "      <td>a</td>\n",
       "      <td>1270.0</td>\n",
       "      <td>9.0</td>\n",
       "      <td>2008.0</td>\n",
       "      <td>0.0</td>\n",
       "      <td>2015.0</td>\n",
       "      <td>9.0</td>\n",
       "      <td>17.0</td>\n",
       "    </tr>\n",
       "    <tr>\n",
       "      <th>1</th>\n",
       "      <td>2</td>\n",
       "      <td>3</td>\n",
       "      <td>4</td>\n",
       "      <td>2015-09-17</td>\n",
       "      <td>1.0</td>\n",
       "      <td>1</td>\n",
       "      <td>0</td>\n",
       "      <td>0</td>\n",
       "      <td>a</td>\n",
       "      <td>a</td>\n",
       "      <td>14130.0</td>\n",
       "      <td>12.0</td>\n",
       "      <td>2006.0</td>\n",
       "      <td>1.0</td>\n",
       "      <td>2015.0</td>\n",
       "      <td>9.0</td>\n",
       "      <td>17.0</td>\n",
       "    </tr>\n",
       "    <tr>\n",
       "      <th>2</th>\n",
       "      <td>3</td>\n",
       "      <td>7</td>\n",
       "      <td>4</td>\n",
       "      <td>2015-09-17</td>\n",
       "      <td>1.0</td>\n",
       "      <td>1</td>\n",
       "      <td>0</td>\n",
       "      <td>0</td>\n",
       "      <td>a</td>\n",
       "      <td>c</td>\n",
       "      <td>24000.0</td>\n",
       "      <td>4.0</td>\n",
       "      <td>2013.0</td>\n",
       "      <td>0.0</td>\n",
       "      <td>2015.0</td>\n",
       "      <td>9.0</td>\n",
       "      <td>17.0</td>\n",
       "    </tr>\n",
       "  </tbody>\n",
       "</table>\n",
       "</div>"
      ],
      "text/plain": [
       "   Id  Store  DayOfWeek        Date  Open  Promo StateHoliday  SchoolHoliday  \\\n",
       "0   1      1          4  2015-09-17   1.0      1            0              0   \n",
       "1   2      3          4  2015-09-17   1.0      1            0              0   \n",
       "2   3      7          4  2015-09-17   1.0      1            0              0   \n",
       "\n",
       "  StoreType Assortment  CompetitionDistance  CompetitionOpenSinceMonth  \\\n",
       "0         c          a               1270.0                        9.0   \n",
       "1         a          a              14130.0                       12.0   \n",
       "2         a          c              24000.0                        4.0   \n",
       "\n",
       "   CompetitionOpenSinceYear  Promo2    Year  Month   Day  \n",
       "0                    2008.0     0.0  2015.0    9.0  17.0  \n",
       "1                    2006.0     1.0  2015.0    9.0  17.0  \n",
       "2                    2013.0     0.0  2015.0    9.0  17.0  "
      ]
     },
     "execution_count": 25,
     "metadata": {},
     "output_type": "execute_result"
    }
   ],
   "source": [
    "#Checking out the first rows for Test Data\n",
    "stores_test_data[:3]"
   ]
  },
  {
   "cell_type": "markdown",
   "metadata": {},
   "source": [
    "It looks great!!!\n",
    "\n",
    "Later we will drop the Date column."
   ]
  },
  {
   "cell_type": "markdown",
   "metadata": {},
   "source": [
    "### Plotting some graphics"
   ]
  },
  {
   "cell_type": "code",
   "execution_count": 26,
   "metadata": {},
   "outputs": [
    {
     "data": {
      "text/plain": [
       "array([5, 4, 3, 2, 1, 7, 6])"
      ]
     },
     "execution_count": 26,
     "metadata": {},
     "output_type": "execute_result"
    }
   ],
   "source": [
    "#Let's check the relationship between DayOfWeek and Sales\n",
    "#Before, I must separate the days of the week into unique values\n",
    "days_of_week = stores_train_data['DayOfWeek'].unique()\n",
    "days_of_week"
   ]
  },
  {
   "cell_type": "code",
   "execution_count": 27,
   "metadata": {},
   "outputs": [],
   "source": [
    "#For each day of the week I make the sum of the total sales volume\n",
    "sales_by_week_day = {}\n",
    "for x in days_of_week:\n",
    "    selected_row = stores_train_data.loc[stores_train_data[\"DayOfWeek\"] == x, \"Sales\"].sum().astype(float)    \n",
    "    sales_by_week_day[x] = selected_row    "
   ]
  },
  {
   "cell_type": "code",
   "execution_count": 28,
   "metadata": {},
   "outputs": [
    {
     "data": {
      "text/plain": [
       "{5: 980555941.0,\n",
       " 4: 911177709.0,\n",
       " 3: 954962863.0,\n",
       " 2: 1020411930.0,\n",
       " 1: 1130203012.0,\n",
       " 7: 29551433.0,\n",
       " 6: 846317735.0}"
      ]
     },
     "execution_count": 28,
     "metadata": {},
     "output_type": "execute_result"
    }
   ],
   "source": [
    "#Values (should be organized by day of the week)\n",
    "sales_by_week_day"
   ]
  },
  {
   "cell_type": "code",
   "execution_count": 29,
   "metadata": {},
   "outputs": [],
   "source": [
    "#Values are organized by the days of the week, which are the dictionary keys\n",
    "tuple_days_of_week_sales = sorted(sales_by_week_day.items())"
   ]
  },
  {
   "cell_type": "code",
   "execution_count": 30,
   "metadata": {},
   "outputs": [
    {
     "data": {
      "text/plain": [
       "[(1, 1130203012.0),\n",
       " (2, 1020411930.0),\n",
       " (3, 954962863.0),\n",
       " (4, 911177709.0),\n",
       " (5, 980555941.0),\n",
       " (6, 846317735.0),\n",
       " (7, 29551433.0)]"
      ]
     },
     "execution_count": 30,
     "metadata": {},
     "output_type": "execute_result"
    }
   ],
   "source": [
    "#Much better now\n",
    "tuple_days_of_week_sales"
   ]
  },
  {
   "cell_type": "code",
   "execution_count": 31,
   "metadata": {},
   "outputs": [],
   "source": [
    "#The data are separated for plotting\n",
    "axis_days_of_week, axis_sales = zip(*tuple_days_of_week_sales) "
   ]
  },
  {
   "cell_type": "code",
   "execution_count": 32,
   "metadata": {},
   "outputs": [
    {
     "data": {
      "text/plain": [
       "(array([-2.0e+08,  0.0e+00,  2.0e+08,  4.0e+08,  6.0e+08,  8.0e+08,\n",
       "         1.0e+09,  1.2e+09]), <a list of 8 Text yticklabel objects>)"
      ]
     },
     "execution_count": 32,
     "metadata": {},
     "output_type": "execute_result"
    },
    {
     "data": {
      "image/png": "[encoded data removed]",
      "text/plain": [
       "<Figure size 720x504 with 1 Axes>"
      ]
     },
     "metadata": {},
     "output_type": "display_data"
    }
   ],
   "source": [
    "#Simple plot\n",
    "plt.figure(figsize=(10,7))\n",
    "\n",
    "#Color for colorblind people\n",
    "color_new = (255/255, 128/255, 14/255)\n",
    "plt.plot(axis_days_of_week,axis_sales, c=color_new, linewidth=3)\n",
    "plt.title('Sales Volume per day of the week', fontsize=21)\n",
    "plt.xlabel('Day of the week', fontsize=18)\n",
    "plt.ylabel('Sales Volume', fontsize=18)\n",
    "plt.xticks(fontsize=15)\n",
    "plt.yticks(fontsize=15)"
   ]
  },
  {
   "cell_type": "markdown",
   "metadata": {},
   "source": [
    "From the chart above you can see that there is a drop in sales volume as the week goes by. With 1 being a Monday, on Wednesday the volume reaches a low, on Thursday there is a slight rise, but on Friday and the weekend sales fall.\n",
    "\n",
    "Now we know that day of the week is an important variable."
   ]
  },
  {
   "cell_type": "code",
   "execution_count": 33,
   "metadata": {},
   "outputs": [],
   "source": [
    "#Let's check the relation between the days of the week with the number of customers\n",
    "customers_by_week_day = {}\n",
    "for x in days_of_week:\n",
    "    selected_row = stores_train_data.loc[stores_train_data[\"DayOfWeek\"] == x, \"Customers\"].sum().astype(float)    \n",
    "    customers_by_week_day[x] = selected_row    "
   ]
  },
  {
   "cell_type": "code",
   "execution_count": 34,
   "metadata": {},
   "outputs": [
    {
     "data": {
      "text/plain": [
       "{5: 108384820.0,\n",
       " 4: 101732938.0,\n",
       " 3: 105117642.0,\n",
       " 2: 110848063.0,\n",
       " 1: 117675012.0,\n",
       " 7: 5179426.0,\n",
       " 6: 95103854.0}"
      ]
     },
     "execution_count": 34,
     "metadata": {},
     "output_type": "execute_result"
    }
   ],
   "source": [
    "#Values (should be organized by day of the week)\n",
    "customers_by_week_day"
   ]
  },
  {
   "cell_type": "code",
   "execution_count": 35,
   "metadata": {},
   "outputs": [],
   "source": [
    "#Values are organized by the days of the week, which are the dictionary keys\n",
    "tuple_days_of_week_customers = sorted(customers_by_week_day.items())"
   ]
  },
  {
   "cell_type": "code",
   "execution_count": 36,
   "metadata": {},
   "outputs": [
    {
     "data": {
      "text/plain": [
       "[(1, 117675012.0),\n",
       " (2, 110848063.0),\n",
       " (3, 105117642.0),\n",
       " (4, 101732938.0),\n",
       " (5, 108384820.0),\n",
       " (6, 95103854.0),\n",
       " (7, 5179426.0)]"
      ]
     },
     "execution_count": 36,
     "metadata": {},
     "output_type": "execute_result"
    }
   ],
   "source": [
    "#Much better now\n",
    "tuple_days_of_week_customers"
   ]
  },
  {
   "cell_type": "code",
   "execution_count": 37,
   "metadata": {},
   "outputs": [],
   "source": [
    "#The data are separated for plotting\n",
    "axis_days_of_week_customers, axis_customers = zip(*tuple_days_of_week_sales) "
   ]
  },
  {
   "cell_type": "code",
   "execution_count": 38,
   "metadata": {},
   "outputs": [
    {
     "data": {
      "text/plain": [
       "(array([-2.0e+08,  0.0e+00,  2.0e+08,  4.0e+08,  6.0e+08,  8.0e+08,\n",
       "         1.0e+09,  1.2e+09]), <a list of 8 Text yticklabel objects>)"
      ]
     },
     "execution_count": 38,
     "metadata": {},
     "output_type": "execute_result"
    },
    {
     "data": {
      "image/png": "[encoded data removed]",
      "text/plain": [
       "<Figure size 720x504 with 1 Axes>"
      ]
     },
     "metadata": {},
     "output_type": "display_data"
    }
   ],
   "source": [
    "#Simple plot\n",
    "plt.figure(figsize=(10,7))\n",
    "\n",
    "#Color for colorblind people\n",
    "color_new = (255/255, 128/255, 14/255)\n",
    "plt.plot(axis_days_of_week_customers, axis_customers, c=color_new, linewidth=3)\n",
    "plt.title('Number of customers per day of the week', fontsize=21)\n",
    "plt.xlabel('Day of the week', fontsize=18)\n",
    "plt.ylabel('Number of customers', fontsize=18)\n",
    "plt.xticks(fontsize=15)\n",
    "plt.yticks(fontsize=15)"
   ]
  },
  {
   "cell_type": "markdown",
   "metadata": {},
   "source": [
    "The two graphs generated are very similar, this shows the strong relationship between the number of sales and the number of customers, quite obvious information, but it is still interesting to show.\n",
    "\n",
    "Unfortunately this attribute is not found in the test dataset, the problem would be solved more easily."
   ]
  },
  {
   "cell_type": "code",
   "execution_count": 39,
   "metadata": {},
   "outputs": [
    {
     "data": {
      "text/plain": [
       "{0: 2771974337.0, 1: 3101206286.0}"
      ]
     },
     "execution_count": 39,
     "metadata": {},
     "output_type": "execute_result"
    }
   ],
   "source": [
    "#Let's check the ratio of the number of sales to stores that do promotion and stores that do not\n",
    "stores_promo_or_not = {}\n",
    "for x in range(0,2):\n",
    "    selected_row = stores_train_data.loc[stores_train_data[\"Promo\"] == x, \"Sales\"].sum().astype(float)    \n",
    "    stores_promo_or_not[x] = selected_row  \n",
    "    \n",
    "stores_promo_or_not    "
   ]
  },
  {
   "cell_type": "code",
   "execution_count": 40,
   "metadata": {},
   "outputs": [
    {
     "data": {
      "text/plain": [
       "[(0, 2771974337.0), (1, 3101206286.0)]"
      ]
     },
     "execution_count": 40,
     "metadata": {},
     "output_type": "execute_result"
    }
   ],
   "source": [
    "tuple_promo_or_not = sorted(stores_promo_or_not.items())\n",
    "tuple_promo_or_not"
   ]
  },
  {
   "cell_type": "code",
   "execution_count": 41,
   "metadata": {},
   "outputs": [],
   "source": [
    "#The data are separated for plotting\n",
    "axis_promo_or_not, axis_sales_promo_or_not = zip(*tuple_promo_or_not) "
   ]
  },
  {
   "cell_type": "code",
   "execution_count": 42,
   "metadata": {},
   "outputs": [
    {
     "data": {
      "text/plain": [
       "(array([0.0e+00, 5.0e+08, 1.0e+09, 1.5e+09, 2.0e+09, 2.5e+09, 3.0e+09,\n",
       "        3.5e+09]), <a list of 8 Text yticklabel objects>)"
      ]
     },
     "execution_count": 42,
     "metadata": {},
     "output_type": "execute_result"
    },
    {
     "data": {
      "image/png": "[encoded data removed]",
      "text/plain": [
       "<Figure size 720x504 with 1 Axes>"
      ]
     },
     "metadata": {},
     "output_type": "display_data"
    }
   ],
   "source": [
    "#Simple plot\n",
    "plt.figure(figsize=(10,7))\n",
    "\n",
    "#Color for colorblind people\n",
    "color_new = (255/255, 128/255, 14/255)\n",
    "\n",
    "plt.bar(axis_promo_or_not, axis_sales_promo_or_not)\n",
    "plt.xticks(axis_promo_or_not, ['No promo', 'With promo'])\n",
    "plt.title('Sales volume and promo', fontsize=21)\n",
    "plt.ylabel('Sales volume', fontsize=18)\n",
    "plt.xticks(fontsize=15)\n",
    "plt.yticks(fontsize=15)"
   ]
  },
  {
   "cell_type": "markdown",
   "metadata": {},
   "source": [
    "By the bar graph it is clear that the promotions end up helping in the profit of the store."
   ]
  },
  {
   "cell_type": "markdown",
   "metadata": {},
   "source": [
    "# Changing columns from String to Numeric"
   ]
  },
  {
   "cell_type": "markdown",
   "metadata": {},
   "source": [
    "To deliver our dataset (Train Data and Test Data) to the Machine Learning algorithm, we need all the data to be numeric, so we must convert __StoreType__, __Assortment__, __StateHoliday__ and __SchoolHoliday__.\n",
    "\n",
    "Let's use LabelEnconder from sklearn."
   ]
  },
  {
   "cell_type": "code",
   "execution_count": 43,
   "metadata": {},
   "outputs": [
    {
     "name": "stdout",
     "output_type": "stream",
     "text": [
      "['a', 'b', 'c', 'd']\n"
     ]
    }
   ],
   "source": [
    "#Unique values for transformation - StoreType\n",
    "print(sorted(pd.Series(stores_train_data[\"StoreType\"]).unique()))"
   ]
  },
  {
   "cell_type": "code",
   "execution_count": 44,
   "metadata": {},
   "outputs": [
    {
     "name": "stdout",
     "output_type": "stream",
     "text": [
      "['a', 'b', 'c']\n"
     ]
    }
   ],
   "source": [
    "#Unique values for transformation - Assortment\n",
    "print(sorted(pd.Series(stores_train_data[\"Assortment\"]).unique()))"
   ]
  },
  {
   "cell_type": "code",
   "execution_count": 45,
   "metadata": {},
   "outputs": [
    {
     "data": {
      "text/plain": [
       "0    c\n",
       "1    a\n",
       "2    a\n",
       "3    c\n",
       "4    a\n",
       "Name: StoreType, dtype: object"
      ]
     },
     "execution_count": 45,
     "metadata": {},
     "output_type": "execute_result"
    }
   ],
   "source": [
    "#StoreType - Before - Store Train Data\n",
    "stores_train_data[\"StoreType\"][:5]"
   ]
  },
  {
   "cell_type": "code",
   "execution_count": 46,
   "metadata": {},
   "outputs": [
    {
     "data": {
      "text/plain": [
       "0    c\n",
       "1    a\n",
       "2    a\n",
       "3    a\n",
       "4    a\n",
       "Name: StoreType, dtype: object"
      ]
     },
     "execution_count": 46,
     "metadata": {},
     "output_type": "execute_result"
    }
   ],
   "source": [
    "#StoreType - Before - Store Test Data\n",
    "stores_test_data[\"StoreType\"][:5]"
   ]
  },
  {
   "cell_type": "code",
   "execution_count": 47,
   "metadata": {},
   "outputs": [
    {
     "data": {
      "text/plain": [
       "0    a\n",
       "1    a\n",
       "2    a\n",
       "3    c\n",
       "4    a\n",
       "Name: Assortment, dtype: object"
      ]
     },
     "execution_count": 47,
     "metadata": {},
     "output_type": "execute_result"
    }
   ],
   "source": [
    "#Assortment - Before - Store Train Data\n",
    "stores_train_data[\"Assortment\"][:5]"
   ]
  },
  {
   "cell_type": "code",
   "execution_count": 48,
   "metadata": {},
   "outputs": [
    {
     "data": {
      "text/plain": [
       "0    a\n",
       "1    a\n",
       "2    c\n",
       "3    a\n",
       "4    c\n",
       "Name: Assortment, dtype: object"
      ]
     },
     "execution_count": 48,
     "metadata": {},
     "output_type": "execute_result"
    }
   ],
   "source": [
    "#Assortment - Before - Store Test Data\n",
    "stores_test_data[\"Assortment\"][:5]"
   ]
  },
  {
   "cell_type": "code",
   "execution_count": 49,
   "metadata": {},
   "outputs": [],
   "source": [
    "#Using LabelEncoder\n",
    "label_encoder = LabelEncoder()\n",
    "\n",
    "#Store Train Data\n",
    "stores_train_data[\"StoreType\"] = label_encoder.fit_transform(stores_train_data[\"StoreType\"])\n",
    "stores_train_data[\"Assortment\"] = label_encoder.fit_transform(stores_train_data[\"Assortment\"])\n",
    "\n",
    "#Store Test Data\n",
    "stores_test_data[\"StoreType\"] = label_encoder.fit_transform(stores_test_data[\"StoreType\"])\n",
    "stores_test_data[\"Assortment\"] = label_encoder.fit_transform(stores_test_data[\"Assortment\"])"
   ]
  },
  {
   "cell_type": "code",
   "execution_count": 50,
   "metadata": {},
   "outputs": [
    {
     "data": {
      "text/plain": [
       "0    2\n",
       "1    0\n",
       "2    0\n",
       "3    2\n",
       "4    0\n",
       "Name: StoreType, dtype: int64"
      ]
     },
     "execution_count": 50,
     "metadata": {},
     "output_type": "execute_result"
    }
   ],
   "source": [
    "#StoreType - After - Store Train Data\n",
    "stores_train_data[\"StoreType\"][:5]"
   ]
  },
  {
   "cell_type": "code",
   "execution_count": 51,
   "metadata": {},
   "outputs": [
    {
     "data": {
      "text/plain": [
       "0    2\n",
       "1    0\n",
       "2    0\n",
       "3    0\n",
       "4    0\n",
       "Name: StoreType, dtype: int64"
      ]
     },
     "execution_count": 51,
     "metadata": {},
     "output_type": "execute_result"
    }
   ],
   "source": [
    "#Assortment - After - Store Test Data\n",
    "stores_test_data[\"StoreType\"][:5]"
   ]
  },
  {
   "cell_type": "code",
   "execution_count": 52,
   "metadata": {},
   "outputs": [
    {
     "data": {
      "text/plain": [
       "0    0\n",
       "1    0\n",
       "2    0\n",
       "3    2\n",
       "4    0\n",
       "Name: Assortment, dtype: int64"
      ]
     },
     "execution_count": 52,
     "metadata": {},
     "output_type": "execute_result"
    }
   ],
   "source": [
    "#Assortment - After - Store Train Data\n",
    "stores_train_data[\"Assortment\"][:5]"
   ]
  },
  {
   "cell_type": "code",
   "execution_count": 53,
   "metadata": {},
   "outputs": [
    {
     "data": {
      "text/plain": [
       "0    0\n",
       "1    0\n",
       "2    2\n",
       "3    0\n",
       "4    2\n",
       "Name: Assortment, dtype: int64"
      ]
     },
     "execution_count": 53,
     "metadata": {},
     "output_type": "execute_result"
    }
   ],
   "source": [
    "#Assortment - After - Store Test Data\n",
    "stores_test_data[\"Assortment\"][:5]"
   ]
  },
  {
   "cell_type": "markdown",
   "metadata": {},
   "source": [
    "For StateHoliday and SchoolHoliday we have to do manually."
   ]
  },
  {
   "cell_type": "code",
   "execution_count": 54,
   "metadata": {},
   "outputs": [
    {
     "name": "stdout",
     "output_type": "stream",
     "text": [
      "['0' 'a' 'b' 'c' 0 '\"0\"' '\"a\"' '\"c\"' '\"b\"']\n"
     ]
    }
   ],
   "source": [
    "#Unique values for transformation - Train Data - StateHoliday\n",
    "print(pd.Series(stores_train_data[\"StateHoliday\"]).unique())"
   ]
  },
  {
   "cell_type": "code",
   "execution_count": 55,
   "metadata": {},
   "outputs": [
    {
     "name": "stdout",
     "output_type": "stream",
     "text": [
      "['0' 'a']\n"
     ]
    }
   ],
   "source": [
    "#Unique values for transformation - Test Data - StateHoliday\n",
    "print(pd.Series(stores_test_data[\"StateHoliday\"]).unique())"
   ]
  },
  {
   "cell_type": "code",
   "execution_count": 56,
   "metadata": {},
   "outputs": [
    {
     "name": "stdout",
     "output_type": "stream",
     "text": [
      "[1 0 '\"0\"' '\"1\"']\n"
     ]
    }
   ],
   "source": [
    "#Unique values for transformation - Train Data - SchoolHoliday\n",
    "print(pd.Series(stores_train_data[\"SchoolHoliday\"]).unique())"
   ]
  },
  {
   "cell_type": "code",
   "execution_count": 57,
   "metadata": {},
   "outputs": [
    {
     "name": "stdout",
     "output_type": "stream",
     "text": [
      "[0 1]\n"
     ]
    }
   ],
   "source": [
    "#Unique values for transformation - Test Data - SchoolHoliday\n",
    "print(pd.Series(stores_test_data[\"SchoolHoliday\"]).unique())"
   ]
  },
  {
   "cell_type": "code",
   "execution_count": 58,
   "metadata": {},
   "outputs": [],
   "source": [
    "#Replacing for StateHoliday - Train Data\n",
    "stores_train_data.loc[stores_train_data[\"StateHoliday\"] == '0', \"StateHoliday\"] = 0\n",
    "stores_train_data.loc[stores_train_data[\"StateHoliday\"] == 'a', \"StateHoliday\"] = 1\n",
    "stores_train_data.loc[stores_train_data[\"StateHoliday\"] == 'b', \"StateHoliday\"] = 2\n",
    "stores_train_data.loc[stores_train_data[\"StateHoliday\"] == 'c', \"StateHoliday\"] = 3\n",
    "stores_train_data.loc[stores_train_data[\"StateHoliday\"] == '\"0\"', \"StateHoliday\"] = 0\n",
    "stores_train_data.loc[stores_train_data[\"StateHoliday\"] == '\"a\"', \"StateHoliday\"] = 1\n",
    "stores_train_data.loc[stores_train_data[\"StateHoliday\"] ==  '\"b\"', \"StateHoliday\"] = 2\n",
    "stores_train_data.loc[stores_train_data[\"StateHoliday\"] == '\"c\"', \"StateHoliday\"] = 3\n",
    "\n",
    "#Replacing for StateHoliday - Test Data\n",
    "stores_test_data.loc[stores_test_data[\"StateHoliday\"] == '0', \"StateHoliday\"] = 0\n",
    "stores_test_data.loc[stores_test_data[\"StateHoliday\"] == 'a', \"StateHoliday\"] = 1"
   ]
  },
  {
   "cell_type": "code",
   "execution_count": 59,
   "metadata": {},
   "outputs": [],
   "source": [
    "#Replacing for SchoolHoliday - Train Data\n",
    "stores_train_data.loc[stores_train_data[\"SchoolHoliday\"] == '\"0\"', \"SchoolHoliday\"] = 0\n",
    "stores_train_data.loc[stores_train_data[\"SchoolHoliday\"] == '\"1\"', \"SchoolHoliday\"] = 1"
   ]
  },
  {
   "cell_type": "code",
   "execution_count": 60,
   "metadata": {},
   "outputs": [
    {
     "name": "stdout",
     "output_type": "stream",
     "text": [
      "[0 1 2 3]\n"
     ]
    }
   ],
   "source": [
    "#Unique values for transformation - Train Data - StateHoliday\n",
    "print(pd.Series(stores_train_data[\"StateHoliday\"]).unique())"
   ]
  },
  {
   "cell_type": "code",
   "execution_count": 61,
   "metadata": {},
   "outputs": [
    {
     "name": "stdout",
     "output_type": "stream",
     "text": [
      "[0 1]\n"
     ]
    }
   ],
   "source": [
    "#Unique values for transformation - Test Data - StateHoliday\n",
    "print(pd.Series(stores_test_data[\"StateHoliday\"]).unique())"
   ]
  },
  {
   "cell_type": "code",
   "execution_count": 62,
   "metadata": {},
   "outputs": [
    {
     "name": "stdout",
     "output_type": "stream",
     "text": [
      "[1 0]\n"
     ]
    }
   ],
   "source": [
    "#Unique values for transformation - Train Data - SchoolHoliday\n",
    "print(pd.Series(stores_train_data[\"SchoolHoliday\"]).unique())"
   ]
  },
  {
   "cell_type": "code",
   "execution_count": 63,
   "metadata": {},
   "outputs": [
    {
     "name": "stdout",
     "output_type": "stream",
     "text": [
      "[0 1]\n"
     ]
    }
   ],
   "source": [
    "#Unique values for transformation - Test Data - SchoolHoliday\n",
    "print(pd.Series(stores_test_data[\"SchoolHoliday\"]).unique())"
   ]
  },
  {
   "cell_type": "markdown",
   "metadata": {},
   "source": [
    "### Correlation between the data"
   ]
  },
  {
   "cell_type": "code",
   "execution_count": 64,
   "metadata": {},
   "outputs": [
    {
     "data": {
      "text/html": [
       "<div>\n",
       "<style scoped>\n",
       "    .dataframe tbody tr th:only-of-type {\n",
       "        vertical-align: middle;\n",
       "    }\n",
       "\n",
       "    .dataframe tbody tr th {\n",
       "        vertical-align: top;\n",
       "    }\n",
       "\n",
       "    .dataframe thead th {\n",
       "        text-align: right;\n",
       "    }\n",
       "</style>\n",
       "<table border=\"1\" class=\"dataframe\">\n",
       "  <thead>\n",
       "    <tr style=\"text-align: right;\">\n",
       "      <th></th>\n",
       "      <th>Store</th>\n",
       "      <th>DayOfWeek</th>\n",
       "      <th>Sales</th>\n",
       "      <th>Customers</th>\n",
       "      <th>Open</th>\n",
       "      <th>Promo</th>\n",
       "      <th>StateHoliday</th>\n",
       "      <th>SchoolHoliday</th>\n",
       "      <th>StoreType</th>\n",
       "      <th>Assortment</th>\n",
       "      <th>CompetitionDistance</th>\n",
       "      <th>CompetitionOpenSinceMonth</th>\n",
       "      <th>CompetitionOpenSinceYear</th>\n",
       "      <th>Promo2</th>\n",
       "      <th>Year</th>\n",
       "      <th>Month</th>\n",
       "      <th>Day</th>\n",
       "    </tr>\n",
       "  </thead>\n",
       "  <tbody>\n",
       "    <tr>\n",
       "      <th>Store</th>\n",
       "      <td>1.000000</td>\n",
       "      <td>-0.000008</td>\n",
       "      <td>0.005126</td>\n",
       "      <td>0.024325</td>\n",
       "      <td>-0.000047</td>\n",
       "      <td>0.000058</td>\n",
       "      <td>0.000362</td>\n",
       "      <td>0.000641</td>\n",
       "      <td>-0.021604</td>\n",
       "      <td>0.004419</td>\n",
       "      <td>-0.026483</td>\n",
       "      <td>-0.037472</td>\n",
       "      <td>-0.000224</td>\n",
       "      <td>0.008488</td>\n",
       "      <td>0.000290</td>\n",
       "      <td>0.001467</td>\n",
       "      <td>0.000023</td>\n",
       "    </tr>\n",
       "    <tr>\n",
       "      <th>DayOfWeek</th>\n",
       "      <td>-0.000008</td>\n",
       "      <td>1.000000</td>\n",
       "      <td>-0.462125</td>\n",
       "      <td>-0.386445</td>\n",
       "      <td>-0.528963</td>\n",
       "      <td>-0.392925</td>\n",
       "      <td>-0.044265</td>\n",
       "      <td>-0.205388</td>\n",
       "      <td>0.000051</td>\n",
       "      <td>-0.000052</td>\n",
       "      <td>-0.000025</td>\n",
       "      <td>0.000003</td>\n",
       "      <td>-0.000022</td>\n",
       "      <td>0.000168</td>\n",
       "      <td>0.001937</td>\n",
       "      <td>-0.005362</td>\n",
       "      <td>0.005136</td>\n",
       "    </tr>\n",
       "    <tr>\n",
       "      <th>Sales</th>\n",
       "      <td>0.005126</td>\n",
       "      <td>-0.462125</td>\n",
       "      <td>1.000000</td>\n",
       "      <td>0.894711</td>\n",
       "      <td>0.678472</td>\n",
       "      <td>0.452345</td>\n",
       "      <td>-0.229029</td>\n",
       "      <td>0.085124</td>\n",
       "      <td>-0.013057</td>\n",
       "      <td>0.074941</td>\n",
       "      <td>-0.018637</td>\n",
       "      <td>-0.023226</td>\n",
       "      <td>0.008740</td>\n",
       "      <td>-0.091040</td>\n",
       "      <td>0.023519</td>\n",
       "      <td>0.048768</td>\n",
       "      <td>-0.011612</td>\n",
       "    </tr>\n",
       "    <tr>\n",
       "      <th>Customers</th>\n",
       "      <td>0.024325</td>\n",
       "      <td>-0.386445</td>\n",
       "      <td>0.894711</td>\n",
       "      <td>1.000000</td>\n",
       "      <td>0.616768</td>\n",
       "      <td>0.316169</td>\n",
       "      <td>-0.204295</td>\n",
       "      <td>0.071568</td>\n",
       "      <td>-0.141423</td>\n",
       "      <td>0.007044</td>\n",
       "      <td>-0.102060</td>\n",
       "      <td>-0.024093</td>\n",
       "      <td>0.006541</td>\n",
       "      <td>-0.150159</td>\n",
       "      <td>-0.001212</td>\n",
       "      <td>0.038179</td>\n",
       "      <td>-0.004473</td>\n",
       "    </tr>\n",
       "    <tr>\n",
       "      <th>Open</th>\n",
       "      <td>-0.000047</td>\n",
       "      <td>-0.528963</td>\n",
       "      <td>0.678472</td>\n",
       "      <td>0.616768</td>\n",
       "      <td>1.000000</td>\n",
       "      <td>0.295042</td>\n",
       "      <td>-0.340893</td>\n",
       "      <td>0.086171</td>\n",
       "      <td>-0.003325</td>\n",
       "      <td>0.002972</td>\n",
       "      <td>0.007989</td>\n",
       "      <td>0.001436</td>\n",
       "      <td>0.002557</td>\n",
       "      <td>-0.008309</td>\n",
       "      <td>-0.001009</td>\n",
       "      <td>-0.000681</td>\n",
       "      <td>0.033428</td>\n",
       "    </tr>\n",
       "    <tr>\n",
       "      <th>Promo</th>\n",
       "      <td>0.000058</td>\n",
       "      <td>-0.392925</td>\n",
       "      <td>0.452345</td>\n",
       "      <td>0.316169</td>\n",
       "      <td>0.295042</td>\n",
       "      <td>1.000000</td>\n",
       "      <td>-0.024157</td>\n",
       "      <td>0.067483</td>\n",
       "      <td>-0.000299</td>\n",
       "      <td>0.000294</td>\n",
       "      <td>0.000141</td>\n",
       "      <td>-0.000008</td>\n",
       "      <td>0.000130</td>\n",
       "      <td>-0.000983</td>\n",
       "      <td>0.024300</td>\n",
       "      <td>-0.011747</td>\n",
       "      <td>-0.108325</td>\n",
       "    </tr>\n",
       "    <tr>\n",
       "      <th>StateHoliday</th>\n",
       "      <td>0.000362</td>\n",
       "      <td>-0.044265</td>\n",
       "      <td>-0.229029</td>\n",
       "      <td>-0.204295</td>\n",
       "      <td>-0.340893</td>\n",
       "      <td>-0.024157</td>\n",
       "      <td>1.000000</td>\n",
       "      <td>0.196424</td>\n",
       "      <td>0.001360</td>\n",
       "      <td>-0.001497</td>\n",
       "      <td>-0.000400</td>\n",
       "      <td>0.000789</td>\n",
       "      <td>-0.001396</td>\n",
       "      <td>0.004839</td>\n",
       "      <td>-0.005067</td>\n",
       "      <td>0.038058</td>\n",
       "      <td>-0.015652</td>\n",
       "    </tr>\n",
       "    <tr>\n",
       "      <th>SchoolHoliday</th>\n",
       "      <td>0.000641</td>\n",
       "      <td>-0.205388</td>\n",
       "      <td>0.085124</td>\n",
       "      <td>0.071568</td>\n",
       "      <td>0.086171</td>\n",
       "      <td>0.067483</td>\n",
       "      <td>0.196424</td>\n",
       "      <td>1.000000</td>\n",
       "      <td>0.000032</td>\n",
       "      <td>-0.002530</td>\n",
       "      <td>-0.003653</td>\n",
       "      <td>0.000124</td>\n",
       "      <td>0.001841</td>\n",
       "      <td>-0.006909</td>\n",
       "      <td>-0.036535</td>\n",
       "      <td>0.103282</td>\n",
       "      <td>0.030538</td>\n",
       "    </tr>\n",
       "    <tr>\n",
       "      <th>StoreType</th>\n",
       "      <td>-0.021604</td>\n",
       "      <td>0.000051</td>\n",
       "      <td>-0.013057</td>\n",
       "      <td>-0.141423</td>\n",
       "      <td>-0.003325</td>\n",
       "      <td>-0.000299</td>\n",
       "      <td>0.001360</td>\n",
       "      <td>0.000032</td>\n",
       "      <td>1.000000</td>\n",
       "      <td>0.232862</td>\n",
       "      <td>0.077105</td>\n",
       "      <td>0.040474</td>\n",
       "      <td>0.043591</td>\n",
       "      <td>0.088922</td>\n",
       "      <td>-0.001514</td>\n",
       "      <td>-0.007692</td>\n",
       "      <td>-0.000109</td>\n",
       "    </tr>\n",
       "    <tr>\n",
       "      <th>Assortment</th>\n",
       "      <td>0.004419</td>\n",
       "      <td>-0.000052</td>\n",
       "      <td>0.074941</td>\n",
       "      <td>0.007044</td>\n",
       "      <td>0.002972</td>\n",
       "      <td>0.000294</td>\n",
       "      <td>-0.001497</td>\n",
       "      <td>-0.002530</td>\n",
       "      <td>0.232862</td>\n",
       "      <td>1.000000</td>\n",
       "      <td>0.146684</td>\n",
       "      <td>0.035876</td>\n",
       "      <td>0.092591</td>\n",
       "      <td>0.008220</td>\n",
       "      <td>0.001494</td>\n",
       "      <td>0.007601</td>\n",
       "      <td>0.000104</td>\n",
       "    </tr>\n",
       "    <tr>\n",
       "      <th>CompetitionDistance</th>\n",
       "      <td>-0.026483</td>\n",
       "      <td>-0.000025</td>\n",
       "      <td>-0.018637</td>\n",
       "      <td>-0.102060</td>\n",
       "      <td>0.007989</td>\n",
       "      <td>0.000141</td>\n",
       "      <td>-0.000400</td>\n",
       "      <td>-0.003653</td>\n",
       "      <td>0.077105</td>\n",
       "      <td>0.146684</td>\n",
       "      <td>1.000000</td>\n",
       "      <td>-0.049228</td>\n",
       "      <td>0.019917</td>\n",
       "      <td>-0.138876</td>\n",
       "      <td>0.000715</td>\n",
       "      <td>0.003640</td>\n",
       "      <td>0.000050</td>\n",
       "    </tr>\n",
       "    <tr>\n",
       "      <th>CompetitionOpenSinceMonth</th>\n",
       "      <td>-0.037472</td>\n",
       "      <td>0.000003</td>\n",
       "      <td>-0.023226</td>\n",
       "      <td>-0.024093</td>\n",
       "      <td>0.001436</td>\n",
       "      <td>-0.000008</td>\n",
       "      <td>0.000789</td>\n",
       "      <td>0.000124</td>\n",
       "      <td>0.040474</td>\n",
       "      <td>0.035876</td>\n",
       "      <td>-0.049228</td>\n",
       "      <td>1.000000</td>\n",
       "      <td>0.058298</td>\n",
       "      <td>0.021534</td>\n",
       "      <td>-0.000042</td>\n",
       "      <td>-0.000220</td>\n",
       "      <td>-0.000001</td>\n",
       "    </tr>\n",
       "    <tr>\n",
       "      <th>CompetitionOpenSinceYear</th>\n",
       "      <td>-0.000224</td>\n",
       "      <td>-0.000022</td>\n",
       "      <td>0.008740</td>\n",
       "      <td>0.006541</td>\n",
       "      <td>0.002557</td>\n",
       "      <td>0.000130</td>\n",
       "      <td>-0.001396</td>\n",
       "      <td>0.001841</td>\n",
       "      <td>0.043591</td>\n",
       "      <td>0.092591</td>\n",
       "      <td>0.019917</td>\n",
       "      <td>0.058298</td>\n",
       "      <td>1.000000</td>\n",
       "      <td>-0.022581</td>\n",
       "      <td>0.000657</td>\n",
       "      <td>0.003340</td>\n",
       "      <td>0.000047</td>\n",
       "    </tr>\n",
       "    <tr>\n",
       "      <th>Promo2</th>\n",
       "      <td>0.008488</td>\n",
       "      <td>0.000168</td>\n",
       "      <td>-0.091040</td>\n",
       "      <td>-0.150159</td>\n",
       "      <td>-0.008309</td>\n",
       "      <td>-0.000983</td>\n",
       "      <td>0.004839</td>\n",
       "      <td>-0.006909</td>\n",
       "      <td>0.088922</td>\n",
       "      <td>0.008220</td>\n",
       "      <td>-0.138876</td>\n",
       "      <td>0.021534</td>\n",
       "      <td>-0.022581</td>\n",
       "      <td>1.000000</td>\n",
       "      <td>-0.004982</td>\n",
       "      <td>-0.025323</td>\n",
       "      <td>-0.000354</td>\n",
       "    </tr>\n",
       "    <tr>\n",
       "      <th>Year</th>\n",
       "      <td>0.000290</td>\n",
       "      <td>0.001937</td>\n",
       "      <td>0.023519</td>\n",
       "      <td>-0.001212</td>\n",
       "      <td>-0.001009</td>\n",
       "      <td>0.024300</td>\n",
       "      <td>-0.005067</td>\n",
       "      <td>-0.036535</td>\n",
       "      <td>-0.001514</td>\n",
       "      <td>0.001494</td>\n",
       "      <td>0.000715</td>\n",
       "      <td>-0.000042</td>\n",
       "      <td>0.000657</td>\n",
       "      <td>-0.004982</td>\n",
       "      <td>1.000000</td>\n",
       "      <td>-0.269382</td>\n",
       "      <td>-0.002485</td>\n",
       "    </tr>\n",
       "    <tr>\n",
       "      <th>Month</th>\n",
       "      <td>0.001467</td>\n",
       "      <td>-0.005362</td>\n",
       "      <td>0.048768</td>\n",
       "      <td>0.038179</td>\n",
       "      <td>-0.000681</td>\n",
       "      <td>-0.011747</td>\n",
       "      <td>0.038058</td>\n",
       "      <td>0.103282</td>\n",
       "      <td>-0.007692</td>\n",
       "      <td>0.007601</td>\n",
       "      <td>0.003640</td>\n",
       "      <td>-0.000220</td>\n",
       "      <td>0.003340</td>\n",
       "      <td>-0.025323</td>\n",
       "      <td>-0.269382</td>\n",
       "      <td>1.000000</td>\n",
       "      <td>0.012442</td>\n",
       "    </tr>\n",
       "    <tr>\n",
       "      <th>Day</th>\n",
       "      <td>0.000023</td>\n",
       "      <td>0.005136</td>\n",
       "      <td>-0.011612</td>\n",
       "      <td>-0.004473</td>\n",
       "      <td>0.033428</td>\n",
       "      <td>-0.108325</td>\n",
       "      <td>-0.015652</td>\n",
       "      <td>0.030538</td>\n",
       "      <td>-0.000109</td>\n",
       "      <td>0.000104</td>\n",
       "      <td>0.000050</td>\n",
       "      <td>-0.000001</td>\n",
       "      <td>0.000047</td>\n",
       "      <td>-0.000354</td>\n",
       "      <td>-0.002485</td>\n",
       "      <td>0.012442</td>\n",
       "      <td>1.000000</td>\n",
       "    </tr>\n",
       "  </tbody>\n",
       "</table>\n",
       "</div>"
      ],
      "text/plain": [
       "                              Store  DayOfWeek     Sales  Customers      Open  \\\n",
       "Store                      1.000000  -0.000008  0.005126   0.024325 -0.000047   \n",
       "DayOfWeek                 -0.000008   1.000000 -0.462125  -0.386445 -0.528963   \n",
       "Sales                      0.005126  -0.462125  1.000000   0.894711  0.678472   \n",
       "Customers                  0.024325  -0.386445  0.894711   1.000000  0.616768   \n",
       "Open                      -0.000047  -0.528963  0.678472   0.616768  1.000000   \n",
       "Promo                      0.000058  -0.392925  0.452345   0.316169  0.295042   \n",
       "StateHoliday               0.000362  -0.044265 -0.229029  -0.204295 -0.340893   \n",
       "SchoolHoliday              0.000641  -0.205388  0.085124   0.071568  0.086171   \n",
       "StoreType                 -0.021604   0.000051 -0.013057  -0.141423 -0.003325   \n",
       "Assortment                 0.004419  -0.000052  0.074941   0.007044  0.002972   \n",
       "CompetitionDistance       -0.026483  -0.000025 -0.018637  -0.102060  0.007989   \n",
       "CompetitionOpenSinceMonth -0.037472   0.000003 -0.023226  -0.024093  0.001436   \n",
       "CompetitionOpenSinceYear  -0.000224  -0.000022  0.008740   0.006541  0.002557   \n",
       "Promo2                     0.008488   0.000168 -0.091040  -0.150159 -0.008309   \n",
       "Year                       0.000290   0.001937  0.023519  -0.001212 -0.001009   \n",
       "Month                      0.001467  -0.005362  0.048768   0.038179 -0.000681   \n",
       "Day                        0.000023   0.005136 -0.011612  -0.004473  0.033428   \n",
       "\n",
       "                              Promo  StateHoliday  SchoolHoliday  StoreType  \\\n",
       "Store                      0.000058      0.000362       0.000641  -0.021604   \n",
       "DayOfWeek                 -0.392925     -0.044265      -0.205388   0.000051   \n",
       "Sales                      0.452345     -0.229029       0.085124  -0.013057   \n",
       "Customers                  0.316169     -0.204295       0.071568  -0.141423   \n",
       "Open                       0.295042     -0.340893       0.086171  -0.003325   \n",
       "Promo                      1.000000     -0.024157       0.067483  -0.000299   \n",
       "StateHoliday              -0.024157      1.000000       0.196424   0.001360   \n",
       "SchoolHoliday              0.067483      0.196424       1.000000   0.000032   \n",
       "StoreType                 -0.000299      0.001360       0.000032   1.000000   \n",
       "Assortment                 0.000294     -0.001497      -0.002530   0.232862   \n",
       "CompetitionDistance        0.000141     -0.000400      -0.003653   0.077105   \n",
       "CompetitionOpenSinceMonth -0.000008      0.000789       0.000124   0.040474   \n",
       "CompetitionOpenSinceYear   0.000130     -0.001396       0.001841   0.043591   \n",
       "Promo2                    -0.000983      0.004839      -0.006909   0.088922   \n",
       "Year                       0.024300     -0.005067      -0.036535  -0.001514   \n",
       "Month                     -0.011747      0.038058       0.103282  -0.007692   \n",
       "Day                       -0.108325     -0.015652       0.030538  -0.000109   \n",
       "\n",
       "                           Assortment  CompetitionDistance  \\\n",
       "Store                        0.004419            -0.026483   \n",
       "DayOfWeek                   -0.000052            -0.000025   \n",
       "Sales                        0.074941            -0.018637   \n",
       "Customers                    0.007044            -0.102060   \n",
       "Open                         0.002972             0.007989   \n",
       "Promo                        0.000294             0.000141   \n",
       "StateHoliday                -0.001497            -0.000400   \n",
       "SchoolHoliday               -0.002530            -0.003653   \n",
       "StoreType                    0.232862             0.077105   \n",
       "Assortment                   1.000000             0.146684   \n",
       "CompetitionDistance          0.146684             1.000000   \n",
       "CompetitionOpenSinceMonth    0.035876            -0.049228   \n",
       "CompetitionOpenSinceYear     0.092591             0.019917   \n",
       "Promo2                       0.008220            -0.138876   \n",
       "Year                         0.001494             0.000715   \n",
       "Month                        0.007601             0.003640   \n",
       "Day                          0.000104             0.000050   \n",
       "\n",
       "                           CompetitionOpenSinceMonth  \\\n",
       "Store                                      -0.037472   \n",
       "DayOfWeek                                   0.000003   \n",
       "Sales                                      -0.023226   \n",
       "Customers                                  -0.024093   \n",
       "Open                                        0.001436   \n",
       "Promo                                      -0.000008   \n",
       "StateHoliday                                0.000789   \n",
       "SchoolHoliday                               0.000124   \n",
       "StoreType                                   0.040474   \n",
       "Assortment                                  0.035876   \n",
       "CompetitionDistance                        -0.049228   \n",
       "CompetitionOpenSinceMonth                   1.000000   \n",
       "CompetitionOpenSinceYear                    0.058298   \n",
       "Promo2                                      0.021534   \n",
       "Year                                       -0.000042   \n",
       "Month                                      -0.000220   \n",
       "Day                                        -0.000001   \n",
       "\n",
       "                           CompetitionOpenSinceYear    Promo2      Year  \\\n",
       "Store                                     -0.000224  0.008488  0.000290   \n",
       "DayOfWeek                                 -0.000022  0.000168  0.001937   \n",
       "Sales                                      0.008740 -0.091040  0.023519   \n",
       "Customers                                  0.006541 -0.150159 -0.001212   \n",
       "Open                                       0.002557 -0.008309 -0.001009   \n",
       "Promo                                      0.000130 -0.000983  0.024300   \n",
       "StateHoliday                              -0.001396  0.004839 -0.005067   \n",
       "SchoolHoliday                              0.001841 -0.006909 -0.036535   \n",
       "StoreType                                  0.043591  0.088922 -0.001514   \n",
       "Assortment                                 0.092591  0.008220  0.001494   \n",
       "CompetitionDistance                        0.019917 -0.138876  0.000715   \n",
       "CompetitionOpenSinceMonth                  0.058298  0.021534 -0.000042   \n",
       "CompetitionOpenSinceYear                   1.000000 -0.022581  0.000657   \n",
       "Promo2                                    -0.022581  1.000000 -0.004982   \n",
       "Year                                       0.000657 -0.004982  1.000000   \n",
       "Month                                      0.003340 -0.025323 -0.269382   \n",
       "Day                                        0.000047 -0.000354 -0.002485   \n",
       "\n",
       "                              Month       Day  \n",
       "Store                      0.001467  0.000023  \n",
       "DayOfWeek                 -0.005362  0.005136  \n",
       "Sales                      0.048768 -0.011612  \n",
       "Customers                  0.038179 -0.004473  \n",
       "Open                      -0.000681  0.033428  \n",
       "Promo                     -0.011747 -0.108325  \n",
       "StateHoliday               0.038058 -0.015652  \n",
       "SchoolHoliday              0.103282  0.030538  \n",
       "StoreType                 -0.007692 -0.000109  \n",
       "Assortment                 0.007601  0.000104  \n",
       "CompetitionDistance        0.003640  0.000050  \n",
       "CompetitionOpenSinceMonth -0.000220 -0.000001  \n",
       "CompetitionOpenSinceYear   0.003340  0.000047  \n",
       "Promo2                    -0.025323 -0.000354  \n",
       "Year                      -0.269382 -0.002485  \n",
       "Month                      1.000000  0.012442  \n",
       "Day                        0.012442  1.000000  "
      ]
     },
     "execution_count": 64,
     "metadata": {},
     "output_type": "execute_result"
    }
   ],
   "source": [
    "#Finnaly, we will verify the correlation between the data\n",
    "corr = stores_train_data.corr()\n",
    "corr"
   ]
  },
  {
   "cell_type": "code",
   "execution_count": 65,
   "metadata": {},
   "outputs": [
    {
     "data": {
      "text/plain": [
       "<matplotlib.axes._subplots.AxesSubplot at 0x7f11d093ae10>"
      ]
     },
     "execution_count": 65,
     "metadata": {},
     "output_type": "execute_result"
    },
    {
     "data": {
      "image/png": "[encoded data removed]",
      "text/plain": [
       "<Figure size 432x288 with 2 Axes>"
      ]
     },
     "metadata": {},
     "output_type": "display_data"
    }
   ],
   "source": [
    "#Heatmap\n",
    "sns.heatmap(corr, xticklabels=corr.columns, yticklabels=corr.columns)"
   ]
  },
  {
   "cell_type": "code",
   "execution_count": 66,
   "metadata": {},
   "outputs": [
    {
     "data": {
      "text/plain": [
       "[1.0,\n",
       " 0.8947107733008401,\n",
       " 0.6784723460132743,\n",
       " 0.46212502322577687,\n",
       " 0.45234471982674274,\n",
       " 0.2290290264607052,\n",
       " 0.09103964725759131,\n",
       " 0.08512403767671553,\n",
       " 0.07494074865011639,\n",
       " 0.04876761995467207,\n",
       " 0.023519242543125533,\n",
       " 0.023225715809986405,\n",
       " 0.01863743278565422,\n",
       " 0.01305709648484712,\n",
       " 0.011611875285159643]"
      ]
     },
     "execution_count": 66,
     "metadata": {},
     "output_type": "execute_result"
    }
   ],
   "source": [
    "#Checking the attributes with strong correlations in relation to Sales\n",
    "cor_target = abs(corr['Sales'])\n",
    "\n",
    "relevant = sorted(cor_target[cor_target > 0.01], reverse=True)\n",
    "relevant"
   ]
  },
  {
   "cell_type": "code",
   "execution_count": 67,
   "metadata": {},
   "outputs": [
    {
     "data": {
      "text/plain": [
       "DayOfWeek                    0.462125\n",
       "Sales                        1.000000\n",
       "Customers                    0.894711\n",
       "Open                         0.678472\n",
       "Promo                        0.452345\n",
       "StateHoliday                 0.229029\n",
       "SchoolHoliday                0.085124\n",
       "StoreType                    0.013057\n",
       "Assortment                   0.074941\n",
       "CompetitionDistance          0.018637\n",
       "CompetitionOpenSinceMonth    0.023226\n",
       "Promo2                       0.091040\n",
       "Year                         0.023519\n",
       "Month                        0.048768\n",
       "Day                          0.011612\n",
       "Name: Sales, dtype: float64"
      ]
     },
     "execution_count": 67,
     "metadata": {},
     "output_type": "execute_result"
    }
   ],
   "source": [
    "#Showing attributes greater than 0.01\n",
    "#This value was an arbitrary choice\n",
    "\n",
    "relevant_text = cor_target[cor_target > 0.01]\n",
    "relevant_text"
   ]
  },
  {
   "cell_type": "markdown",
   "metadata": {},
   "source": [
    "These are the attributes selected for our tests:\n",
    "\n",
    "- __DayOfWeek__ \n",
    "\n",
    "- __Open__ \n",
    "\n",
    "- __Promo__ \n",
    "\n",
    "- __StateHoliday__\n",
    "\n",
    "- __StoreType__\n",
    "\n",
    "- __Assortment__\n",
    "\n",
    "- __CompetitionDistance__\n",
    "\n",
    "- __CompetitionOpenSinceMonth__\n",
    "\n",
    "- __CompetitionOpenSinceYear__\n",
    "\n",
    "- __Promo2__ "
   ]
  },
  {
   "cell_type": "markdown",
   "metadata": {},
   "source": [
    "### Dropping columns"
   ]
  },
  {
   "cell_type": "markdown",
   "metadata": {},
   "source": [
    "We see that there are still columns that we do not need, like __Date__, __Sales__ e __Customers__ for Train Data and __Date__ e __Id__ for Test Data. We must remove them."
   ]
  },
  {
   "cell_type": "code",
   "execution_count": 68,
   "metadata": {},
   "outputs": [],
   "source": [
    "#Dropping columns Train Data\n",
    "stores_train_data.drop(['Date', 'Sales', 'Customers'], axis=1, inplace=True)"
   ]
  },
  {
   "cell_type": "code",
   "execution_count": 69,
   "metadata": {},
   "outputs": [
    {
     "data": {
      "text/html": [
       "<div>\n",
       "<style scoped>\n",
       "    .dataframe tbody tr th:only-of-type {\n",
       "        vertical-align: middle;\n",
       "    }\n",
       "\n",
       "    .dataframe tbody tr th {\n",
       "        vertical-align: top;\n",
       "    }\n",
       "\n",
       "    .dataframe thead th {\n",
       "        text-align: right;\n",
       "    }\n",
       "</style>\n",
       "<table border=\"1\" class=\"dataframe\">\n",
       "  <thead>\n",
       "    <tr style=\"text-align: right;\">\n",
       "      <th></th>\n",
       "      <th>Store</th>\n",
       "      <th>DayOfWeek</th>\n",
       "      <th>Open</th>\n",
       "      <th>Promo</th>\n",
       "      <th>StateHoliday</th>\n",
       "      <th>SchoolHoliday</th>\n",
       "      <th>StoreType</th>\n",
       "      <th>Assortment</th>\n",
       "      <th>CompetitionDistance</th>\n",
       "      <th>CompetitionOpenSinceMonth</th>\n",
       "      <th>CompetitionOpenSinceYear</th>\n",
       "      <th>Promo2</th>\n",
       "      <th>Year</th>\n",
       "      <th>Month</th>\n",
       "      <th>Day</th>\n",
       "    </tr>\n",
       "  </thead>\n",
       "  <tbody>\n",
       "    <tr>\n",
       "      <th>0</th>\n",
       "      <td>1</td>\n",
       "      <td>5</td>\n",
       "      <td>1</td>\n",
       "      <td>1</td>\n",
       "      <td>0</td>\n",
       "      <td>1</td>\n",
       "      <td>2</td>\n",
       "      <td>0</td>\n",
       "      <td>1270.0</td>\n",
       "      <td>9.0</td>\n",
       "      <td>2008.0</td>\n",
       "      <td>0.0</td>\n",
       "      <td>2015.0</td>\n",
       "      <td>7.0</td>\n",
       "      <td>31.0</td>\n",
       "    </tr>\n",
       "    <tr>\n",
       "      <th>1</th>\n",
       "      <td>2</td>\n",
       "      <td>5</td>\n",
       "      <td>1</td>\n",
       "      <td>1</td>\n",
       "      <td>0</td>\n",
       "      <td>1</td>\n",
       "      <td>0</td>\n",
       "      <td>0</td>\n",
       "      <td>570.0</td>\n",
       "      <td>11.0</td>\n",
       "      <td>2007.0</td>\n",
       "      <td>1.0</td>\n",
       "      <td>2015.0</td>\n",
       "      <td>7.0</td>\n",
       "      <td>31.0</td>\n",
       "    </tr>\n",
       "    <tr>\n",
       "      <th>2</th>\n",
       "      <td>3</td>\n",
       "      <td>5</td>\n",
       "      <td>1</td>\n",
       "      <td>1</td>\n",
       "      <td>0</td>\n",
       "      <td>1</td>\n",
       "      <td>0</td>\n",
       "      <td>0</td>\n",
       "      <td>14130.0</td>\n",
       "      <td>12.0</td>\n",
       "      <td>2006.0</td>\n",
       "      <td>1.0</td>\n",
       "      <td>2015.0</td>\n",
       "      <td>7.0</td>\n",
       "      <td>31.0</td>\n",
       "    </tr>\n",
       "  </tbody>\n",
       "</table>\n",
       "</div>"
      ],
      "text/plain": [
       "   Store  DayOfWeek  Open  Promo  StateHoliday  SchoolHoliday  StoreType  \\\n",
       "0      1          5     1      1             0              1          2   \n",
       "1      2          5     1      1             0              1          0   \n",
       "2      3          5     1      1             0              1          0   \n",
       "\n",
       "   Assortment  CompetitionDistance  CompetitionOpenSinceMonth  \\\n",
       "0           0               1270.0                        9.0   \n",
       "1           0                570.0                       11.0   \n",
       "2           0              14130.0                       12.0   \n",
       "\n",
       "   CompetitionOpenSinceYear  Promo2    Year  Month   Day  \n",
       "0                    2008.0     0.0  2015.0    7.0  31.0  \n",
       "1                    2007.0     1.0  2015.0    7.0  31.0  \n",
       "2                    2006.0     1.0  2015.0    7.0  31.0  "
      ]
     },
     "execution_count": 69,
     "metadata": {},
     "output_type": "execute_result"
    }
   ],
   "source": [
    "#Checking\n",
    "stores_train_data[:3]"
   ]
  },
  {
   "cell_type": "code",
   "execution_count": 70,
   "metadata": {},
   "outputs": [],
   "source": [
    "#Dropping columns for Test Data\n",
    "stores_test_data.drop(['Date', 'Id'], axis=1, inplace=True)"
   ]
  },
  {
   "cell_type": "code",
   "execution_count": 71,
   "metadata": {
    "scrolled": true
   },
   "outputs": [
    {
     "data": {
      "text/html": [
       "<div>\n",
       "<style scoped>\n",
       "    .dataframe tbody tr th:only-of-type {\n",
       "        vertical-align: middle;\n",
       "    }\n",
       "\n",
       "    .dataframe tbody tr th {\n",
       "        vertical-align: top;\n",
       "    }\n",
       "\n",
       "    .dataframe thead th {\n",
       "        text-align: right;\n",
       "    }\n",
       "</style>\n",
       "<table border=\"1\" class=\"dataframe\">\n",
       "  <thead>\n",
       "    <tr style=\"text-align: right;\">\n",
       "      <th></th>\n",
       "      <th>Store</th>\n",
       "      <th>DayOfWeek</th>\n",
       "      <th>Open</th>\n",
       "      <th>Promo</th>\n",
       "      <th>StateHoliday</th>\n",
       "      <th>SchoolHoliday</th>\n",
       "      <th>StoreType</th>\n",
       "      <th>Assortment</th>\n",
       "      <th>CompetitionDistance</th>\n",
       "      <th>CompetitionOpenSinceMonth</th>\n",
       "      <th>CompetitionOpenSinceYear</th>\n",
       "      <th>Promo2</th>\n",
       "      <th>Year</th>\n",
       "      <th>Month</th>\n",
       "      <th>Day</th>\n",
       "    </tr>\n",
       "  </thead>\n",
       "  <tbody>\n",
       "    <tr>\n",
       "      <th>0</th>\n",
       "      <td>1</td>\n",
       "      <td>4</td>\n",
       "      <td>1.0</td>\n",
       "      <td>1</td>\n",
       "      <td>0</td>\n",
       "      <td>0</td>\n",
       "      <td>2</td>\n",
       "      <td>0</td>\n",
       "      <td>1270.0</td>\n",
       "      <td>9.0</td>\n",
       "      <td>2008.0</td>\n",
       "      <td>0.0</td>\n",
       "      <td>2015.0</td>\n",
       "      <td>9.0</td>\n",
       "      <td>17.0</td>\n",
       "    </tr>\n",
       "    <tr>\n",
       "      <th>1</th>\n",
       "      <td>3</td>\n",
       "      <td>4</td>\n",
       "      <td>1.0</td>\n",
       "      <td>1</td>\n",
       "      <td>0</td>\n",
       "      <td>0</td>\n",
       "      <td>0</td>\n",
       "      <td>0</td>\n",
       "      <td>14130.0</td>\n",
       "      <td>12.0</td>\n",
       "      <td>2006.0</td>\n",
       "      <td>1.0</td>\n",
       "      <td>2015.0</td>\n",
       "      <td>9.0</td>\n",
       "      <td>17.0</td>\n",
       "    </tr>\n",
       "    <tr>\n",
       "      <th>2</th>\n",
       "      <td>7</td>\n",
       "      <td>4</td>\n",
       "      <td>1.0</td>\n",
       "      <td>1</td>\n",
       "      <td>0</td>\n",
       "      <td>0</td>\n",
       "      <td>0</td>\n",
       "      <td>2</td>\n",
       "      <td>24000.0</td>\n",
       "      <td>4.0</td>\n",
       "      <td>2013.0</td>\n",
       "      <td>0.0</td>\n",
       "      <td>2015.0</td>\n",
       "      <td>9.0</td>\n",
       "      <td>17.0</td>\n",
       "    </tr>\n",
       "  </tbody>\n",
       "</table>\n",
       "</div>"
      ],
      "text/plain": [
       "   Store  DayOfWeek  Open  Promo  StateHoliday  SchoolHoliday  StoreType  \\\n",
       "0      1          4   1.0      1             0              0          2   \n",
       "1      3          4   1.0      1             0              0          0   \n",
       "2      7          4   1.0      1             0              0          0   \n",
       "\n",
       "   Assortment  CompetitionDistance  CompetitionOpenSinceMonth  \\\n",
       "0           0               1270.0                        9.0   \n",
       "1           0              14130.0                       12.0   \n",
       "2           2              24000.0                        4.0   \n",
       "\n",
       "   CompetitionOpenSinceYear  Promo2    Year  Month   Day  \n",
       "0                    2008.0     0.0  2015.0    9.0  17.0  \n",
       "1                    2006.0     1.0  2015.0    9.0  17.0  \n",
       "2                    2013.0     0.0  2015.0    9.0  17.0  "
      ]
     },
     "execution_count": 71,
     "metadata": {},
     "output_type": "execute_result"
    }
   ],
   "source": [
    "#Checking\n",
    "stores_test_data[:3]"
   ]
  },
  {
   "cell_type": "code",
   "execution_count": 72,
   "metadata": {
    "scrolled": true
   },
   "outputs": [
    {
     "name": "stdout",
     "output_type": "stream",
     "text": [
      "Train: 15\n",
      "Test: 15\n"
     ]
    }
   ],
   "source": [
    "#Checking columns\n",
    "print('Train:', len(stores_train_data.columns))\n",
    "print('Test:', len(stores_test_data.columns))"
   ]
  },
  {
   "cell_type": "code",
   "execution_count": 73,
   "metadata": {},
   "outputs": [
    {
     "data": {
      "text/plain": [
       "array([ True])"
      ]
     },
     "execution_count": 73,
     "metadata": {},
     "output_type": "execute_result"
    }
   ],
   "source": [
    "#I make one last check if the Train columns match Test columns\n",
    "pd.unique(stores_train_data.columns == stores_test_data.columns)"
   ]
  },
  {
   "cell_type": "markdown",
   "metadata": {},
   "source": [
    "Confirmed!\n",
    "\n",
    "Now we can move on to the algorithm tests."
   ]
  },
  {
   "cell_type": "markdown",
   "metadata": {},
   "source": [
    "# Testing Machine Learning Algorithms"
   ]
  },
  {
   "cell_type": "markdown",
   "metadata": {},
   "source": [
    "There is simply no algorithm that can solve all prediction problems.\n",
    "\n",
    "I will use 4:\n",
    "\n",
    "- Regression Tree;\n",
    "\n",
    "- Random Forest;\n",
    "\n",
    "- GBoost;\n",
    "\n",
    "- XGBoost;\n",
    "\n",
    "Although it is recommended, I will not use evaluation methods like K-Fold and Leave-One-Out."
   ]
  },
  {
   "cell_type": "code",
   "execution_count": 74,
   "metadata": {},
   "outputs": [],
   "source": [
    "#The features\n",
    "cols_features = ['DayOfWeek','Open','Promo','StateHoliday','StoreType','Assortment','CompetitionDistance',\n",
    "                 'CompetitionOpenSinceMonth','CompetitionOpenSinceYear',\n",
    "                 'Promo2']"
   ]
  },
  {
   "cell_type": "code",
   "execution_count": 75,
   "metadata": {},
   "outputs": [
    {
     "data": {
      "text/plain": [
       "10"
      ]
     },
     "execution_count": 75,
     "metadata": {},
     "output_type": "execute_result"
    }
   ],
   "source": [
    "#Number of features\n",
    "len(cols_features)"
   ]
  },
  {
   "cell_type": "code",
   "execution_count": 76,
   "metadata": {},
   "outputs": [],
   "source": [
    "#Store the position of the columns present in the Train dataset\n",
    "list_colums_stores_train_data = [stores_train_data.columns.get_loc(c) for c in cols_features if c in stores_train_data]"
   ]
  },
  {
   "cell_type": "code",
   "execution_count": 77,
   "metadata": {},
   "outputs": [],
   "source": [
    "#Separating the columns for Training\n",
    "store_train_data_values = stores_train_data.iloc[:,list_colums_stores_train_data].values\n",
    "\n",
    "#It was defined at the beginning\n",
    "y_train_data = stores_y_train_data.values"
   ]
  },
  {
   "cell_type": "code",
   "execution_count": 78,
   "metadata": {},
   "outputs": [],
   "source": [
    "#Store the position of the columns present in the Test dataset\n",
    "list_colums_stores_test_data = [stores_test_data.columns.get_loc(c) for c in cols_features if c in stores_test_data]"
   ]
  },
  {
   "cell_type": "code",
   "execution_count": 79,
   "metadata": {},
   "outputs": [],
   "source": [
    "#I store the values of the columns that were located through the index. The index was stored in the\n",
    "#previous step\n",
    "store_test_data_values = stores_test_data.iloc[:,list_colums_stores_test_data].values"
   ]
  },
  {
   "cell_type": "code",
   "execution_count": 80,
   "metadata": {},
   "outputs": [],
   "source": [
    "#Saving the new dataset\n",
    "save_train_data = pd.DataFrame(store_train_data_values)\n",
    "save_train_data.columns=cols_features\n",
    "\n",
    "save_test_data = pd.DataFrame(store_test_data_values)\n",
    "save_test_data.columns=cols_features\n",
    "\n",
    "save_y_train_data = pd.DataFrame(y_train_data)\n",
    "save_y_train_data.columns=['y_train']\n",
    "\n",
    "save_train_data.to_csv('datasets/train_data.csv', index=False)\n",
    "save_test_data.to_csv('datasets/test_data.csv', index=False)\n",
    "save_y_train_data.to_csv('datasets/y_train_data.csv', index=False)"
   ]
  },
  {
   "cell_type": "code",
   "execution_count": 81,
   "metadata": {},
   "outputs": [],
   "source": [
    "#Loading the new dataset\n",
    "train_data_new = pd.read_csv('datasets/train_data.csv', header=0)\n",
    "test_data_new = pd.read_csv('datasets/test_data.csv', header=0)\n",
    "y_train_data_new = pd.read_csv('datasets/y_train_data.csv', index_col=False).values\n",
    "\n",
    "#From Array of arrays to only array\n",
    "y_train_data_new = y_train_data_new.reshape(-1)"
   ]
  },
  {
   "cell_type": "markdown",
   "metadata": {},
   "source": [
    "### Division of data in Test and Training"
   ]
  },
  {
   "cell_type": "code",
   "execution_count": 82,
   "metadata": {},
   "outputs": [],
   "source": [
    "#Module Sklearn to separate into Test and Training\n",
    "from sklearn.model_selection import train_test_split\n",
    "\n",
    "#Data Split for Training, Testing, and Validation\n",
    "n = random.randrange(45,90)\n",
    "X_train, X_test, y_train, y_test = train_test_split(train_data_new.values, y_train_data_new, test_size=0.2, random_state=n)\n",
    "X_train, X_val, y_train, y_val = train_test_split(X_train, y_train, test_size = 0.25, random_state=n)"
   ]
  },
  {
   "cell_type": "code",
   "execution_count": 83,
   "metadata": {},
   "outputs": [
    {
     "name": "stdout",
     "output_type": "stream",
     "text": [
      "(610325, 10) (610325,)\n",
      "(203442, 10) (203442,)\n",
      "(203442, 10) (203442,)\n"
     ]
    }
   ],
   "source": [
    "print(X_train.shape, y_train.shape)\n",
    "print(X_test.shape, y_test.shape)\n",
    "print(X_val.shape, y_val.shape)"
   ]
  },
  {
   "cell_type": "markdown",
   "metadata": {},
   "source": [
    "### Evaluation equation (metric)"
   ]
  },
  {
   "cell_type": "code",
   "execution_count": 84,
   "metadata": {},
   "outputs": [],
   "source": [
    "def calc_rmsep(y, y_pred):\n",
    "    rmsep = np.sqrt(np.mean(np.square(((y - y_pred) / y_pred)), axis=0))  \n",
    "    return rmsep"
   ]
  },
  {
   "cell_type": "markdown",
   "metadata": {},
   "source": [
    "## Decision Tree Regression"
   ]
  },
  {
   "cell_type": "code",
   "execution_count": 85,
   "metadata": {},
   "outputs": [],
   "source": [
    "#Main module for DecisionTreeRegressor\n",
    "from sklearn.tree import DecisionTreeRegressor"
   ]
  },
  {
   "cell_type": "code",
   "execution_count": 86,
   "metadata": {},
   "outputs": [],
   "source": [
    "#Instantiating the DecisioTree object\n",
    "decisionTree_regressor = DecisionTreeRegressor(random_state = 0)"
   ]
  },
  {
   "cell_type": "code",
   "execution_count": 87,
   "metadata": {},
   "outputs": [
    {
     "data": {
      "text/plain": [
       "DecisionTreeRegressor(criterion='mse', max_depth=None, max_features=None,\n",
       "           max_leaf_nodes=None, min_impurity_decrease=0.0,\n",
       "           min_impurity_split=None, min_samples_leaf=1,\n",
       "           min_samples_split=2, min_weight_fraction_leaf=0.0,\n",
       "           presort=False, random_state=0, splitter='best')"
      ]
     },
     "execution_count": 87,
     "metadata": {},
     "output_type": "execute_result"
    }
   ],
   "source": [
    "#Training\n",
    "decisionTree_regressor.fit(X_train, y_train) "
   ]
  },
  {
   "cell_type": "code",
   "execution_count": 88,
   "metadata": {},
   "outputs": [
    {
     "data": {
      "text/plain": [
       "0.910970626576521"
      ]
     },
     "execution_count": 88,
     "metadata": {},
     "output_type": "execute_result"
    }
   ],
   "source": [
    "#Checking Score\n",
    "decisionTree_regressor.score(X_val, y_val)"
   ]
  },
  {
   "cell_type": "code",
   "execution_count": 89,
   "metadata": {},
   "outputs": [],
   "source": [
    "#Prediction for X_test\n",
    "y_pred_decision_tree = decisionTree_regressor.predict(X_val)"
   ]
  },
  {
   "cell_type": "code",
   "execution_count": 90,
   "metadata": {},
   "outputs": [
    {
     "data": {
      "text/plain": [
       "array([ 9339.26436782, 10051.70454545,     0.        , ...,\n",
       "        9233.14285714,  3003.68965517,  7218.40425532])"
      ]
     },
     "execution_count": 90,
     "metadata": {},
     "output_type": "execute_result"
    }
   ],
   "source": [
    "y_pred_decision_tree"
   ]
  },
  {
   "cell_type": "code",
   "execution_count": 91,
   "metadata": {},
   "outputs": [],
   "source": [
    "#Changing rows with zero values\n",
    "y_pred_decision_tree[y_pred_decision_tree == 0] = 0.0001"
   ]
  },
  {
   "cell_type": "code",
   "execution_count": 92,
   "metadata": {},
   "outputs": [
    {
     "data": {
      "text/plain": [
       "0.44428143210608384"
      ]
     },
     "execution_count": 92,
     "metadata": {},
     "output_type": "execute_result"
    }
   ],
   "source": [
    "#Evaluation\n",
    "calc_rmsep(y_val, y_pred_decision_tree)"
   ]
  },
  {
   "cell_type": "code",
   "execution_count": 93,
   "metadata": {},
   "outputs": [],
   "source": [
    "#Prediction for the data test <- stores_test_data\n",
    "y_pred_decision_tree_teste = decisionTree_regressor.predict(test_data_new.values)"
   ]
  },
  {
   "cell_type": "code",
   "execution_count": 94,
   "metadata": {},
   "outputs": [
    {
     "data": {
      "text/plain": [
       "array([4882.35135135, 8073.97619048, 9333.30434783, 7185.53488372,\n",
       "       6859.04444444, 5814.42105263, 8868.40540541, 8264.73913043,\n",
       "       5597.92307692, 6202.36842105])"
      ]
     },
     "execution_count": 94,
     "metadata": {},
     "output_type": "execute_result"
    }
   ],
   "source": [
    "y_pred_decision_tree_teste[:10]"
   ]
  },
  {
   "cell_type": "markdown",
   "metadata": {},
   "source": [
    "The regression tree obtained a relatively good score (0.83).\n",
    "The values will be saved and submitted."
   ]
  },
  {
   "cell_type": "code",
   "execution_count": 95,
   "metadata": {},
   "outputs": [],
   "source": [
    "#File to submit \n",
    "submission = pd.read_csv('datasets/sample_submission.csv')\n",
    "submission['Sales'] = y_pred_decision_tree_teste\n",
    "submission.to_csv('datasets/submissions/submission_next_tree.csv', index=False)"
   ]
  },
  {
   "cell_type": "markdown",
   "metadata": {},
   "source": [
    "## Random Forest Regression"
   ]
  },
  {
   "cell_type": "code",
   "execution_count": 96,
   "metadata": {},
   "outputs": [],
   "source": [
    "from sklearn.ensemble import RandomForestRegressor"
   ]
  },
  {
   "cell_type": "code",
   "execution_count": 97,
   "metadata": {},
   "outputs": [],
   "source": [
    "#Parameter setting\n",
    "randomForest_regressor = RandomForestRegressor(bootstrap=True, criterion='mse', max_depth=None,\n",
    "           max_features='auto',\n",
    "           min_impurity_decrease=0.0,\n",
    "           min_samples_leaf=1, min_samples_split=2,\n",
    "           min_weight_fraction_leaf=0.0, n_estimators=10, n_jobs=-1,\n",
    "           oob_score=False, random_state=42, verbose=0)"
   ]
  },
  {
   "cell_type": "code",
   "execution_count": 98,
   "metadata": {},
   "outputs": [
    {
     "data": {
      "text/plain": [
       "RandomForestRegressor(bootstrap=True, criterion='mse', max_depth=None,\n",
       "           max_features='auto', max_leaf_nodes=None,\n",
       "           min_impurity_decrease=0.0, min_impurity_split=None,\n",
       "           min_samples_leaf=1, min_samples_split=2,\n",
       "           min_weight_fraction_leaf=0.0, n_estimators=10, n_jobs=-1,\n",
       "           oob_score=False, random_state=42, verbose=0, warm_start=False)"
      ]
     },
     "execution_count": 98,
     "metadata": {},
     "output_type": "execute_result"
    }
   ],
   "source": [
    "#Training\n",
    "randomForest_regressor.fit(X_train, y_train)"
   ]
  },
  {
   "cell_type": "code",
   "execution_count": 99,
   "metadata": {},
   "outputs": [
    {
     "data": {
      "text/plain": [
       "0.9107579759842374"
      ]
     },
     "execution_count": 99,
     "metadata": {},
     "output_type": "execute_result"
    }
   ],
   "source": [
    "#Checking score\n",
    "randomForest_regressor.score(X_val, y_val)"
   ]
  },
  {
   "cell_type": "code",
   "execution_count": 100,
   "metadata": {},
   "outputs": [],
   "source": [
    "#Prediction for X_test\n",
    "y_pred_random_forest = randomForest_regressor.predict(X_val)"
   ]
  },
  {
   "cell_type": "code",
   "execution_count": 101,
   "metadata": {},
   "outputs": [],
   "source": [
    "#Changing rows with zero values\n",
    "y_pred_random_forest[y_pred_random_forest == 0] = 0.0001"
   ]
  },
  {
   "cell_type": "code",
   "execution_count": 102,
   "metadata": {},
   "outputs": [
    {
     "data": {
      "text/plain": [
       "0.4443273202706952"
      ]
     },
     "execution_count": 102,
     "metadata": {},
     "output_type": "execute_result"
    }
   ],
   "source": [
    "#Evaluation\n",
    "calc_rmsep(y_val, y_pred_random_forest)"
   ]
  },
  {
   "cell_type": "code",
   "execution_count": 103,
   "metadata": {},
   "outputs": [],
   "source": [
    "#Prediction for the data test <- stores_test_data\n",
    "y_pred_random_forest_teste = randomForest_regressor.predict(test_data_new.values)"
   ]
  },
  {
   "cell_type": "code",
   "execution_count": 104,
   "metadata": {},
   "outputs": [
    {
     "data": {
      "text/plain": [
       "array([4842.06284252, 8096.18107903, 9119.31444727, 7099.56961475,\n",
       "       6855.82392717, 5779.18737473, 8939.03345358, 8455.96768843,\n",
       "       5460.42838974, 6190.31667283])"
      ]
     },
     "execution_count": 104,
     "metadata": {},
     "output_type": "execute_result"
    }
   ],
   "source": [
    "y_pred_random_forest_teste[:10]"
   ]
  },
  {
   "cell_type": "code",
   "execution_count": 105,
   "metadata": {},
   "outputs": [
    {
     "data": {
      "text/plain": [
       "0.008400191582396016"
      ]
     },
     "execution_count": 105,
     "metadata": {},
     "output_type": "execute_result"
    }
   ],
   "source": [
    "#Evaluation between prediction from DecisionTree and RandomForest\n",
    "calc_rmsep(y_pred_decision_tree, y_pred_random_forest)"
   ]
  },
  {
   "cell_type": "markdown",
   "metadata": {},
   "source": [
    "Values were approximate."
   ]
  },
  {
   "cell_type": "code",
   "execution_count": 106,
   "metadata": {},
   "outputs": [],
   "source": [
    "#File to submit.\n",
    "submission = pd.read_csv('datasets/sample_submission.csv')\n",
    "submission['Sales'] = y_pred_random_forest_teste\n",
    "submission.to_csv('datasets/submissions/submission_next_forest.csv', index=False)"
   ]
  },
  {
   "cell_type": "markdown",
   "metadata": {},
   "source": [
    "## Gradient Boosting Regression (GBoost)"
   ]
  },
  {
   "cell_type": "code",
   "execution_count": 107,
   "metadata": {},
   "outputs": [],
   "source": [
    "#Main module\n",
    "from sklearn.ensemble import GradientBoostingRegressor\n",
    "import timeit"
   ]
  },
  {
   "cell_type": "code",
   "execution_count": 108,
   "metadata": {},
   "outputs": [
    {
     "name": "stdout",
     "output_type": "stream",
     "text": [
      "Round:  1\n",
      "Type Test:  1\n",
      "Fitting the datas... - 1/6\n",
      "Making predictions for Train Data.. - 2/6\n",
      "Making predictions for Validation Data.. - 3/6\n",
      "Making predictions for Test Data.. - 4/6\n",
      "Evaluation.. - 6/6\n",
      "Erro Train:  0.6712296818999731\n",
      "Erro Val:  0.6706803708107881\n",
      "N_estimators:  1\n",
      "Max_depth:  1\n",
      "Generating log.. - 6/6\n",
      "--------------------------------------------------------------\n",
      "Round:  2\n",
      "Type Test:  1\n",
      "Fitting the datas... - 1/6\n",
      "Making predictions for Train Data.. - 2/6\n",
      "Making predictions for Validation Data.. - 3/6\n",
      "Making predictions for Test Data.. - 4/6\n",
      "Evaluation.. - 6/6\n",
      "Erro Train:  0.6504558457730988\n",
      "Erro Val:  0.6500249992258471\n",
      "N_estimators:  2\n",
      "Max_depth:  2\n",
      "Generating log.. - 6/6\n",
      "--------------------------------------------------------------\n",
      "Round:  3\n",
      "Type Test:  1\n",
      "Fitting the datas... - 1/6\n",
      "Making predictions for Train Data.. - 2/6\n",
      "Making predictions for Validation Data.. - 3/6\n",
      "Making predictions for Test Data.. - 4/6\n",
      "Evaluation.. - 6/6\n",
      "Erro Train:  0.6401317346565922\n",
      "Erro Val:  0.6397135384833095\n",
      "N_estimators:  3\n",
      "Max_depth:  3\n",
      "Generating log.. - 6/6\n",
      "--------------------------------------------------------------\n",
      "Round:  4\n",
      "Type Test:  1\n",
      "Fitting the datas... - 1/6\n",
      "Making predictions for Train Data.. - 2/6\n",
      "Making predictions for Validation Data.. - 3/6\n",
      "Making predictions for Test Data.. - 4/6\n",
      "Evaluation.. - 6/6\n",
      "Erro Train:  0.620669538144629\n",
      "Erro Val:  0.6203071452090122\n",
      "N_estimators:  4\n",
      "Max_depth:  4\n",
      "Generating log.. - 6/6\n",
      "--------------------------------------------------------------\n",
      "Round:  5\n",
      "Type Test:  1\n",
      "Fitting the datas... - 1/6\n",
      "Making predictions for Train Data.. - 2/6\n",
      "Making predictions for Validation Data.. - 3/6\n",
      "Making predictions for Test Data.. - 4/6\n",
      "Evaluation.. - 6/6\n",
      "Erro Train:  0.6025779163356563\n",
      "Erro Val:  0.602284113442757\n",
      "N_estimators:  5\n",
      "Max_depth:  5\n",
      "Generating log.. - 6/6\n",
      "--------------------------------------------------------------\n",
      "Round:  6\n",
      "Type Test:  1\n",
      "Fitting the datas... - 1/6\n",
      "Making predictions for Train Data.. - 2/6\n",
      "Making predictions for Validation Data.. - 3/6\n",
      "Making predictions for Test Data.. - 4/6\n",
      "Evaluation.. - 6/6\n",
      "Erro Train:  0.5939343095916327\n",
      "Erro Val:  0.5935551434423161\n",
      "N_estimators:  6\n",
      "Max_depth:  6\n",
      "Generating log.. - 6/6\n",
      "--------------------------------------------------------------\n",
      "Round:  1\n",
      "Type Test:  2\n",
      "Fitting the datas... - 1/6\n",
      "Making predictions for Train Data.. - 2/6\n",
      "Making predictions for Validation Data.. - 3/6\n",
      "Making predictions for Test Data.. - 4/6\n",
      "Evaluation.. - 6/6\n",
      "Erro Train:  0.5818299378218292\n",
      "Erro Val:  0.5834874200307327\n",
      "N_estimators:  100\n",
      "Max_depth:  1\n",
      "Generating log.. - 6/6\n",
      "--------------------------------------------------------------\n",
      "Round:  2\n",
      "Type Test:  2\n",
      "Fitting the datas... - 1/6\n",
      "Making predictions for Train Data.. - 2/6\n",
      "Making predictions for Validation Data.. - 3/6\n",
      "Making predictions for Test Data.. - 4/6\n",
      "Evaluation.. - 6/6\n",
      "Erro Train:  0.5635586285466493\n",
      "Erro Val:  0.5638389798067229\n",
      "N_estimators:  100\n",
      "Max_depth:  2\n",
      "Generating log.. - 6/6\n",
      "--------------------------------------------------------------\n",
      "Round:  3\n",
      "Type Test:  2\n",
      "Fitting the datas... - 1/6\n",
      "Making predictions for Train Data.. - 2/6\n",
      "Making predictions for Validation Data.. - 3/6\n",
      "Making predictions for Test Data.. - 4/6\n",
      "Evaluation.. - 6/6\n",
      "Erro Train:  0.5465872406247949\n",
      "Erro Val:  0.5467094694168391\n",
      "N_estimators:  100\n",
      "Max_depth:  3\n",
      "Generating log.. - 6/6\n",
      "--------------------------------------------------------------\n",
      "Round:  4\n",
      "Type Test:  2\n",
      "Fitting the datas... - 1/6\n",
      "Making predictions for Train Data.. - 2/6\n",
      "Making predictions for Validation Data.. - 3/6\n",
      "Making predictions for Test Data.. - 4/6\n",
      "Evaluation.. - 6/6\n",
      "Erro Train:  0.5362677705367745\n",
      "Erro Val:  0.5363734231675055\n",
      "N_estimators:  100\n",
      "Max_depth:  4\n",
      "Generating log.. - 6/6\n",
      "--------------------------------------------------------------\n",
      "Round:  5\n",
      "Type Test:  2\n",
      "Fitting the datas... - 1/6\n",
      "Making predictions for Train Data.. - 2/6\n",
      "Making predictions for Validation Data.. - 3/6\n",
      "Making predictions for Test Data.. - 4/6\n",
      "Evaluation.. - 6/6\n",
      "Erro Train:  0.5218757236173478\n",
      "Erro Val:  0.521914247715827\n",
      "N_estimators:  100\n",
      "Max_depth:  5\n",
      "Generating log.. - 6/6\n",
      "--------------------------------------------------------------\n",
      "Round:  6\n",
      "Type Test:  2\n",
      "Fitting the datas... - 1/6\n",
      "Making predictions for Train Data.. - 2/6\n",
      "Making predictions for Validation Data.. - 3/6\n",
      "Making predictions for Test Data.. - 4/6\n",
      "Evaluation.. - 6/6\n",
      "Erro Train:  0.5087665354883495\n",
      "Erro Val:  0.5092911741570632\n",
      "N_estimators:  100\n",
      "Max_depth:  6\n",
      "Generating log.. - 6/6\n",
      "--------------------------------------------------------------\n",
      "Final Log generated!\n"
     ]
    }
   ],
   "source": [
    "#Using the huber metric, it is less sensitive to outliers\n",
    "# The code will be run n_rounds for a better evaluation of the parameters of n_estimators and max_depth\n",
    "# There will be two tests: the first the n_estimators and the max_depth range together and in the second the n_estimators\n",
    "#permance in the default (100) and max_depth only varies\n",
    "\n",
    "\n",
    "#TEST 01 - Varying n_estimators and max_depth\n",
    "#TEST 02 - Only changing max_depth\n",
    "\n",
    "#Number of rounds\n",
    "n_rounds = 6\n",
    "\n",
    "#N_estimators\n",
    "n_manual_estimators = 1\n",
    "\n",
    "#Max_depth\n",
    "n_manual_max_depth = 1\n",
    "\n",
    "#Learning rate\n",
    "n_manual_learning_rate = 0.09\n",
    "\n",
    "#Type Test\n",
    "test_types = 3 \n",
    "\n",
    "rmspe_errors = []\n",
    "log_final = pd.DataFrame()\n",
    "\n",
    "#Rounds\n",
    "for type_test in range(1, test_types):\n",
    "    n_manual_max_depth = 1 \n",
    "    for x in range(1, n_rounds+1):\n",
    "        print('Round: ', x)\n",
    "        print('Type Test: ', type_test)\n",
    "        \n",
    "        if (type_test == 2):\n",
    "            n_manual_estimators = 100            \n",
    "\n",
    "        \n",
    "        gboost_regressor = GradientBoostingRegressor(loss='huber', learning_rate=n_manual_learning_rate, n_estimators=n_manual_estimators,\n",
    "                                           min_samples_split=10, min_samples_leaf=15,max_depth=n_manual_max_depth,\n",
    "                                           random_state=5, max_features='sqrt', verbose=0, validation_fraction=0.3)\n",
    "        #Fitting the data\n",
    "        print(\"Fitting the datas... - 1/6\")\n",
    "        start = timeit.default_timer()\n",
    "        gboost_regressor.fit(X_train, y_train)\n",
    "\n",
    "\n",
    "        #Prediction for X_train\n",
    "        print('Making predictions for Train Data.. - 2/6')\n",
    "        y_pred_gboost_train = gboost_regressor.predict(X_train)\n",
    "\n",
    "        #Prediction for X_val\n",
    "        print('Making predictions for Validation Data.. - 3/6')\n",
    "        y_pred_gboost_val = gboost_regressor.predict(X_val)\n",
    "\n",
    "        #Prediction for Test Data\n",
    "        print('Making predictions for Test Data.. - 4/6')\n",
    "        y_pred_gboost_test = gboost_regressor.predict(test_data_new.values)\n",
    "\n",
    "        #Evaluation\n",
    "        print('Evaluation.. - 6/6')\n",
    "        erro_calc_train = calc_rmsep(y_train, y_pred_gboost_train) \n",
    "        erro_calc_val = calc_rmsep(y_val, y_pred_gboost_val) \n",
    "        rmspe_errors.append([])\n",
    "        print('Erro Train: ', erro_calc_train)  \n",
    "        print('Erro Val: ', erro_calc_val)   \n",
    "        print('N_estimators: ', n_manual_estimators)   \n",
    "        print('Max_depth: ', n_manual_max_depth)      \n",
    "        stop = timeit.default_timer()\n",
    "        time = stop - start\n",
    "\n",
    "\n",
    "        #Info for Log Final\n",
    "        print('Generating log.. - 6/6')\n",
    "        rmspe_errors.append([x, type_test, time, round(erro_calc_train, 2), round(erro_calc_val, 2), n_manual_learning_rate, n_manual_estimators, n_manual_max_depth])\n",
    "\n",
    "        print('--------------------------------------------------------------')\n",
    "\n",
    "        #Varying values\n",
    "        if (type_test == 1):\n",
    "            n_manual_estimators += 1\n",
    "            n_manual_max_depth += 1\n",
    "        else:\n",
    "            n_manual_max_depth += 1\n",
    "\n",
    "\n",
    "        #File to submit\n",
    "        submission = pd.read_csv('datasets/sample_submission.csv')\n",
    "        submission['Sales'] = y_pred_gboost_test\n",
    "        submission.to_csv('datasets/submissions/submission_next_Gboost_Test0'+str(type_test)+'_'+str(x)+'.csv', index=False)\n",
    "\n",
    "#Gerando pandas\n",
    "log_final = pd.DataFrame(rmspe_errors, columns=['Id','Type','Time (s)','Train_Error','Validation_Error','Learning_Rate','N_estimators','Max_Depth'])\n",
    "log_final = log_final.sort_values('Validation_Error')\n",
    "log_final = log_final[:(n_rounds)*2]\n",
    "log_final.to_csv('datasets/submissions/log_final_gboost.csv', index=False)\n",
    "print('Final Log generated!')"
   ]
  },
  {
   "cell_type": "code",
   "execution_count": 109,
   "metadata": {},
   "outputs": [
    {
     "data": {
      "text/html": [
       "<div>\n",
       "<style scoped>\n",
       "    .dataframe tbody tr th:only-of-type {\n",
       "        vertical-align: middle;\n",
       "    }\n",
       "\n",
       "    .dataframe tbody tr th {\n",
       "        vertical-align: top;\n",
       "    }\n",
       "\n",
       "    .dataframe thead th {\n",
       "        text-align: right;\n",
       "    }\n",
       "</style>\n",
       "<table border=\"1\" class=\"dataframe\">\n",
       "  <thead>\n",
       "    <tr style=\"text-align: right;\">\n",
       "      <th></th>\n",
       "      <th>Id</th>\n",
       "      <th>Type</th>\n",
       "      <th>Time (s)</th>\n",
       "      <th>Train_Error</th>\n",
       "      <th>Validation_Error</th>\n",
       "      <th>Learning_Rate</th>\n",
       "      <th>N_estimators</th>\n",
       "      <th>Max_Depth</th>\n",
       "    </tr>\n",
       "  </thead>\n",
       "  <tbody>\n",
       "    <tr>\n",
       "      <th>23</th>\n",
       "      <td>6.0</td>\n",
       "      <td>2.0</td>\n",
       "      <td>94.600548</td>\n",
       "      <td>0.51</td>\n",
       "      <td>0.51</td>\n",
       "      <td>0.09</td>\n",
       "      <td>100.0</td>\n",
       "      <td>6.0</td>\n",
       "    </tr>\n",
       "    <tr>\n",
       "      <th>21</th>\n",
       "      <td>5.0</td>\n",
       "      <td>2.0</td>\n",
       "      <td>67.089173</td>\n",
       "      <td>0.52</td>\n",
       "      <td>0.52</td>\n",
       "      <td>0.09</td>\n",
       "      <td>100.0</td>\n",
       "      <td>5.0</td>\n",
       "    </tr>\n",
       "    <tr>\n",
       "      <th>19</th>\n",
       "      <td>4.0</td>\n",
       "      <td>2.0</td>\n",
       "      <td>54.577144</td>\n",
       "      <td>0.54</td>\n",
       "      <td>0.54</td>\n",
       "      <td>0.09</td>\n",
       "      <td>100.0</td>\n",
       "      <td>4.0</td>\n",
       "    </tr>\n",
       "    <tr>\n",
       "      <th>17</th>\n",
       "      <td>3.0</td>\n",
       "      <td>2.0</td>\n",
       "      <td>42.422431</td>\n",
       "      <td>0.55</td>\n",
       "      <td>0.55</td>\n",
       "      <td>0.09</td>\n",
       "      <td>100.0</td>\n",
       "      <td>3.0</td>\n",
       "    </tr>\n",
       "    <tr>\n",
       "      <th>15</th>\n",
       "      <td>2.0</td>\n",
       "      <td>2.0</td>\n",
       "      <td>33.561599</td>\n",
       "      <td>0.56</td>\n",
       "      <td>0.56</td>\n",
       "      <td>0.09</td>\n",
       "      <td>100.0</td>\n",
       "      <td>2.0</td>\n",
       "    </tr>\n",
       "    <tr>\n",
       "      <th>13</th>\n",
       "      <td>1.0</td>\n",
       "      <td>2.0</td>\n",
       "      <td>25.132251</td>\n",
       "      <td>0.58</td>\n",
       "      <td>0.58</td>\n",
       "      <td>0.09</td>\n",
       "      <td>100.0</td>\n",
       "      <td>1.0</td>\n",
       "    </tr>\n",
       "    <tr>\n",
       "      <th>11</th>\n",
       "      <td>6.0</td>\n",
       "      <td>1.0</td>\n",
       "      <td>5.372534</td>\n",
       "      <td>0.59</td>\n",
       "      <td>0.59</td>\n",
       "      <td>0.09</td>\n",
       "      <td>6.0</td>\n",
       "      <td>6.0</td>\n",
       "    </tr>\n",
       "    <tr>\n",
       "      <th>9</th>\n",
       "      <td>5.0</td>\n",
       "      <td>1.0</td>\n",
       "      <td>3.992875</td>\n",
       "      <td>0.60</td>\n",
       "      <td>0.60</td>\n",
       "      <td>0.09</td>\n",
       "      <td>5.0</td>\n",
       "      <td>5.0</td>\n",
       "    </tr>\n",
       "    <tr>\n",
       "      <th>7</th>\n",
       "      <td>4.0</td>\n",
       "      <td>1.0</td>\n",
       "      <td>2.668511</td>\n",
       "      <td>0.62</td>\n",
       "      <td>0.62</td>\n",
       "      <td>0.09</td>\n",
       "      <td>4.0</td>\n",
       "      <td>4.0</td>\n",
       "    </tr>\n",
       "    <tr>\n",
       "      <th>5</th>\n",
       "      <td>3.0</td>\n",
       "      <td>1.0</td>\n",
       "      <td>1.575685</td>\n",
       "      <td>0.64</td>\n",
       "      <td>0.64</td>\n",
       "      <td>0.09</td>\n",
       "      <td>3.0</td>\n",
       "      <td>3.0</td>\n",
       "    </tr>\n",
       "    <tr>\n",
       "      <th>3</th>\n",
       "      <td>2.0</td>\n",
       "      <td>1.0</td>\n",
       "      <td>1.014409</td>\n",
       "      <td>0.65</td>\n",
       "      <td>0.65</td>\n",
       "      <td>0.09</td>\n",
       "      <td>2.0</td>\n",
       "      <td>2.0</td>\n",
       "    </tr>\n",
       "    <tr>\n",
       "      <th>1</th>\n",
       "      <td>1.0</td>\n",
       "      <td>1.0</td>\n",
       "      <td>0.657208</td>\n",
       "      <td>0.67</td>\n",
       "      <td>0.67</td>\n",
       "      <td>0.09</td>\n",
       "      <td>1.0</td>\n",
       "      <td>1.0</td>\n",
       "    </tr>\n",
       "  </tbody>\n",
       "</table>\n",
       "</div>"
      ],
      "text/plain": [
       "     Id  Type   Time (s)  Train_Error  Validation_Error  Learning_Rate  \\\n",
       "23  6.0   2.0  94.600548         0.51              0.51           0.09   \n",
       "21  5.0   2.0  67.089173         0.52              0.52           0.09   \n",
       "19  4.0   2.0  54.577144         0.54              0.54           0.09   \n",
       "17  3.0   2.0  42.422431         0.55              0.55           0.09   \n",
       "15  2.0   2.0  33.561599         0.56              0.56           0.09   \n",
       "13  1.0   2.0  25.132251         0.58              0.58           0.09   \n",
       "11  6.0   1.0   5.372534         0.59              0.59           0.09   \n",
       "9   5.0   1.0   3.992875         0.60              0.60           0.09   \n",
       "7   4.0   1.0   2.668511         0.62              0.62           0.09   \n",
       "5   3.0   1.0   1.575685         0.64              0.64           0.09   \n",
       "3   2.0   1.0   1.014409         0.65              0.65           0.09   \n",
       "1   1.0   1.0   0.657208         0.67              0.67           0.09   \n",
       "\n",
       "    N_estimators  Max_Depth  \n",
       "23         100.0        6.0  \n",
       "21         100.0        5.0  \n",
       "19         100.0        4.0  \n",
       "17         100.0        3.0  \n",
       "15         100.0        2.0  \n",
       "13         100.0        1.0  \n",
       "11           6.0        6.0  \n",
       "9            5.0        5.0  \n",
       "7            4.0        4.0  \n",
       "5            3.0        3.0  \n",
       "3            2.0        2.0  \n",
       "1            1.0        1.0  "
      ]
     },
     "execution_count": 109,
     "metadata": {},
     "output_type": "execute_result"
    }
   ],
   "source": [
    "#I check the final log and which was the ID that obtained the least error in the validation, it will be this file that will be submitted\n",
    "log_final"
   ]
  },
  {
   "cell_type": "markdown",
   "metadata": {},
   "source": [
    "# XGBoost"
   ]
  },
  {
   "cell_type": "code",
   "execution_count": 110,
   "metadata": {},
   "outputs": [],
   "source": [
    "#Main Module\n",
    "from xgboost import XGBRegressor\n",
    "import timeit"
   ]
  },
  {
   "cell_type": "markdown",
   "metadata": {},
   "source": [
    "The same process that was used for GBoost will be used by XGBoost.\n",
    "There will be 2 tests.\n",
    "\n",
    "XGBoost takes longer to process than GBoost."
   ]
  },
  {
   "cell_type": "code",
   "execution_count": 111,
   "metadata": {
    "scrolled": false
   },
   "outputs": [
    {
     "name": "stdout",
     "output_type": "stream",
     "text": [
      "Round:  1\n",
      "Type Test:  1\n",
      "Fitting os dados... - 1/7\n",
      "[0]\tvalidation_0-rmse:6420.73\n",
      "Making predictions for Train Data.. - 2/7\n",
      "Making predictions for Validation Data.. - 3/7\n",
      "Making predictions for X_test.. - 4/7\n",
      "Making predictions for Test Data.. - 5/7\n",
      "Evaluation.. - 6/7\n",
      "Erro Train:  10.268797770556159\n",
      "Erro Val:  10.262462701174963\n",
      "Erro Test:  10.260829999391943\n",
      "N_estimators:  1\n",
      "Max_depth:  1\n",
      "GeneratingGerando log.. - 7/7\n",
      "--------------------------------------------------------------\n",
      "Round:  2\n",
      "Type Test:  1\n",
      "Fitting os dados... - 1/7\n",
      "[0]\tvalidation_0-rmse:6417.28\n",
      "[1]\tvalidation_0-rmse:5939.64\n",
      "Making predictions for Train Data.. - 2/7\n",
      "Making predictions for Validation Data.. - 3/7\n",
      "Making predictions for X_test.. - 4/7\n",
      "Making predictions for Test Data.. - 5/7\n",
      "Evaluation.. - 6/7\n",
      "Erro Train:  4.892926616260314\n",
      "Erro Val:  4.887059347897375\n",
      "Erro Test:  4.887735357118591\n",
      "N_estimators:  2\n",
      "Max_depth:  2\n",
      "GeneratingGerando log.. - 7/7\n",
      "--------------------------------------------------------------\n",
      "Round:  3\n",
      "Type Test:  1\n",
      "Fitting os dados... - 1/7\n",
      "[0]\tvalidation_0-rmse:6415.37\n",
      "[1]\tvalidation_0-rmse:5935.94\n",
      "[2]\tvalidation_0-rmse:5505.08\n",
      "Making predictions for Train Data.. - 2/7\n",
      "Making predictions for Validation Data.. - 3/7\n",
      "Making predictions for X_test.. - 4/7\n",
      "Making predictions for Test Data.. - 5/7\n",
      "Evaluation.. - 6/7\n",
      "Erro Train:  3.172240754247047\n",
      "Erro Val:  3.167219090303321\n",
      "Erro Test:  3.1675877563480754\n",
      "N_estimators:  3\n",
      "Max_depth:  3\n",
      "GeneratingGerando log.. - 7/7\n",
      "--------------------------------------------------------------\n",
      "Round:  4\n",
      "Type Test:  1\n",
      "Fitting os dados... - 1/7\n",
      "[0]\tvalidation_0-rmse:6412.94\n",
      "[1]\tvalidation_0-rmse:5931.19\n",
      "[2]\tvalidation_0-rmse:5498.77\n",
      "[3]\tvalidation_0-rmse:5111.9\n",
      "Making predictions for Train Data.. - 2/7\n",
      "Making predictions for Validation Data.. - 3/7\n",
      "Making predictions for X_test.. - 4/7\n",
      "Making predictions for Test Data.. - 5/7\n",
      "Evaluation.. - 6/7\n",
      "Erro Train:  2.309168154592012\n",
      "Erro Val:  2.3059290031949176\n",
      "Erro Test:  2.3044041615111617\n",
      "N_estimators:  4\n",
      "Max_depth:  4\n",
      "GeneratingGerando log.. - 7/7\n",
      "--------------------------------------------------------------\n",
      "Round:  5\n",
      "Type Test:  1\n",
      "Fitting os dados... - 1/7\n",
      "[0]\tvalidation_0-rmse:6409.97\n",
      "[1]\tvalidation_0-rmse:5926.59\n",
      "[2]\tvalidation_0-rmse:5492.24\n",
      "[3]\tvalidation_0-rmse:5102.56\n",
      "[4]\tvalidation_0-rmse:4756.29\n",
      "Making predictions for Train Data.. - 2/7\n",
      "Making predictions for Validation Data.. - 3/7\n",
      "Making predictions for X_test.. - 4/7\n",
      "Making predictions for Test Data.. - 5/7\n",
      "Evaluation.. - 6/7\n",
      "Erro Train:  1.8028128822046519\n",
      "Erro Val:  1.8013417432868124\n",
      "Erro Test:  1.7987598838491197\n",
      "N_estimators:  5\n",
      "Max_depth:  5\n",
      "GeneratingGerando log.. - 7/7\n",
      "--------------------------------------------------------------\n",
      "Round:  6\n",
      "Type Test:  1\n",
      "Fitting os dados... - 1/7\n",
      "[0]\tvalidation_0-rmse:6406.93\n",
      "[1]\tvalidation_0-rmse:5921.12\n",
      "[2]\tvalidation_0-rmse:5484.43\n",
      "[3]\tvalidation_0-rmse:5090.49\n",
      "[4]\tvalidation_0-rmse:4741.15\n",
      "[5]\tvalidation_0-rmse:4429.19\n",
      "Making predictions for Train Data.. - 2/7\n",
      "Making predictions for Validation Data.. - 3/7\n",
      "Making predictions for X_test.. - 4/7\n",
      "Making predictions for Test Data.. - 5/7\n",
      "Evaluation.. - 6/7\n",
      "Erro Train:  1.4678286451385372\n",
      "Erro Val:  1.4674760789256822\n",
      "Erro Test:  1.4645428896949413\n",
      "N_estimators:  6\n",
      "Max_depth:  6\n",
      "GeneratingGerando log.. - 7/7\n",
      "--------------------------------------------------------------\n",
      "Round:  1\n",
      "Type Test:  2\n",
      "Fitting os dados... - 1/7\n",
      "[0]\tvalidation_0-rmse:6420.73\n",
      "[1]\tvalidation_0-rmse:5959.3\n",
      "[2]\tvalidation_0-rmse:5547.96\n",
      "[3]\tvalidation_0-rmse:5182.89\n",
      "[4]\tvalidation_0-rmse:4859.71\n",
      "[5]\tvalidation_0-rmse:4575.03\n",
      "[6]\tvalidation_0-rmse:4325.22\n",
      "[7]\tvalidation_0-rmse:4106.87\n",
      "[8]\tvalidation_0-rmse:3916.76\n",
      "[9]\tvalidation_0-rmse:3741.63\n",
      "[10]\tvalidation_0-rmse:3590.21\n",
      "[11]\tvalidation_0-rmse:3459.84\n",
      "[12]\tvalidation_0-rmse:3345.76\n",
      "[13]\tvalidation_0-rmse:3247.25\n",
      "[14]\tvalidation_0-rmse:3161.6\n",
      "[15]\tvalidation_0-rmse:3087.77\n",
      "[16]\tvalidation_0-rmse:3023.99\n",
      "[17]\tvalidation_0-rmse:2969.42\n",
      "[18]\tvalidation_0-rmse:2922.33\n",
      "[19]\tvalidation_0-rmse:2882.09\n",
      "[20]\tvalidation_0-rmse:2847.42\n",
      "[21]\tvalidation_0-rmse:2818.43\n",
      "[22]\tvalidation_0-rmse:2792.41\n",
      "[23]\tvalidation_0-rmse:2770.7\n",
      "[24]\tvalidation_0-rmse:2752.64\n",
      "[25]\tvalidation_0-rmse:2736.23\n",
      "[26]\tvalidation_0-rmse:2722.64\n",
      "[27]\tvalidation_0-rmse:2709.22\n",
      "[28]\tvalidation_0-rmse:2698.87\n",
      "[29]\tvalidation_0-rmse:2689.9\n",
      "[30]\tvalidation_0-rmse:2680.54\n",
      "[31]\tvalidation_0-rmse:2672.78\n",
      "[32]\tvalidation_0-rmse:2666.5\n",
      "[33]\tvalidation_0-rmse:2660.87\n",
      "[34]\tvalidation_0-rmse:2655.36\n",
      "[35]\tvalidation_0-rmse:2650.72\n",
      "[36]\tvalidation_0-rmse:2646.3\n",
      "[37]\tvalidation_0-rmse:2642.37\n",
      "[38]\tvalidation_0-rmse:2638.73\n",
      "[39]\tvalidation_0-rmse:2635.22\n",
      "[40]\tvalidation_0-rmse:2631.97\n",
      "[41]\tvalidation_0-rmse:2628.79\n",
      "[42]\tvalidation_0-rmse:2625.94\n",
      "[43]\tvalidation_0-rmse:2623.27\n",
      "[44]\tvalidation_0-rmse:2620.54\n",
      "[45]\tvalidation_0-rmse:2617.86\n",
      "[46]\tvalidation_0-rmse:2615.47\n",
      "[47]\tvalidation_0-rmse:2613.28\n",
      "[48]\tvalidation_0-rmse:2610.98\n",
      "[49]\tvalidation_0-rmse:2608.92\n",
      "[50]\tvalidation_0-rmse:2606.79\n",
      "[51]\tvalidation_0-rmse:2604.7\n",
      "[52]\tvalidation_0-rmse:2602.8\n",
      "[53]\tvalidation_0-rmse:2601.03\n",
      "[54]\tvalidation_0-rmse:2599.31\n",
      "[55]\tvalidation_0-rmse:2597.62\n",
      "[56]\tvalidation_0-rmse:2595.98\n",
      "[57]\tvalidation_0-rmse:2594.51\n",
      "[58]\tvalidation_0-rmse:2592.86\n",
      "[59]\tvalidation_0-rmse:2591.41\n",
      "[60]\tvalidation_0-rmse:2589.97\n",
      "[61]\tvalidation_0-rmse:2588.55\n",
      "[62]\tvalidation_0-rmse:2587.13\n",
      "[63]\tvalidation_0-rmse:2585.92\n",
      "[64]\tvalidation_0-rmse:2584.71\n",
      "[65]\tvalidation_0-rmse:2583.45\n",
      "[66]\tvalidation_0-rmse:2582.23\n",
      "[67]\tvalidation_0-rmse:2581.08\n",
      "[68]\tvalidation_0-rmse:2580.01\n",
      "[69]\tvalidation_0-rmse:2578.93\n",
      "[70]\tvalidation_0-rmse:2577.9\n",
      "[71]\tvalidation_0-rmse:2576.96\n",
      "[72]\tvalidation_0-rmse:2575.94\n",
      "[73]\tvalidation_0-rmse:2575.02\n",
      "[74]\tvalidation_0-rmse:2574.13\n",
      "[75]\tvalidation_0-rmse:2573.28\n",
      "[76]\tvalidation_0-rmse:2572.43\n",
      "[77]\tvalidation_0-rmse:2571.52\n",
      "[78]\tvalidation_0-rmse:2570.7\n",
      "[79]\tvalidation_0-rmse:2569.97\n",
      "[80]\tvalidation_0-rmse:2569.22\n",
      "[81]\tvalidation_0-rmse:2568.5\n",
      "[82]\tvalidation_0-rmse:2567.75\n",
      "[83]\tvalidation_0-rmse:2567.04\n",
      "[84]\tvalidation_0-rmse:2566.4\n",
      "[85]\tvalidation_0-rmse:2565.61\n",
      "[86]\tvalidation_0-rmse:2565\n",
      "[87]\tvalidation_0-rmse:2564.37\n",
      "[88]\tvalidation_0-rmse:2563.78\n",
      "[89]\tvalidation_0-rmse:2563.13\n",
      "[90]\tvalidation_0-rmse:2562.48\n",
      "[91]\tvalidation_0-rmse:2561.84\n",
      "[92]\tvalidation_0-rmse:2561.25\n",
      "[93]\tvalidation_0-rmse:2560.68\n",
      "[94]\tvalidation_0-rmse:2560.15\n",
      "[95]\tvalidation_0-rmse:2559.63\n",
      "[96]\tvalidation_0-rmse:2559.08\n",
      "[97]\tvalidation_0-rmse:2558.57\n",
      "[98]\tvalidation_0-rmse:2558.02\n",
      "[99]\tvalidation_0-rmse:2557.5\n",
      "Making predictions for Train Data.. - 2/7\n",
      "Making predictions for Validation Data.. - 3/7\n",
      "Making predictions for X_test.. - 4/7\n",
      "Making predictions for Test Data.. - 5/7\n",
      "Evaluation.. - 6/7\n",
      "Erro Train:  0.5499695287213078\n",
      "Erro Val:  0.5500704872977812\n",
      "Erro Test:  0.5485868347345473\n",
      "N_estimators:  100\n",
      "Max_depth:  1\n",
      "GeneratingGerando log.. - 7/7\n",
      "--------------------------------------------------------------\n",
      "Round:  2\n",
      "Type Test:  2\n",
      "Fitting os dados... - 1/7\n",
      "[0]\tvalidation_0-rmse:6417.28\n",
      "[1]\tvalidation_0-rmse:5939.64\n",
      "[2]\tvalidation_0-rmse:5512.68\n",
      "[3]\tvalidation_0-rmse:5132.45\n",
      "[4]\tvalidation_0-rmse:4794.81\n",
      "[5]\tvalidation_0-rmse:4496.29\n",
      "[6]\tvalidation_0-rmse:4233.31\n",
      "[7]\tvalidation_0-rmse:4006.45\n",
      "[8]\tvalidation_0-rmse:3808.56\n",
      "[9]\tvalidation_0-rmse:3630.97\n",
      "[10]\tvalidation_0-rmse:3483.47\n",
      "[11]\tvalidation_0-rmse:3349.96\n",
      "[12]\tvalidation_0-rmse:3236.62\n",
      "[13]\tvalidation_0-rmse:3137.71\n",
      "[14]\tvalidation_0-rmse:3053.29\n",
      "[15]\tvalidation_0-rmse:2986.06\n",
      "[16]\tvalidation_0-rmse:2923.94\n",
      "[17]\tvalidation_0-rmse:2871.15\n",
      "[18]\tvalidation_0-rmse:2826.46\n",
      "[19]\tvalidation_0-rmse:2785.9\n",
      "[20]\tvalidation_0-rmse:2753.26\n",
      "[21]\tvalidation_0-rmse:2725.27\n",
      "[22]\tvalidation_0-rmse:2701.08\n",
      "[23]\tvalidation_0-rmse:2680.97\n",
      "[24]\tvalidation_0-rmse:2663.59\n",
      "[25]\tvalidation_0-rmse:2648.8\n",
      "[26]\tvalidation_0-rmse:2635.98\n",
      "[27]\tvalidation_0-rmse:2622.04\n",
      "[28]\tvalidation_0-rmse:2612.18\n",
      "[29]\tvalidation_0-rmse:2604.05\n",
      "[30]\tvalidation_0-rmse:2594.55\n",
      "[31]\tvalidation_0-rmse:2587.6\n",
      "[32]\tvalidation_0-rmse:2579.81\n",
      "[33]\tvalidation_0-rmse:2573.8\n",
      "[34]\tvalidation_0-rmse:2567.88\n",
      "[35]\tvalidation_0-rmse:2562.38\n",
      "[36]\tvalidation_0-rmse:2558.77\n",
      "[37]\tvalidation_0-rmse:2555.27\n",
      "[38]\tvalidation_0-rmse:2551.2\n",
      "[39]\tvalidation_0-rmse:2547.95\n",
      "[40]\tvalidation_0-rmse:2545.2\n",
      "[41]\tvalidation_0-rmse:2541.65\n"
     ]
    },
    {
     "name": "stdout",
     "output_type": "stream",
     "text": [
      "[42]\tvalidation_0-rmse:2537.69\n",
      "[43]\tvalidation_0-rmse:2534.76\n",
      "[44]\tvalidation_0-rmse:2532.98\n",
      "[45]\tvalidation_0-rmse:2531.11\n",
      "[46]\tvalidation_0-rmse:2528.77\n",
      "[47]\tvalidation_0-rmse:2526.81\n",
      "[48]\tvalidation_0-rmse:2524.85\n",
      "[49]\tvalidation_0-rmse:2522.47\n",
      "[50]\tvalidation_0-rmse:2520.32\n",
      "[51]\tvalidation_0-rmse:2519.06\n",
      "[52]\tvalidation_0-rmse:2517.14\n",
      "[53]\tvalidation_0-rmse:2515.54\n",
      "[54]\tvalidation_0-rmse:2514.08\n",
      "[55]\tvalidation_0-rmse:2512.34\n",
      "[56]\tvalidation_0-rmse:2511.34\n",
      "[57]\tvalidation_0-rmse:2510.14\n",
      "[58]\tvalidation_0-rmse:2508.53\n",
      "[59]\tvalidation_0-rmse:2506.89\n",
      "[60]\tvalidation_0-rmse:2505.86\n",
      "[61]\tvalidation_0-rmse:2505.01\n",
      "[62]\tvalidation_0-rmse:2502.59\n",
      "[63]\tvalidation_0-rmse:2501.08\n",
      "[64]\tvalidation_0-rmse:2500.05\n",
      "[65]\tvalidation_0-rmse:2498.68\n",
      "[66]\tvalidation_0-rmse:2497.26\n",
      "[67]\tvalidation_0-rmse:2496.35\n",
      "[68]\tvalidation_0-rmse:2495.62\n",
      "[69]\tvalidation_0-rmse:2493.64\n",
      "[70]\tvalidation_0-rmse:2492.71\n",
      "[71]\tvalidation_0-rmse:2491.55\n",
      "[72]\tvalidation_0-rmse:2490.59\n",
      "[73]\tvalidation_0-rmse:2489.74\n",
      "[74]\tvalidation_0-rmse:2489.12\n",
      "[75]\tvalidation_0-rmse:2488.59\n",
      "[76]\tvalidation_0-rmse:2488\n",
      "[77]\tvalidation_0-rmse:2486.89\n",
      "[78]\tvalidation_0-rmse:2485.34\n",
      "[79]\tvalidation_0-rmse:2484.12\n",
      "[80]\tvalidation_0-rmse:2483.32\n",
      "[81]\tvalidation_0-rmse:2482.7\n",
      "[82]\tvalidation_0-rmse:2481.9\n",
      "[83]\tvalidation_0-rmse:2481.13\n",
      "[84]\tvalidation_0-rmse:2480.17\n",
      "[85]\tvalidation_0-rmse:2479.71\n",
      "[86]\tvalidation_0-rmse:2478.87\n",
      "[87]\tvalidation_0-rmse:2477.92\n",
      "[88]\tvalidation_0-rmse:2477.52\n",
      "[89]\tvalidation_0-rmse:2476.81\n",
      "[90]\tvalidation_0-rmse:2476.14\n",
      "[91]\tvalidation_0-rmse:2475.44\n",
      "[92]\tvalidation_0-rmse:2474.74\n",
      "[93]\tvalidation_0-rmse:2473.95\n",
      "[94]\tvalidation_0-rmse:2472.99\n",
      "[95]\tvalidation_0-rmse:2472.61\n",
      "[96]\tvalidation_0-rmse:2471.63\n",
      "[97]\tvalidation_0-rmse:2470.94\n",
      "[98]\tvalidation_0-rmse:2470.23\n",
      "[99]\tvalidation_0-rmse:2469.4\n",
      "Making predictions for Train Data.. - 2/7\n",
      "Making predictions for Validation Data.. - 3/7\n",
      "Making predictions for X_test.. - 4/7\n",
      "Making predictions for Test Data.. - 5/7\n",
      "Evaluation.. - 6/7\n",
      "Erro Train:  0.5391147094904595\n",
      "Erro Val:  0.5393223587429619\n",
      "Erro Test:  0.5379922321333374\n",
      "N_estimators:  100\n",
      "Max_depth:  2\n",
      "GeneratingGerando log.. - 7/7\n",
      "--------------------------------------------------------------\n",
      "Round:  3\n",
      "Type Test:  2\n",
      "Fitting os dados... - 1/7\n",
      "[0]\tvalidation_0-rmse:6415.37\n",
      "[1]\tvalidation_0-rmse:5935.94\n",
      "[2]\tvalidation_0-rmse:5505.08\n",
      "[3]\tvalidation_0-rmse:5120.52\n",
      "[4]\tvalidation_0-rmse:4778.68\n",
      "[5]\tvalidation_0-rmse:4475.91\n",
      "[6]\tvalidation_0-rmse:4208.82\n",
      "[7]\tvalidation_0-rmse:3979.89\n",
      "[8]\tvalidation_0-rmse:3778.1\n",
      "[9]\tvalidation_0-rmse:3596.59\n",
      "[10]\tvalidation_0-rmse:3442.97\n",
      "[11]\tvalidation_0-rmse:3306.42\n",
      "[12]\tvalidation_0-rmse:3191.18\n",
      "[13]\tvalidation_0-rmse:3088.86\n",
      "[14]\tvalidation_0-rmse:3001.8\n",
      "[15]\tvalidation_0-rmse:2931.76\n",
      "[16]\tvalidation_0-rmse:2867.06\n",
      "[17]\tvalidation_0-rmse:2812.23\n",
      "[18]\tvalidation_0-rmse:2764.78\n",
      "[19]\tvalidation_0-rmse:2724.63\n",
      "[20]\tvalidation_0-rmse:2690.69\n",
      "[21]\tvalidation_0-rmse:2661.19\n",
      "[22]\tvalidation_0-rmse:2636.82\n",
      "[23]\tvalidation_0-rmse:2616.11\n",
      "[24]\tvalidation_0-rmse:2598.69\n",
      "[25]\tvalidation_0-rmse:2583.4\n",
      "[26]\tvalidation_0-rmse:2569.8\n",
      "[27]\tvalidation_0-rmse:2558.91\n",
      "[28]\tvalidation_0-rmse:2549.54\n",
      "[29]\tvalidation_0-rmse:2540.83\n",
      "[30]\tvalidation_0-rmse:2533\n",
      "[31]\tvalidation_0-rmse:2526.66\n",
      "[32]\tvalidation_0-rmse:2521.36\n",
      "[33]\tvalidation_0-rmse:2516.16\n",
      "[34]\tvalidation_0-rmse:2512.01\n",
      "[35]\tvalidation_0-rmse:2508.13\n",
      "[36]\tvalidation_0-rmse:2504.58\n",
      "[37]\tvalidation_0-rmse:2501.15\n",
      "[38]\tvalidation_0-rmse:2498.34\n",
      "[39]\tvalidation_0-rmse:2495.43\n",
      "[40]\tvalidation_0-rmse:2492.7\n",
      "[41]\tvalidation_0-rmse:2489.26\n",
      "[42]\tvalidation_0-rmse:2487.27\n",
      "[43]\tvalidation_0-rmse:2484.92\n",
      "[44]\tvalidation_0-rmse:2482.62\n",
      "[45]\tvalidation_0-rmse:2480.53\n",
      "[46]\tvalidation_0-rmse:2478.77\n",
      "[47]\tvalidation_0-rmse:2475.75\n",
      "[48]\tvalidation_0-rmse:2474.06\n",
      "[49]\tvalidation_0-rmse:2472.5\n",
      "[50]\tvalidation_0-rmse:2470.69\n",
      "[51]\tvalidation_0-rmse:2469.09\n",
      "[52]\tvalidation_0-rmse:2461.86\n",
      "[53]\tvalidation_0-rmse:2460.73\n",
      "[54]\tvalidation_0-rmse:2458.62\n",
      "[55]\tvalidation_0-rmse:2453.96\n",
      "[56]\tvalidation_0-rmse:2449.7\n",
      "[57]\tvalidation_0-rmse:2447\n",
      "[58]\tvalidation_0-rmse:2444.72\n",
      "[59]\tvalidation_0-rmse:2443.34\n",
      "[60]\tvalidation_0-rmse:2441.44\n",
      "[61]\tvalidation_0-rmse:2439.61\n",
      "[62]\tvalidation_0-rmse:2438.94\n",
      "[63]\tvalidation_0-rmse:2436.06\n",
      "[64]\tvalidation_0-rmse:2434.87\n",
      "[65]\tvalidation_0-rmse:2433.93\n",
      "[66]\tvalidation_0-rmse:2432.32\n",
      "[67]\tvalidation_0-rmse:2429.94\n",
      "[68]\tvalidation_0-rmse:2429.4\n",
      "[69]\tvalidation_0-rmse:2428.32\n",
      "[70]\tvalidation_0-rmse:2427.19\n",
      "[71]\tvalidation_0-rmse:2425.16\n",
      "[72]\tvalidation_0-rmse:2423.67\n",
      "[73]\tvalidation_0-rmse:2421.23\n",
      "[74]\tvalidation_0-rmse:2420.57\n",
      "[75]\tvalidation_0-rmse:2416.71\n",
      "[76]\tvalidation_0-rmse:2414.93\n",
      "[77]\tvalidation_0-rmse:2413.16\n",
      "[78]\tvalidation_0-rmse:2411.89\n",
      "[79]\tvalidation_0-rmse:2410.57\n",
      "[80]\tvalidation_0-rmse:2408.99\n",
      "[81]\tvalidation_0-rmse:2408.45\n",
      "[82]\tvalidation_0-rmse:2405.1\n",
      "[83]\tvalidation_0-rmse:2401.09\n",
      "[84]\tvalidation_0-rmse:2400.27\n",
      "[85]\tvalidation_0-rmse:2397.94\n",
      "[86]\tvalidation_0-rmse:2396.71\n",
      "[87]\tvalidation_0-rmse:2395.6\n",
      "[88]\tvalidation_0-rmse:2393.73\n",
      "[89]\tvalidation_0-rmse:2391.77\n",
      "[90]\tvalidation_0-rmse:2390.46\n",
      "[91]\tvalidation_0-rmse:2389.53\n",
      "[92]\tvalidation_0-rmse:2388.37\n",
      "[93]\tvalidation_0-rmse:2386.59\n",
      "[94]\tvalidation_0-rmse:2383.27\n",
      "[95]\tvalidation_0-rmse:2382.8\n",
      "[96]\tvalidation_0-rmse:2381.77\n",
      "[97]\tvalidation_0-rmse:2379.64\n",
      "[98]\tvalidation_0-rmse:2376.87\n",
      "[99]\tvalidation_0-rmse:2375.87\n",
      "Making predictions for Train Data.. - 2/7\n",
      "Making predictions for Validation Data.. - 3/7\n",
      "Making predictions for X_test.. - 4/7\n",
      "Making predictions for Test Data.. - 5/7\n",
      "Evaluation.. - 6/7\n",
      "Erro Train:  0.5275360385144721\n",
      "Erro Val:  0.5277015085710698\n",
      "Erro Test:  0.526500432542045\n",
      "N_estimators:  100\n",
      "Max_depth:  3\n",
      "GeneratingGerando log.. - 7/7\n",
      "--------------------------------------------------------------\n",
      "Round:  4\n",
      "Type Test:  2\n",
      "Fitting os dados... - 1/7\n",
      "[0]\tvalidation_0-rmse:6412.94\n",
      "[1]\tvalidation_0-rmse:5931.19\n",
      "[2]\tvalidation_0-rmse:5498.77\n",
      "[3]\tvalidation_0-rmse:5111.9\n",
      "[4]\tvalidation_0-rmse:4767.71\n",
      "[5]\tvalidation_0-rmse:4462.38\n",
      "[6]\tvalidation_0-rmse:4192.71\n",
      "[7]\tvalidation_0-rmse:3961\n",
      "[8]\tvalidation_0-rmse:3754.93\n",
      "[9]\tvalidation_0-rmse:3570.92\n",
      "[10]\tvalidation_0-rmse:3412.53\n",
      "[11]\tvalidation_0-rmse:3273.2\n",
      "[12]\tvalidation_0-rmse:3156.28\n",
      "[13]\tvalidation_0-rmse:3051.83\n",
      "[14]\tvalidation_0-rmse:2962.66\n",
      "[15]\tvalidation_0-rmse:2891.87\n",
      "[16]\tvalidation_0-rmse:2825.74\n",
      "[17]\tvalidation_0-rmse:2769.38\n",
      "[18]\tvalidation_0-rmse:2721.67\n",
      "[19]\tvalidation_0-rmse:2681.8\n",
      "[20]\tvalidation_0-rmse:2647.22\n",
      "[21]\tvalidation_0-rmse:2616.02\n",
      "[22]\tvalidation_0-rmse:2590.71\n",
      "[23]\tvalidation_0-rmse:2569.06\n",
      "[24]\tvalidation_0-rmse:2548.77\n",
      "[25]\tvalidation_0-rmse:2533.37\n",
      "[26]\tvalidation_0-rmse:2519.58\n",
      "[27]\tvalidation_0-rmse:2508.5\n",
      "[28]\tvalidation_0-rmse:2498.54\n",
      "[29]\tvalidation_0-rmse:2490.4\n",
      "[30]\tvalidation_0-rmse:2482.35\n",
      "[31]\tvalidation_0-rmse:2474.98\n",
      "[32]\tvalidation_0-rmse:2469.06\n",
      "[33]\tvalidation_0-rmse:2462.09\n",
      "[34]\tvalidation_0-rmse:2455.77\n",
      "[35]\tvalidation_0-rmse:2450.8\n",
      "[36]\tvalidation_0-rmse:2446.15\n",
      "[37]\tvalidation_0-rmse:2441.97\n",
      "[38]\tvalidation_0-rmse:2438.03\n",
      "[39]\tvalidation_0-rmse:2435.66\n",
      "[40]\tvalidation_0-rmse:2433.37\n",
      "[41]\tvalidation_0-rmse:2430.16\n",
      "[42]\tvalidation_0-rmse:2427.3\n",
      "[43]\tvalidation_0-rmse:2420.46\n",
      "[44]\tvalidation_0-rmse:2416.61\n",
      "[45]\tvalidation_0-rmse:2408.46\n",
      "[46]\tvalidation_0-rmse:2406.18\n",
      "[47]\tvalidation_0-rmse:2400.45\n",
      "[48]\tvalidation_0-rmse:2398.91\n",
      "[49]\tvalidation_0-rmse:2390.92\n",
      "[50]\tvalidation_0-rmse:2387.72\n",
      "[51]\tvalidation_0-rmse:2386.31\n",
      "[52]\tvalidation_0-rmse:2379.51\n",
      "[53]\tvalidation_0-rmse:2377.37\n",
      "[54]\tvalidation_0-rmse:2375.52\n",
      "[55]\tvalidation_0-rmse:2372.96\n",
      "[56]\tvalidation_0-rmse:2367.7\n",
      "[57]\tvalidation_0-rmse:2366.09\n",
      "[58]\tvalidation_0-rmse:2364.36\n",
      "[59]\tvalidation_0-rmse:2360.08\n",
      "[60]\tvalidation_0-rmse:2356.98\n",
      "[61]\tvalidation_0-rmse:2352.56\n",
      "[62]\tvalidation_0-rmse:2350.87\n",
      "[63]\tvalidation_0-rmse:2345.69\n",
      "[64]\tvalidation_0-rmse:2343.28\n",
      "[65]\tvalidation_0-rmse:2342.15\n",
      "[66]\tvalidation_0-rmse:2338.31\n",
      "[67]\tvalidation_0-rmse:2335.41\n",
      "[68]\tvalidation_0-rmse:2334.58\n",
      "[69]\tvalidation_0-rmse:2332.74\n",
      "[70]\tvalidation_0-rmse:2329.54\n",
      "[71]\tvalidation_0-rmse:2328.13\n",
      "[72]\tvalidation_0-rmse:2324.63\n",
      "[73]\tvalidation_0-rmse:2322.7\n",
      "[74]\tvalidation_0-rmse:2319.79\n",
      "[75]\tvalidation_0-rmse:2316.24\n",
      "[76]\tvalidation_0-rmse:2313.9\n",
      "[77]\tvalidation_0-rmse:2310.61\n",
      "[78]\tvalidation_0-rmse:2309.2\n"
     ]
    },
    {
     "name": "stdout",
     "output_type": "stream",
     "text": [
      "[79]\tvalidation_0-rmse:2306.24\n",
      "[80]\tvalidation_0-rmse:2305.02\n",
      "[81]\tvalidation_0-rmse:2302.38\n",
      "[82]\tvalidation_0-rmse:2297.65\n",
      "[83]\tvalidation_0-rmse:2295.15\n",
      "[84]\tvalidation_0-rmse:2293.84\n",
      "[85]\tvalidation_0-rmse:2289.22\n",
      "[86]\tvalidation_0-rmse:2287.76\n",
      "[87]\tvalidation_0-rmse:2285.4\n",
      "[88]\tvalidation_0-rmse:2284.52\n",
      "[89]\tvalidation_0-rmse:2281.33\n",
      "[90]\tvalidation_0-rmse:2278.45\n",
      "[91]\tvalidation_0-rmse:2275.23\n",
      "[92]\tvalidation_0-rmse:2271.03\n",
      "[93]\tvalidation_0-rmse:2269.4\n",
      "[94]\tvalidation_0-rmse:2268.3\n",
      "[95]\tvalidation_0-rmse:2266.24\n",
      "[96]\tvalidation_0-rmse:2263.8\n",
      "[97]\tvalidation_0-rmse:2260.76\n",
      "[98]\tvalidation_0-rmse:2259.05\n",
      "[99]\tvalidation_0-rmse:2257.78\n",
      "Making predictions for Train Data.. - 2/7\n",
      "Making predictions for Validation Data.. - 3/7\n",
      "Making predictions for X_test.. - 4/7\n",
      "Making predictions for Test Data.. - 5/7\n",
      "Evaluation.. - 6/7\n",
      "Erro Train:  0.5157532073681057\n",
      "Erro Val:  0.5158369821611187\n",
      "Erro Test:  0.5148499216853544\n",
      "N_estimators:  100\n",
      "Max_depth:  4\n",
      "GeneratingGerando log.. - 7/7\n",
      "--------------------------------------------------------------\n",
      "Round:  5\n",
      "Type Test:  2\n",
      "Fitting os dados... - 1/7\n",
      "[0]\tvalidation_0-rmse:6409.97\n",
      "[1]\tvalidation_0-rmse:5926.59\n",
      "[2]\tvalidation_0-rmse:5492.24\n",
      "[3]\tvalidation_0-rmse:5102.56\n",
      "[4]\tvalidation_0-rmse:4756.29\n",
      "[5]\tvalidation_0-rmse:4447.84\n",
      "[6]\tvalidation_0-rmse:4175.5\n",
      "[7]\tvalidation_0-rmse:3941.66\n",
      "[8]\tvalidation_0-rmse:3731.8\n",
      "[9]\tvalidation_0-rmse:3544.14\n",
      "[10]\tvalidation_0-rmse:3382.68\n",
      "[11]\tvalidation_0-rmse:3240.74\n",
      "[12]\tvalidation_0-rmse:3122.02\n",
      "[13]\tvalidation_0-rmse:3014.89\n",
      "[14]\tvalidation_0-rmse:2922.77\n",
      "[15]\tvalidation_0-rmse:2849.99\n",
      "[16]\tvalidation_0-rmse:2782.6\n",
      "[17]\tvalidation_0-rmse:2724.5\n",
      "[18]\tvalidation_0-rmse:2673\n",
      "[19]\tvalidation_0-rmse:2630.41\n",
      "[20]\tvalidation_0-rmse:2591.22\n",
      "[21]\tvalidation_0-rmse:2561.12\n",
      "[22]\tvalidation_0-rmse:2533.07\n",
      "[23]\tvalidation_0-rmse:2509.28\n",
      "[24]\tvalidation_0-rmse:2490.22\n",
      "[25]\tvalidation_0-rmse:2474.42\n",
      "[26]\tvalidation_0-rmse:2459.65\n",
      "[27]\tvalidation_0-rmse:2447.09\n",
      "[28]\tvalidation_0-rmse:2434.63\n",
      "[29]\tvalidation_0-rmse:2424.18\n",
      "[30]\tvalidation_0-rmse:2414.99\n",
      "[31]\tvalidation_0-rmse:2407\n",
      "[32]\tvalidation_0-rmse:2399.85\n",
      "[33]\tvalidation_0-rmse:2393.4\n",
      "[34]\tvalidation_0-rmse:2386.34\n",
      "[35]\tvalidation_0-rmse:2379.96\n",
      "[36]\tvalidation_0-rmse:2369.62\n",
      "[37]\tvalidation_0-rmse:2364.48\n",
      "[38]\tvalidation_0-rmse:2358.37\n",
      "[39]\tvalidation_0-rmse:2349.88\n",
      "[40]\tvalidation_0-rmse:2345.05\n",
      "[41]\tvalidation_0-rmse:2341.38\n",
      "[42]\tvalidation_0-rmse:2337.85\n",
      "[43]\tvalidation_0-rmse:2334.22\n",
      "[44]\tvalidation_0-rmse:2329.55\n",
      "[45]\tvalidation_0-rmse:2322.07\n",
      "[46]\tvalidation_0-rmse:2317.99\n",
      "[47]\tvalidation_0-rmse:2306.37\n",
      "[48]\tvalidation_0-rmse:2302.17\n",
      "[49]\tvalidation_0-rmse:2294.76\n",
      "[50]\tvalidation_0-rmse:2291.82\n",
      "[51]\tvalidation_0-rmse:2288.43\n",
      "[52]\tvalidation_0-rmse:2281.82\n",
      "[53]\tvalidation_0-rmse:2272.41\n",
      "[54]\tvalidation_0-rmse:2264.54\n",
      "[55]\tvalidation_0-rmse:2254.9\n",
      "[56]\tvalidation_0-rmse:2252.43\n",
      "[57]\tvalidation_0-rmse:2244.13\n",
      "[58]\tvalidation_0-rmse:2241.33\n",
      "[59]\tvalidation_0-rmse:2232.73\n",
      "[60]\tvalidation_0-rmse:2229.67\n",
      "[61]\tvalidation_0-rmse:2226.52\n",
      "[62]\tvalidation_0-rmse:2223.29\n",
      "[63]\tvalidation_0-rmse:2221.67\n",
      "[64]\tvalidation_0-rmse:2216.69\n",
      "[65]\tvalidation_0-rmse:2211.42\n",
      "[66]\tvalidation_0-rmse:2204.93\n",
      "[67]\tvalidation_0-rmse:2201.99\n",
      "[68]\tvalidation_0-rmse:2199.36\n",
      "[69]\tvalidation_0-rmse:2196.8\n",
      "[70]\tvalidation_0-rmse:2192.08\n",
      "[71]\tvalidation_0-rmse:2190.73\n",
      "[72]\tvalidation_0-rmse:2187.62\n",
      "[73]\tvalidation_0-rmse:2185.54\n",
      "[74]\tvalidation_0-rmse:2181.96\n",
      "[75]\tvalidation_0-rmse:2174.19\n",
      "[76]\tvalidation_0-rmse:2170.5\n",
      "[77]\tvalidation_0-rmse:2166.43\n",
      "[78]\tvalidation_0-rmse:2160.51\n",
      "[79]\tvalidation_0-rmse:2156.57\n",
      "[80]\tvalidation_0-rmse:2152.83\n",
      "[81]\tvalidation_0-rmse:2151.19\n",
      "[82]\tvalidation_0-rmse:2149.87\n",
      "[83]\tvalidation_0-rmse:2146.76\n",
      "[84]\tvalidation_0-rmse:2144.76\n",
      "[85]\tvalidation_0-rmse:2137.56\n",
      "[86]\tvalidation_0-rmse:2136.25\n",
      "[87]\tvalidation_0-rmse:2134.27\n",
      "[88]\tvalidation_0-rmse:2127.81\n",
      "[89]\tvalidation_0-rmse:2125.46\n",
      "[90]\tvalidation_0-rmse:2124.15\n",
      "[91]\tvalidation_0-rmse:2120.13\n",
      "[92]\tvalidation_0-rmse:2113.95\n",
      "[93]\tvalidation_0-rmse:2107.98\n",
      "[94]\tvalidation_0-rmse:2101.99\n",
      "[95]\tvalidation_0-rmse:2100.91\n",
      "[96]\tvalidation_0-rmse:2099.08\n",
      "[97]\tvalidation_0-rmse:2095.88\n",
      "[98]\tvalidation_0-rmse:2090.95\n",
      "[99]\tvalidation_0-rmse:2088.87\n",
      "Making predictions for Train Data.. - 2/7\n",
      "Making predictions for Validation Data.. - 3/7\n",
      "Making predictions for X_test.. - 4/7\n",
      "Making predictions for Test Data.. - 5/7\n",
      "Evaluation.. - 6/7\n",
      "Erro Train:  0.5022902665167117\n",
      "Erro Val:  0.5023595827857921\n",
      "Erro Test:  0.5015139683202452\n",
      "N_estimators:  100\n",
      "Max_depth:  5\n",
      "GeneratingGerando log.. - 7/7\n",
      "--------------------------------------------------------------\n",
      "Round:  6\n",
      "Type Test:  2\n",
      "Fitting os dados... - 1/7\n",
      "[0]\tvalidation_0-rmse:6406.93\n",
      "[1]\tvalidation_0-rmse:5921.12\n",
      "[2]\tvalidation_0-rmse:5484.43\n",
      "[3]\tvalidation_0-rmse:5090.49\n",
      "[4]\tvalidation_0-rmse:4741.15\n",
      "[5]\tvalidation_0-rmse:4429.19\n",
      "[6]\tvalidation_0-rmse:4154.17\n",
      "[7]\tvalidation_0-rmse:3916.84\n",
      "[8]\tvalidation_0-rmse:3701.68\n",
      "[9]\tvalidation_0-rmse:3512.51\n",
      "[10]\tvalidation_0-rmse:3347.57\n",
      "[11]\tvalidation_0-rmse:3202.06\n",
      "[12]\tvalidation_0-rmse:3080.64\n",
      "[13]\tvalidation_0-rmse:2969.78\n",
      "[14]\tvalidation_0-rmse:2874.41\n",
      "[15]\tvalidation_0-rmse:2798.23\n",
      "[16]\tvalidation_0-rmse:2727.8\n",
      "[17]\tvalidation_0-rmse:2664.38\n",
      "[18]\tvalidation_0-rmse:2601.49\n",
      "[19]\tvalidation_0-rmse:2556.84\n",
      "[20]\tvalidation_0-rmse:2518.66\n",
      "[21]\tvalidation_0-rmse:2485.82\n",
      "[22]\tvalidation_0-rmse:2454.08\n",
      "[23]\tvalidation_0-rmse:2428.26\n",
      "[24]\tvalidation_0-rmse:2405.65\n",
      "[25]\tvalidation_0-rmse:2388.35\n",
      "[26]\tvalidation_0-rmse:2372.01\n",
      "[27]\tvalidation_0-rmse:2356.63\n",
      "[28]\tvalidation_0-rmse:2342.05\n",
      "[29]\tvalidation_0-rmse:2328\n",
      "[30]\tvalidation_0-rmse:2317.23\n",
      "[31]\tvalidation_0-rmse:2310.07\n",
      "[32]\tvalidation_0-rmse:2302.72\n",
      "[33]\tvalidation_0-rmse:2293.98\n",
      "[34]\tvalidation_0-rmse:2288.02\n",
      "[35]\tvalidation_0-rmse:2275.99\n",
      "[36]\tvalidation_0-rmse:2268.4\n",
      "[37]\tvalidation_0-rmse:2262.71\n",
      "[38]\tvalidation_0-rmse:2255.79\n",
      "[39]\tvalidation_0-rmse:2245.94\n",
      "[40]\tvalidation_0-rmse:2242.01\n",
      "[41]\tvalidation_0-rmse:2236.71\n",
      "[42]\tvalidation_0-rmse:2233\n",
      "[43]\tvalidation_0-rmse:2229.32\n",
      "[44]\tvalidation_0-rmse:2221.83\n",
      "[45]\tvalidation_0-rmse:2216.61\n",
      "[46]\tvalidation_0-rmse:2211.77\n",
      "[47]\tvalidation_0-rmse:2201.05\n",
      "[48]\tvalidation_0-rmse:2195.54\n",
      "[49]\tvalidation_0-rmse:2188.11\n",
      "[50]\tvalidation_0-rmse:2185.76\n",
      "[51]\tvalidation_0-rmse:2182.73\n",
      "[52]\tvalidation_0-rmse:2179.46\n",
      "[53]\tvalidation_0-rmse:2168.51\n",
      "[54]\tvalidation_0-rmse:2165.36\n",
      "[55]\tvalidation_0-rmse:2160.44\n",
      "[56]\tvalidation_0-rmse:2152.03\n",
      "[57]\tvalidation_0-rmse:2141.09\n",
      "[58]\tvalidation_0-rmse:2136.85\n",
      "[59]\tvalidation_0-rmse:2131.84\n",
      "[60]\tvalidation_0-rmse:2126.03\n",
      "[61]\tvalidation_0-rmse:2122.12\n",
      "[62]\tvalidation_0-rmse:2112.86\n",
      "[63]\tvalidation_0-rmse:2105.29\n",
      "[64]\tvalidation_0-rmse:2102.1\n",
      "[65]\tvalidation_0-rmse:2097.49\n",
      "[66]\tvalidation_0-rmse:2089.24\n",
      "[67]\tvalidation_0-rmse:2085.31\n",
      "[68]\tvalidation_0-rmse:2073.1\n",
      "[69]\tvalidation_0-rmse:2071.02\n",
      "[70]\tvalidation_0-rmse:2059.64\n",
      "[71]\tvalidation_0-rmse:2053.06\n",
      "[72]\tvalidation_0-rmse:2046.64\n",
      "[73]\tvalidation_0-rmse:2037.72\n",
      "[74]\tvalidation_0-rmse:2029.41\n",
      "[75]\tvalidation_0-rmse:2015.78\n",
      "[76]\tvalidation_0-rmse:2013.73\n",
      "[77]\tvalidation_0-rmse:2009.57\n",
      "[78]\tvalidation_0-rmse:2000.9\n",
      "[79]\tvalidation_0-rmse:1994.94\n",
      "[80]\tvalidation_0-rmse:1992.09\n",
      "[81]\tvalidation_0-rmse:1990.39\n",
      "[82]\tvalidation_0-rmse:1985.31\n",
      "[83]\tvalidation_0-rmse:1979.33\n",
      "[84]\tvalidation_0-rmse:1971.35\n",
      "[85]\tvalidation_0-rmse:1963.69\n",
      "[86]\tvalidation_0-rmse:1960.2\n",
      "[87]\tvalidation_0-rmse:1955.68\n",
      "[88]\tvalidation_0-rmse:1952.56\n",
      "[89]\tvalidation_0-rmse:1946.88\n",
      "[90]\tvalidation_0-rmse:1941.51\n",
      "[91]\tvalidation_0-rmse:1932.9\n",
      "[92]\tvalidation_0-rmse:1919.37\n",
      "[93]\tvalidation_0-rmse:1917.1\n",
      "[94]\tvalidation_0-rmse:1912.2\n",
      "[95]\tvalidation_0-rmse:1907.96\n",
      "[96]\tvalidation_0-rmse:1907.08\n",
      "[97]\tvalidation_0-rmse:1903.36\n",
      "[98]\tvalidation_0-rmse:1896.55\n",
      "[99]\tvalidation_0-rmse:1893.91\n",
      "Making predictions for Train Data.. - 2/7\n",
      "Making predictions for Validation Data.. - 3/7\n",
      "Making predictions for X_test.. - 4/7\n",
      "Making predictions for Test Data.. - 5/7\n",
      "Evaluation.. - 6/7\n",
      "Erro Train:  0.48739377637138376\n",
      "Erro Val:  0.4874545119202173\n",
      "Erro Test:  0.48663514671749464\n",
      "N_estimators:  100\n",
      "Max_depth:  6\n",
      "GeneratingGerando log.. - 7/7\n",
      "--------------------------------------------------------------\n",
      "Final Log generated!\n"
     ]
    }
   ],
   "source": [
    "#Using the huber metric, it is less sensitive to outliers\n",
    "# The code will be run n_rounds for a better evaluation of the parameters of n_estimators and max_depth\n",
    "# There will be two tests: the first the n_estimators and the max_depth range together and in the second the n_estimators\n",
    "#permance in the default (100) and max_depth only varies\n",
    "\n",
    "\n",
    "#TEST 01 - Varying n_estimators and max_depth\n",
    "#TEST 02 - Only changing max_depth\n",
    "\n",
    "#Number of rounds\n",
    "n_rounds = 6\n",
    "\n",
    "#N_estimators\n",
    "n_manual_estimators = 1\n",
    "\n",
    "#Max_depth\n",
    "n_manual_max_depth = 1\n",
    "\n",
    "#Learning rate\n",
    "n_manual_learning_rate = 0.09\n",
    "\n",
    "#Type Test\n",
    "test_types = 3 \n",
    "\n",
    "rmspe_errors = []\n",
    "log_final = pd.DataFrame()\n",
    "\n",
    "#Rounds\n",
    "for type_test in range(1, test_types):\n",
    "    n_manual_max_depth = 1 \n",
    "    for x in range(1, n_rounds+1):\n",
    "        print('Round: ', x)\n",
    "        print('Type Test: ', type_test)\n",
    "        \n",
    "        if (type_test == 2):\n",
    "            n_manual_estimators = 100            \n",
    "\n",
    "        \n",
    "        xgboost_regressor = XGBRegressor(learning_rate=n_manual_learning_rate, \n",
    "                                     n_estimators=n_manual_estimators,\n",
    "                                     max_depth=n_manual_max_depth, min_child_weight=0,\n",
    "                                     gamma=0.0002, subsample=0.8,\n",
    "                                     colsample_bytree=0.8,\n",
    "                                     objective='reg:linear', nthread=4,\n",
    "                                     scale_pos_weight=1, seed=27,\n",
    "                                     reg_alpha=0.00006, random_state=42)\n",
    "        \n",
    "        \n",
    "        #Fitting the data\n",
    "        print(\"Fitting os dados... - 1/7\")\n",
    "        start = timeit.default_timer()\n",
    "        xgboost_regressor.fit(X_train, y_train, eval_set=[(X_val, y_val)])\n",
    "\n",
    "\n",
    "        #Prediction for X_train\n",
    "        print('Making predictions for Train Data.. - 2/7')\n",
    "        y_pred_xgboost_train = xgboost_regressor.predict(X_train)\n",
    "\n",
    "        #Prediction for X_val\n",
    "        print('Making predictions for Validation Data.. - 3/7')\n",
    "        y_pred_xgboost_val = xgboost_regressor.predict(X_val)\n",
    "\n",
    "        #Prediction for X_test\n",
    "        print('Making predictions for X_test.. - 4/7')\n",
    "        y_pred_xgboost_test_set = xgboost_regressor.predict(X_test)\n",
    "\n",
    "        #Prediction for Test Data\n",
    "        print('Making predictions for Test Data.. - 5/7')\n",
    "        y_pred_xgboost_test = xgboost_regressor.predict(test_data_new.values)\n",
    "\n",
    "        #Evaluation\n",
    "        print('Evaluation.. - 6/7')\n",
    "        erro_calc_train = calc_rmsep(y_train, y_pred_xgboost_train) \n",
    "        erro_calc_val = calc_rmsep(y_val, y_pred_xgboost_val) \n",
    "        erro_calc_test = calc_rmsep(y_test, y_pred_xgboost_test_set) \n",
    "        rmspe_errors.append([])\n",
    "        print('Erro Train: ', erro_calc_train)  \n",
    "        print('Erro Val: ', erro_calc_val)   \n",
    "        print('Erro Test: ', erro_calc_test)  \n",
    "        print('N_estimators: ', n_manual_estimators)   \n",
    "        print('Max_depth: ', n_manual_max_depth)      \n",
    "        stop = timeit.default_timer()\n",
    "        time = stop - start\n",
    "\n",
    "\n",
    "        #Info for Log Final\n",
    "        print('GeneratingGerando log.. - 7/7')\n",
    "        rmspe_errors.append([x, type_test, time, round(erro_calc_train, 2), round(erro_calc_val, 2), round(erro_calc_test, 2), n_manual_learning_rate, n_manual_estimators, n_manual_max_depth])\n",
    "\n",
    "        print('--------------------------------------------------------------')\n",
    "\n",
    "        #Varying values\n",
    "        if (type_test == 1):\n",
    "            n_manual_estimators += 1\n",
    "            n_manual_max_depth += 1\n",
    "        else:\n",
    "            n_manual_max_depth += 1\n",
    "            \n",
    "\n",
    "\n",
    "            \n",
    "\n",
    "        #Arquivo para submeter\n",
    "        submission = pd.read_csv('datasets/sample_submission.csv')\n",
    "        submission['Sales'] = y_pred_xgboost_test\n",
    "        submission.to_csv('datasets/submissions/submission_next_Xgboost_Test0'+str(type_test)+'_'+str(x)+'.csv', index=False)\n",
    "\n",
    "#Gerando pandas\n",
    "log_final = pd.DataFrame(rmspe_errors, columns=['Id','Type','Time (s)','Train_Error','Validation_Error', 'Test_Error','Learning_Rate','N_estimators','Max_Depth'])\n",
    "log_final = log_final.sort_values('Validation_Error')\n",
    "log_final = log_final[:(n_rounds)*2]\n",
    "log_final.to_csv('datasets/submissions/log_final_xgboost.csv', index=False)\n",
    "print('Final Log generated!')"
   ]
  },
  {
   "cell_type": "code",
   "execution_count": 112,
   "metadata": {},
   "outputs": [
    {
     "data": {
      "text/html": [
       "<div>\n",
       "<style scoped>\n",
       "    .dataframe tbody tr th:only-of-type {\n",
       "        vertical-align: middle;\n",
       "    }\n",
       "\n",
       "    .dataframe tbody tr th {\n",
       "        vertical-align: top;\n",
       "    }\n",
       "\n",
       "    .dataframe thead th {\n",
       "        text-align: right;\n",
       "    }\n",
       "</style>\n",
       "<table border=\"1\" class=\"dataframe\">\n",
       "  <thead>\n",
       "    <tr style=\"text-align: right;\">\n",
       "      <th></th>\n",
       "      <th>Id</th>\n",
       "      <th>Type</th>\n",
       "      <th>Time (s)</th>\n",
       "      <th>Train_Error</th>\n",
       "      <th>Validation_Error</th>\n",
       "      <th>Test_Error</th>\n",
       "      <th>Learning_Rate</th>\n",
       "      <th>N_estimators</th>\n",
       "      <th>Max_Depth</th>\n",
       "    </tr>\n",
       "  </thead>\n",
       "  <tbody>\n",
       "    <tr>\n",
       "      <th>23</th>\n",
       "      <td>6.0</td>\n",
       "      <td>2.0</td>\n",
       "      <td>45.569471</td>\n",
       "      <td>0.49</td>\n",
       "      <td>0.49</td>\n",
       "      <td>0.49</td>\n",
       "      <td>0.09</td>\n",
       "      <td>100.0</td>\n",
       "      <td>6.0</td>\n",
       "    </tr>\n",
       "    <tr>\n",
       "      <th>21</th>\n",
       "      <td>5.0</td>\n",
       "      <td>2.0</td>\n",
       "      <td>33.813575</td>\n",
       "      <td>0.50</td>\n",
       "      <td>0.50</td>\n",
       "      <td>0.50</td>\n",
       "      <td>0.09</td>\n",
       "      <td>100.0</td>\n",
       "      <td>5.0</td>\n",
       "    </tr>\n",
       "    <tr>\n",
       "      <th>19</th>\n",
       "      <td>4.0</td>\n",
       "      <td>2.0</td>\n",
       "      <td>23.485023</td>\n",
       "      <td>0.52</td>\n",
       "      <td>0.52</td>\n",
       "      <td>0.51</td>\n",
       "      <td>0.09</td>\n",
       "      <td>100.0</td>\n",
       "      <td>4.0</td>\n",
       "    </tr>\n",
       "    <tr>\n",
       "      <th>17</th>\n",
       "      <td>3.0</td>\n",
       "      <td>2.0</td>\n",
       "      <td>22.607012</td>\n",
       "      <td>0.53</td>\n",
       "      <td>0.53</td>\n",
       "      <td>0.53</td>\n",
       "      <td>0.09</td>\n",
       "      <td>100.0</td>\n",
       "      <td>3.0</td>\n",
       "    </tr>\n",
       "    <tr>\n",
       "      <th>15</th>\n",
       "      <td>2.0</td>\n",
       "      <td>2.0</td>\n",
       "      <td>19.692549</td>\n",
       "      <td>0.54</td>\n",
       "      <td>0.54</td>\n",
       "      <td>0.54</td>\n",
       "      <td>0.09</td>\n",
       "      <td>100.0</td>\n",
       "      <td>2.0</td>\n",
       "    </tr>\n",
       "    <tr>\n",
       "      <th>13</th>\n",
       "      <td>1.0</td>\n",
       "      <td>2.0</td>\n",
       "      <td>12.819949</td>\n",
       "      <td>0.55</td>\n",
       "      <td>0.55</td>\n",
       "      <td>0.55</td>\n",
       "      <td>0.09</td>\n",
       "      <td>100.0</td>\n",
       "      <td>1.0</td>\n",
       "    </tr>\n",
       "    <tr>\n",
       "      <th>11</th>\n",
       "      <td>6.0</td>\n",
       "      <td>1.0</td>\n",
       "      <td>2.107379</td>\n",
       "      <td>1.47</td>\n",
       "      <td>1.47</td>\n",
       "      <td>1.46</td>\n",
       "      <td>0.09</td>\n",
       "      <td>6.0</td>\n",
       "      <td>6.0</td>\n",
       "    </tr>\n",
       "    <tr>\n",
       "      <th>9</th>\n",
       "      <td>5.0</td>\n",
       "      <td>1.0</td>\n",
       "      <td>1.706043</td>\n",
       "      <td>1.80</td>\n",
       "      <td>1.80</td>\n",
       "      <td>1.80</td>\n",
       "      <td>0.09</td>\n",
       "      <td>5.0</td>\n",
       "      <td>5.0</td>\n",
       "    </tr>\n",
       "    <tr>\n",
       "      <th>7</th>\n",
       "      <td>4.0</td>\n",
       "      <td>1.0</td>\n",
       "      <td>1.294500</td>\n",
       "      <td>2.31</td>\n",
       "      <td>2.31</td>\n",
       "      <td>2.30</td>\n",
       "      <td>0.09</td>\n",
       "      <td>4.0</td>\n",
       "      <td>4.0</td>\n",
       "    </tr>\n",
       "    <tr>\n",
       "      <th>5</th>\n",
       "      <td>3.0</td>\n",
       "      <td>1.0</td>\n",
       "      <td>1.096106</td>\n",
       "      <td>3.17</td>\n",
       "      <td>3.17</td>\n",
       "      <td>3.17</td>\n",
       "      <td>0.09</td>\n",
       "      <td>3.0</td>\n",
       "      <td>3.0</td>\n",
       "    </tr>\n",
       "    <tr>\n",
       "      <th>3</th>\n",
       "      <td>2.0</td>\n",
       "      <td>1.0</td>\n",
       "      <td>0.888702</td>\n",
       "      <td>4.89</td>\n",
       "      <td>4.89</td>\n",
       "      <td>4.89</td>\n",
       "      <td>0.09</td>\n",
       "      <td>2.0</td>\n",
       "      <td>2.0</td>\n",
       "    </tr>\n",
       "    <tr>\n",
       "      <th>1</th>\n",
       "      <td>1.0</td>\n",
       "      <td>1.0</td>\n",
       "      <td>0.724035</td>\n",
       "      <td>10.27</td>\n",
       "      <td>10.26</td>\n",
       "      <td>10.26</td>\n",
       "      <td>0.09</td>\n",
       "      <td>1.0</td>\n",
       "      <td>1.0</td>\n",
       "    </tr>\n",
       "  </tbody>\n",
       "</table>\n",
       "</div>"
      ],
      "text/plain": [
       "     Id  Type   Time (s)  Train_Error  Validation_Error  Test_Error  \\\n",
       "23  6.0   2.0  45.569471         0.49              0.49        0.49   \n",
       "21  5.0   2.0  33.813575         0.50              0.50        0.50   \n",
       "19  4.0   2.0  23.485023         0.52              0.52        0.51   \n",
       "17  3.0   2.0  22.607012         0.53              0.53        0.53   \n",
       "15  2.0   2.0  19.692549         0.54              0.54        0.54   \n",
       "13  1.0   2.0  12.819949         0.55              0.55        0.55   \n",
       "11  6.0   1.0   2.107379         1.47              1.47        1.46   \n",
       "9   5.0   1.0   1.706043         1.80              1.80        1.80   \n",
       "7   4.0   1.0   1.294500         2.31              2.31        2.30   \n",
       "5   3.0   1.0   1.096106         3.17              3.17        3.17   \n",
       "3   2.0   1.0   0.888702         4.89              4.89        4.89   \n",
       "1   1.0   1.0   0.724035        10.27             10.26       10.26   \n",
       "\n",
       "    Learning_Rate  N_estimators  Max_Depth  \n",
       "23           0.09         100.0        6.0  \n",
       "21           0.09         100.0        5.0  \n",
       "19           0.09         100.0        4.0  \n",
       "17           0.09         100.0        3.0  \n",
       "15           0.09         100.0        2.0  \n",
       "13           0.09         100.0        1.0  \n",
       "11           0.09           6.0        6.0  \n",
       "9            0.09           5.0        5.0  \n",
       "7            0.09           4.0        4.0  \n",
       "5            0.09           3.0        3.0  \n",
       "3            0.09           2.0        2.0  \n",
       "1            0.09           1.0        1.0  "
      ]
     },
     "execution_count": 112,
     "metadata": {},
     "output_type": "execute_result"
    }
   ],
   "source": [
    "#I check the final log and which was the ID that obtained the least error in the validation, it will be this file that will be submitted\n",
    "log_final"
   ]
  },
  {
   "cell_type": "markdown",
   "metadata": {},
   "source": [
    "# Conclusion"
   ]
  },
  {
   "cell_type": "markdown",
   "metadata": {},
   "source": [
    "Using predictive methods is of great value, whether to try to find next month's sales or to determine which class a flower belongs to only by evaluating petal width and length and sepal width and length.\n",
    "\n",
    "Use multiple __machine learning__ methods allows to achieve a better result for the solution of a certain problem, as the theorem says: __'No free lunch'__.\n",
    "\n",
    "In this challenge the following methods were used:__DecisioTree__, __RandomForest__, __GBoost__ e __XGBoost__, all regression oriented.\n",
    "\n",
    "The methods __GBoost__ e __XGBoost__ achieved better results compared to the other two, \n",
    "obviously these are two extremely powerful methods, mainly the __XGBoost__, designed to be highly effective, as described in the documentation.\n",
    "\n",
    "Therefore, for challenges similar to that faced here, start with __XGBoost__ maybe it's a good alternative."
   ]
  }
 ],
 "metadata": {
  "kernelspec": {
   "display_name": "Python 3",
   "language": "python",
   "name": "python3"
  },
  "language_info": {
   "codemirror_mode": {
    "name": "ipython",
    "version": 3
   },
   "file_extension": ".py",
   "mimetype": "text/x-python",
   "name": "python",
   "nbconvert_exporter": "python",
   "pygments_lexer": "ipython3",
   "version": "3.6.8"
  }
 },
 "nbformat": 4,
 "nbformat_minor": 2
}
